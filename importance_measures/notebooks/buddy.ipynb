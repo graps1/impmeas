{
 "cells": [
  {
   "cell_type": "code",
   "execution_count": 1,
   "metadata": {},
   "outputs": [],
   "source": [
    "import time\n",
    "import random\n",
    "\n",
    "def random_k_sat(n,m,k):\n",
    "    # n variables, m clauses, k literals per clause\n",
    "    clauses = []\n",
    "    for _ in range(m):\n",
    "        ret = []\n",
    "        for _ in range(k):\n",
    "            v = random.randrange(n)\n",
    "            polarity = random.randint(0, 1)\n",
    "            ret.append((polarity, v)) \n",
    "        clauses.append(ret)\n",
    "    vars = [ f\"x{idx}\" for idx in range(n)]\n",
    "    return vars, \"&\".join(\n",
    "        \"(\" + \"|\".join(\n",
    "            vars[idx] if pol==1 else \"~\" + vars[idx] for \n",
    "            (pol, idx) in cl\n",
    "        ) + \")\" for cl in clauses) \n",
    "\n",
    "def time_op(func):\n",
    "    def wrapper(*args, **kwargs):\n",
    "        start = time.time()\n",
    "        val = func(*args, **kwargs)\n",
    "        dt_s = (time.time() - start)\n",
    "        print(f\"[{dt_s*1000:010.4f} ms / {dt_s:04.4f} s / {dt_s/60:02.4f} min] {func.__name__}\") # {args}\")\n",
    "        return val\n",
    "    return wrapper\n",
    "\n",
    "vars, formula = random_k_sat(5,5,4)"
   ]
  },
  {
   "cell_type": "code",
   "execution_count": 2,
   "metadata": {},
   "outputs": [
    {
     "name": "stdout",
     "output_type": "stream",
     "text": [
      "16.0\n",
      "bdd size = 3 with satcount = 28.0\n",
      "=== COMPUTING BLAME for x0 in BDD with size 3 ===\n",
      "k 0 size g 2 size ell 2 d result 0.2500 max increase possible 0.3750\n",
      "k 1 size g 4 size ell 4 d result 0.1250 max increase possible 0.1250\n",
      "k 2 size g 3 size ell 3 d result 0.0312 max increase possible 0.0469\n",
      "=== DONE ===\n",
      "[00000.4516 ms / 0.0005 s / 0.0000 min] blame\n",
      "[00000.0157 ms / 0.0000 s / 0.0000 min] influence\n",
      "[00000.0691 ms / 0.0001 s / 0.0000 min] omega\n",
      "influence 0.25000, 0.40625 <= blame <= 0.40625, blame diff 0.00000\n"
     ]
    }
   ],
   "source": [
    "import importance_measures.bdds as bdd \n",
    "with bdd.Buddy(vars) as model:\n",
    "    x = \"x0\"\n",
    "    f = model.node(formula)\n",
    "    f0 = f & model.node(x) # .restrict(~model.node(x))\n",
    "    print(f0.satcount) # this is wrong!!!\n",
    "    print(f\"bdd size = {f.nodecount} with satcount = {f.satcount}\")\n",
    "    # f.dump(\"f.pdf\")\n",
    "    blame, ub = time_op(bdd.blame)(f, x, rho=lambda x: 2**-x, cutoff=0.01, debug=True)\n",
    "    infl = time_op(bdd.influence)(f, x)\n",
    "    g = time_op(bdd.omega)(f)\n",
    "    print(f\"influence {infl:.5f}, {blame:.5f} <= blame <= {ub:.5f}, blame diff {ub-blame:.5f}\")"
   ]
  },
  {
   "cell_type": "code",
   "execution_count": 3,
   "metadata": {},
   "outputs": [
    {
     "name": "stdout",
     "output_type": "stream",
     "text": [
      "satcount = 14\n",
      "[01006.4905 ms / 1.0065 s / 0.0168 min] influence\n"
     ]
    }
   ],
   "source": [
    "import importance_measures.sharpSAT as ssat\n",
    "f = ssat.Formula.parse(formula)\n",
    "x = \"x0\"\n",
    "solver = ssat.SharpSAT()\n",
    "print(f\"satcount = {solver.satcount(f)}\")\n",
    "infl = (time_op)(ssat.influence)(f, x, solver)\n",
    "blame, ub = time_op(ssat.blame)(f, x, solver, rho=lambda x: 2**-x, cutoff=0.01, debug=True)\n",
    "print(f\"influence {infl:.5f}, {blame:.5f} <= blame <= {ub:.5f}, blame diff {ub-blame:.5f}\")"
   ]
  },
  {
   "cell_type": "code",
   "execution_count": null,
   "metadata": {},
   "outputs": [],
   "source": []
  },
  {
   "cell_type": "code",
   "execution_count": null,
   "metadata": {},
   "outputs": [],
   "source": []
  }
 ],
 "metadata": {
  "kernelspec": {
   "display_name": "Python 3.10.4 64-bit",
   "language": "python",
   "name": "python3"
  },
  "language_info": {
   "codemirror_mode": {
    "name": "ipython",
    "version": 3
   },
   "file_extension": ".py",
   "mimetype": "text/x-python",
   "name": "python",
   "nbconvert_exporter": "python",
   "pygments_lexer": "ipython3",
   "version": "3.10.4"
  },
  "orig_nbformat": 4,
  "vscode": {
   "interpreter": {
    "hash": "916dbcbb3f70747c44a77c7bcd40155683ae19c65e1c03b4aa3499c5328201f1"
   }
  }
 },
 "nbformat": 4,
 "nbformat_minor": 2
}
