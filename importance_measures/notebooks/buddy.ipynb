{
 "cells": [
  {
   "cell_type": "code",
   "execution_count": 10,
   "metadata": {},
   "outputs": [
    {
     "name": "stdout",
     "output_type": "stream",
     "text": [
      "bdd size = 223\n",
      "=== COMPUTING BLAME for x0 in BDD with size 223 ===\n",
      "k 0 size g 173 size ell 173 d result 0.3087 max increase possible 0.3456\n",
      "k 1 size g 449 size ell 509 d result 0.1293 max increase possible 0.1081\n",
      "k 2 size g 335 size ell 383 d result 0.0211 max increase possible 0.0435\n",
      "k 3 size g 252 size ell 95 d result 0.0003 max increase possible 0.0216\n",
      "=== DONE ===\n",
      "[00702.3072 ms / 0.7023 s / 0.0117 min] blame\n",
      "[00000.1357 ms / 0.0001 s / 0.0000 min] influence\n",
      "[00015.1331 ms / 0.0151 s / 0.0003 min] omega\n",
      "influence 0.30872, 0.45950 <= blame <= 0.45950, blame diff 0.00000\n"
     ]
    }
   ],
   "source": [
    "from importance_measures.bdds import Buddy, BuddyNode, influence, blame, omega\n",
    "import time\n",
    "import random\n",
    "\n",
    "def random_k_sat(n,m,k):\n",
    "    # n variables, m clauses, k literals per clause\n",
    "    clauses = []\n",
    "    for _ in range(m):\n",
    "        ret = []\n",
    "        for _ in range(k):\n",
    "            v = random.randrange(n)\n",
    "            polarity = random.randint(0, 1)\n",
    "            ret.append((polarity, v)) \n",
    "        clauses.append(ret)\n",
    "    vars = [ f\"x{idx}\" for idx in range(n)]\n",
    "    return vars, \"&\".join(\n",
    "        \"(\" + \"|\".join(\n",
    "            vars[idx] if pol==1 else \"~\" + vars[idx] for \n",
    "            (pol, idx) in cl\n",
    "        ) + \")\" for cl in clauses) \n",
    "\n",
    "def time_op(func):\n",
    "    def wrapper(*args, **kwargs):\n",
    "        start = time.time()\n",
    "        val = func(*args, **kwargs)\n",
    "        dt_s = (time.time() - start)\n",
    "        print(f\"[{dt_s*1000:010.4f} ms / {dt_s:04.4f} s / {dt_s/60:02.4f} min] {func.__name__}\") # {args}\")\n",
    "        return val\n",
    "    return wrapper\n",
    "\n",
    "vars, formula = random_k_sat(15,15,4)\n",
    "# print(\"formula\")\n",
    "# print(\"=\"*10)\n",
    "# print(\"&\\n\".join(formula.split(\"&\")))\n",
    "# print(\"=\"*10)\n",
    "with Buddy(vars) as model:\n",
    "    x = vars[0]\n",
    "    f = model.node(formula)\n",
    "    # f = model.node(\"x0 | (x1 & x2)\")\n",
    "    print(f\"bdd size = {f.nodecount}\")\n",
    "    f.dump(\"f.pdf\")\n",
    "    blame, ub = time_op(blame)(f, x, rho=lambda x: 2**-x, cutoff=0.01, debug=True)\n",
    "    infl = time_op(influence)(f, x)\n",
    "    g = time_op(omega)(f)\n",
    "    # g.dump(\"omega.pdf\")\n",
    "    print(f\"influence {infl:0.5f}, {blame:.5f} <= blame <= {ub:.5f}, blame diff {ub-blame:.5f}\")"
   ]
  },
  {
   "cell_type": "code",
   "execution_count": null,
   "metadata": {},
   "outputs": [],
   "source": []
  }
 ],
 "metadata": {
  "kernelspec": {
   "display_name": "Python 3.10.4 64-bit",
   "language": "python",
   "name": "python3"
  },
  "language_info": {
   "codemirror_mode": {
    "name": "ipython",
    "version": 3
   },
   "file_extension": ".py",
   "mimetype": "text/x-python",
   "name": "python",
   "nbconvert_exporter": "python",
   "pygments_lexer": "ipython3",
   "version": "3.10.4"
  },
  "orig_nbformat": 4,
  "vscode": {
   "interpreter": {
    "hash": "916dbcbb3f70747c44a77c7bcd40155683ae19c65e1c03b4aa3499c5328201f1"
   }
  }
 },
 "nbformat": 4,
 "nbformat_minor": 2
}
