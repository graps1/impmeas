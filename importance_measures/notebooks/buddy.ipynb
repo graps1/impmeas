{
 "cells": [
  {
   "cell_type": "code",
   "execution_count": 24,
   "metadata": {},
   "outputs": [
    {
     "name": "stdout",
     "output_type": "stream",
     "text": [
      "[00000.0331 ms] u_influence(<importance_measures.bdds.buddy.BuddyNode object at 0x7f0cf4a6e770>, 'x')\n",
      "[00003.8686 ms] u_blame(<importance_measures.bdds.buddy.BuddyNode object at 0x7f0cf4a6e770>, 'x')\n",
      "[00000.4508 ms] omega(<importance_measures.bdds.buddy.BuddyNode object at 0x7f0cf4a6e770>,)\n",
      "influence 0.25000, blame 0.41667\n"
     ]
    }
   ],
   "source": [
    "from importance_measures.bdds import Buddy, u_influence, u_blame, omega\n",
    "import time\n",
    "\n",
    "def time_op(func):\n",
    "    def wrapper(*args, **kwargs):\n",
    "        dt = time.time()\n",
    "        val = func(*args, **kwargs)\n",
    "        print(f\"[{(time.time() - dt)*1000:010.4f} ms] {func.__name__}{args}\")\n",
    "        return val\n",
    "    return wrapper\n",
    "\n",
    "timed_u_influence = time_op(u_influence)\n",
    "timed_u_blame = time_op(u_blame)\n",
    "timed_omega = time_op(omega)\n",
    "\n",
    "with Buddy([\"x\", \"y\", \"z\", \"v\"]) as model:\n",
    "    f = model.node(\"x | ~(~y & ~z)\")\n",
    "    infl = timed_u_influence(f, \"x\") * 2**-model.varcount\n",
    "    blame = timed_u_blame(f, \"x\") * 2**-model.varcount\n",
    "    g = timed_omega(f)\n",
    "    print(f\"influence {infl:0.5f}, blame {blame:.5f}\")"
   ]
  },
  {
   "cell_type": "code",
   "execution_count": null,
   "metadata": {},
   "outputs": [],
   "source": []
  },
  {
   "cell_type": "code",
   "execution_count": null,
   "metadata": {},
   "outputs": [],
   "source": []
  }
 ],
 "metadata": {
  "kernelspec": {
   "display_name": "Python 3.10.4 64-bit",
   "language": "python",
   "name": "python3"
  },
  "language_info": {
   "codemirror_mode": {
    "name": "ipython",
    "version": 3
   },
   "file_extension": ".py",
   "mimetype": "text/x-python",
   "name": "python",
   "nbconvert_exporter": "python",
   "pygments_lexer": "ipython3",
   "version": "3.10.4"
  },
  "orig_nbformat": 4,
  "vscode": {
   "interpreter": {
    "hash": "916dbcbb3f70747c44a77c7bcd40155683ae19c65e1c03b4aa3499c5328201f1"
   }
  }
 },
 "nbformat": 4,
 "nbformat_minor": 2
}
