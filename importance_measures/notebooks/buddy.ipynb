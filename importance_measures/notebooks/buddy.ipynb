{
 "cells": [
  {
   "cell_type": "code",
   "execution_count": 1,
   "metadata": {},
   "outputs": [],
   "source": [
    "import time\n",
    "import random\n",
    "\n",
    "def random_k_sat(n,m,k):\n",
    "    # n variables, m clauses, k literals per clause\n",
    "    clauses = []\n",
    "    for _ in range(m):\n",
    "        ret = []\n",
    "        for _ in range(k):\n",
    "            v = random.randrange(n) + 1\n",
    "            polarity = random.randint(0, 1)\n",
    "            ret.append( (2*polarity-1)*v ) \n",
    "        clauses.append(ret)\n",
    "    return clauses, \"&\".join(\n",
    "        \"(\" + \"|\".join(\n",
    "            f\"x{idx}\" if idx>0 else \"~\" + f\"x{-idx}\" for \n",
    "            idx in cl\n",
    "        ) + \")\" for cl in clauses) \n",
    "\n",
    "def time_op(func):\n",
    "    def wrapper(*args, **kwargs):\n",
    "        start = time.time()\n",
    "        val = func(*args, **kwargs)\n",
    "        dt_s = (time.time() - start)\n",
    "        print(f\"[{dt_s*1000:010.4f} ms / {dt_s:04.4f} s / {dt_s/60:02.4f} min] {func.__name__}\")\n",
    "        return val\n",
    "    return wrapper\n",
    "\n",
    "n,m,k = 10, 15, 3\n",
    "cnf, formula = random_k_sat(n,m,k)\n",
    "vars = [f\"x{idx+1}\" for idx in range(n)]"
   ]
  },
  {
   "cell_type": "code",
   "execution_count": 4,
   "metadata": {},
   "outputs": [
    {
     "name": "stdout",
     "output_type": "stream",
     "text": [
      "[00004.2145 ms / 0.0042 s / 0.0001 min] satcount\n",
      "SharpSAT-TD satcount = 103\n",
      "[00000.3424 ms / 0.0003 s / 0.0000 min] node\n",
      "[00000.1590 ms / 0.0002 s / 0.0000 min] <lambda>\n",
      "BDD satcount = 103.0\n"
     ]
    }
   ],
   "source": [
    "import importance_measures.sharpSAT as ssat\n",
    "import importance_measures.bdds as bdd\n",
    "\n",
    "solver = ssat.SharpSAT(decot=0.0002)\n",
    "satcount_sharpsat = time_op(solver.satcount)(cnf)\n",
    "print(f\"SharpSAT-TD satcount = {satcount_sharpsat}\")\n",
    "\n",
    "with bdd.Buddy(vars) as model:\n",
    "    f = time_op(model.node)(formula)\n",
    "    satcount_bdd = time_op(lambda : f.satcount)()\n",
    "    print(f\"BDD satcount = {satcount_bdd}\")"
   ]
  },
  {
   "cell_type": "code",
   "execution_count": 5,
   "metadata": {},
   "outputs": [
    {
     "name": "stdout",
     "output_type": "stream",
     "text": [
      "[00000.3436 ms / 0.0003 s / 0.0000 min] node\n",
      "bdd size = 43 with satcount = 103.0\n",
      "=== COMPUTING BLAME for x1 in BDD with size 43 ===\n",
      "k 0 size g 22 size ell 22 d result 0.1152 max increase possible 0.4424\n",
      "k 1 size g 69 size ell 66 d result 0.1050 max increase possible 0.2249\n",
      "k 2 size g 74 size ell 77 d result 0.0980 max increase possible 0.0952\n",
      "stopped earlier because cannot improve above cutoff.\n",
      "current value: 0.3182, can be increased by 0.0952 <= 0.1000.\n",
      "=== DONE ===\n",
      "[00004.2369 ms / 0.0042 s / 0.0001 min] blame\n",
      "[00000.0181 ms / 0.0000 s / 0.0000 min] influence\n",
      "influence 0.11523, 0.31820 <= blame <= 0.41341, blame diff 0.09521\n"
     ]
    }
   ],
   "source": [
    "import importance_measures.bdds as bdd \n",
    "with bdd.Buddy(vars) as model:\n",
    "    x = \"x1\"\n",
    "    f = (time_op)(model.node)(formula)\n",
    "    print(f\"bdd size = {f.nodecount} with satcount = {f.satcount}\")\n",
    "    # f.dump(\"f.pdf\")\n",
    "    blame, ub = time_op(bdd.blame)(f, x, rho=lambda x: 1/(x+1), cutoff=0.1, debug=True)\n",
    "    infl = time_op(bdd.influence)(f, x)\n",
    "    # g = time_op(bdd.omega)(f)\n",
    "    print(f\"influence {infl:.5f}, {blame:.5f} <= blame <= {ub:.5f}, blame diff {ub-blame:.5f}\")"
   ]
  },
  {
   "cell_type": "code",
   "execution_count": 6,
   "metadata": {},
   "outputs": [
    {
     "name": "stdout",
     "output_type": "stream",
     "text": [
      "[00000.2847 ms / 0.0003 s / 0.0000 min] parse\n",
      "[01008.8382 ms / 1.0088 s / 0.0168 min] influence\n",
      "=== COMPUTING BLAME for x1 in Formula with size 428 ===\n",
      "k 0 size g 1735 size ell 1744 d result 0.1152 max increase possible 0.4424\n",
      "k 1 size g 17395 size ell 19140 d result 0.1050 max increase possible 0.2249\n",
      "k 2 size g 158191 size ell 175596 d result 0.0980 max increase possible 0.0952\n",
      "stopped earlier because cannot improve above cutoff.\n",
      "current value: 0.3182, can be increased by 0.0952 <= 0.1000.\n",
      "=== DONE ===\n",
      "[06544.3819 ms / 6.5444 s / 0.1091 min] blame\n",
      "influence 0.11523, 0.31820 <= blame <= 0.41341, blame diff 0.09521\n"
     ]
    }
   ],
   "source": [
    "import importance_measures.sharpSAT as ssat\n",
    "f = time_op(ssat.Formula.parse)(formula)\n",
    "x = \"x1\"\n",
    "solver = ssat.SharpSAT(decot=1)\n",
    "infl = (time_op)(ssat.influence)(f, x, solver)\n",
    "blame, ub = time_op(ssat.blame)(f, x, solver, rho=lambda x: 1/(x+1), cutoff=0.1, debug=True)\n",
    "print(f\"influence {infl:.5f}, {blame:.5f} <= blame <= {ub:.5f}, blame diff {ub-blame:.5f}\")"
   ]
  },
  {
   "cell_type": "code",
   "execution_count": null,
   "metadata": {},
   "outputs": [],
   "source": []
  },
  {
   "cell_type": "code",
   "execution_count": null,
   "metadata": {},
   "outputs": [],
   "source": []
  }
 ],
 "metadata": {
  "kernelspec": {
   "display_name": "Python 3.10.4 64-bit",
   "language": "python",
   "name": "python3"
  },
  "language_info": {
   "codemirror_mode": {
    "name": "ipython",
    "version": 3
   },
   "file_extension": ".py",
   "mimetype": "text/x-python",
   "name": "python",
   "nbconvert_exporter": "python",
   "pygments_lexer": "ipython3",
   "version": "3.10.4"
  },
  "orig_nbformat": 4,
  "vscode": {
   "interpreter": {
    "hash": "916dbcbb3f70747c44a77c7bcd40155683ae19c65e1c03b4aa3499c5328201f1"
   }
  }
 },
 "nbformat": 4,
 "nbformat_minor": 2
}
