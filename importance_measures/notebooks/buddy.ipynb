{
 "cells": [
  {
   "cell_type": "code",
   "execution_count": 5,
   "metadata": {},
   "outputs": [
    {
     "name": "stdout",
     "output_type": "stream",
     "text": [
      "[00000.0350 ms] u_influence(<importance_measures.bdds.buddy.BuddyFunc object at 0x7f728d156140>, 'y')\n",
      "[00000.6876 ms] u_blame(<importance_measures.bdds.buddy.BuddyFunc object at 0x7f728d156140>, 'z')\n",
      "[00000.0720 ms] omega(<importance_measures.bdds.buddy.BuddyFunc object at 0x7f728d156140>,)\n",
      "influence 0.50000, blame 0.70833\n"
     ]
    }
   ],
   "source": [
    "from importance_measures.bdds import Buddy, BuddyFunc, u_influence, u_blame, omega\n",
    "import time\n",
    "\n",
    "def time_op(func):\n",
    "    def wrapper(*args, **kwargs):\n",
    "        dt = time.time()\n",
    "        val = func(*args, **kwargs)\n",
    "        print(f\"[{(time.time() - dt)*1000:010.4f} ms] {func.__name__}{args}\")\n",
    "        return val\n",
    "    return wrapper\n",
    "\n",
    "timed_u_influence = time_op(u_influence)\n",
    "timed_u_blame = time_op(u_blame)\n",
    "timed_omega = time_op(omega)\n",
    "\n",
    "with Buddy([\"x\", \"y\", \"z\"]) as model:\n",
    "    f = model.parse(\"x ^ (y & z)\")\n",
    "    infl = timed_u_influence(f, \"y\") * 2**-model.varcount\n",
    "    blame = timed_u_blame(f, \"z\") * 2**-model.varcount\n",
    "    g = timed_omega(f)\n",
    "    g.dump(\"g.pdf\")\n",
    "    print(f\"influence {infl:0.5f}, blame {blame:.5f}\")"
   ]
  },
  {
   "cell_type": "code",
   "execution_count": null,
   "metadata": {},
   "outputs": [],
   "source": []
  },
  {
   "cell_type": "code",
   "execution_count": null,
   "metadata": {},
   "outputs": [],
   "source": []
  }
 ],
 "metadata": {
  "kernelspec": {
   "display_name": "Python 3.10.4 64-bit",
   "language": "python",
   "name": "python3"
  },
  "language_info": {
   "codemirror_mode": {
    "name": "ipython",
    "version": 3
   },
   "file_extension": ".py",
   "mimetype": "text/x-python",
   "name": "python",
   "nbconvert_exporter": "python",
   "pygments_lexer": "ipython3",
   "version": "3.10.4"
  },
  "orig_nbformat": 4,
  "vscode": {
   "interpreter": {
    "hash": "916dbcbb3f70747c44a77c7bcd40155683ae19c65e1c03b4aa3499c5328201f1"
   }
  }
 },
 "nbformat": 4,
 "nbformat_minor": 2
}
