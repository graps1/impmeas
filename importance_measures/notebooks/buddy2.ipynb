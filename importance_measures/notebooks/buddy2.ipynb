{
 "cells": [
  {
   "cell_type": "code",
   "execution_count": 1,
   "metadata": {},
   "outputs": [],
   "source": [
    "from utils import time_op"
   ]
  },
  {
   "cell_type": "code",
   "execution_count": 2,
   "metadata": {},
   "outputs": [
    {
     "name": "stdout",
     "output_type": "stream",
     "text": [
      "[00005.8749 ms / 0.0059 s / 0.0001 min] satcount\n",
      "GPMC satcount = 236\n",
      "[00077.6556 ms / 0.0777 s / 0.0013 min] node\n",
      "[00000.0045 ms / 0.0000 s / 0.0000 min] <lambda>\n",
      "BDD satcount = 236.0\n"
     ]
    }
   ],
   "source": [
    "# tests the model counting capabilities of SharpSAT-TD and Buddy\n",
    "from formulas import GPMC, Formula, Buddy, random_k_cnf\n",
    "\n",
    "n,m,k = 8, 10, 7\n",
    "cnf, formula = random_k_cnf(n,m,k)\n",
    "vars = [f\"x{idx}\" for idx in range(1, n+1)]\n",
    "\n",
    "solver = GPMC()\n",
    "satcount_gpmc = time_op(solver.satcount)(cnf)\n",
    "print(f\"GPMC satcount = {satcount_gpmc}\")\n",
    "\n",
    "with Buddy(vars) as model:\n",
    "    f = time_op(model.node)(formula)\n",
    "    satcount_bdd = time_op(lambda : f.satcount)()\n",
    "    print(f\"BDD satcount = {satcount_bdd}\")\n"
   ]
  },
  {
   "cell_type": "code",
   "execution_count": 3,
   "metadata": {},
   "outputs": [],
   "source": [
    "n,clauses_to_variables,k = 20, 4.5, 7\n",
    "m = int(n*clauses_to_variables)\n",
    "cnf, formula = random_k_cnf(n,m,k)\n",
    "vars = [f\"x{idx+1}\" for idx in range(n)]"
   ]
  },
  {
   "cell_type": "code",
   "execution_count": 4,
   "metadata": {},
   "outputs": [
    {
     "name": "stdout",
     "output_type": "stream",
     "text": [
      "[01712.8141 ms / 1.7128 s / 0.0285 min] node\n",
      "bdd size = 9828 with satcount = 580920.0\n",
      "=== COMPUTING BLAME for x1 in BDD with size 9828 ===\n",
      "k=0 size ell=4763 d result=0.1235 max increase possible=0.4382 \n",
      "k=1 size ell=31491 d result=0.1537 max increase possible=0.1897 \n",
      "k=2 size ell=32787 d result=0.1359 max increase possible=0.0403 \n",
      "k=3 size ell=7144 d result=0.0369 max increase possible=0.0027 \n",
      "k=4 size ell=466 d result=0.0027 max increase possible=0.0000 \n",
      "stopped earlier because cannot improve above cutoff.\n",
      "current value: 0.4528, can be increased by 0.0000 <= 0.0001.\n",
      "=== DONE ===\n",
      "[00525.5787 ms / 0.5256 s / 0.0088 min] blame\n",
      "[00000.4537 ms / 0.0005 s / 0.0000 min] influence\n",
      "influence 0.12352, 0.45277 <= blame <= 0.45280, blame diff 0.00003\n"
     ]
    }
   ],
   "source": [
    "import importance_measures.bdds as bdd \n",
    "from formulas import Buddy\n",
    "\n",
    "with Buddy(vars) as model:\n",
    "    x = \"x1\"\n",
    "    f = (time_op)(model.node)(formula)\n",
    "    print(f\"bdd size = {f.nodecount} with satcount = {f.satcount}\")\n",
    "    blame, ub = time_op(bdd.blame)(f, x, rho=lambda x: 1/(x+1), cutoff=1e-4, debug=True)\n",
    "    infl = time_op(bdd.influence)(f, x)\n",
    "    print(f\"influence {infl:.5f}, {blame:.5f} <= blame <= {ub:.5f}, blame diff {ub-blame:.5f}\")"
   ]
  },
  {
   "cell_type": "code",
   "execution_count": 5,
   "metadata": {},
   "outputs": [
    {
     "name": "stdout",
     "output_type": "stream",
     "text": [
      "[01974.0794 ms / 1.9741 s / 0.0329 min] parse\n",
      "[00345.5582 ms / 0.3456 s / 0.0058 min] influence\n",
      "=== COMPUTING BLAME for x1 in Formula with size 3843 ===\n",
      "k=0 size of cnf: 3884 d result=0.1235 max increase possible=0.4382 \n",
      "k=1 size of cnf: 3955 d result=0.1537 max increase possible=0.1897 \n",
      "k=2 size of cnf: 4022 d result=0.1359 max increase possible=0.0403 \n",
      "k=3 size of cnf: 4085 "
     ]
    }
   ],
   "source": [
    "import importance_measures.mc as mc\n",
    "from formulas import GPMC, Formula\n",
    "\n",
    "f = time_op(Formula.parse)(formula)\n",
    "x = \"x1\"\n",
    "solver = GPMC(cs=20000)\n",
    "infl = (time_op)(mc.influence)(f, x, solver)\n",
    "blame, ub = time_op(mc.blame)(f, x, solver, rho=lambda x: 1/(x+1), cutoff=1e-4, debug=True)\n",
    "print(f\"influence {infl:.5f}, {blame:.5f} <= blame <= {ub:.5f}, blame diff {ub-blame:.5f}\")"
   ]
  },
  {
   "cell_type": "code",
   "execution_count": 6,
   "metadata": {},
   "outputs": [
    {
     "name": "stdout",
     "output_type": "stream",
     "text": [
      "[[7, -1], [-7, 1], [2, 7, -5], [-2, 5], [-7, 5], [3, 5, -11], [-3, 11], [-5, 11], [4, 11, -9], [-4, 9], [-11, 9], [8, -2, -7], [-8, 7], [-8, 2], [-6, 5, 8], [-6, 3, 8], [6, -3, -5], [6, -8], [-14, 11, 6], [-14, 4, 6], [14, -4, -11], [14, -6], [13, -3, -8], [-13, 8], [-13, 3], [-10, 6, 13], [-10, 4, 13], [10, -4, -6], [10, -13], [12, -4, -13], [-12, 13], [-12, 4], [-12]] {5, 6, 7, 8, 9, 10, 11, 12, 13, 14}\n"
     ]
    },
    {
     "data": {
      "text/plain": [
       "15"
      ]
     },
     "execution_count": 6,
     "metadata": {},
     "output_type": "execute_result"
    }
   ],
   "source": [
    "import importance_measures.mc as mc \n",
    "from formulas import Formula, GPMC\n",
    "\n",
    "f,S = mc.at_most(2, {\"x1\",\"x2\",\"x3\", \"x4\"})\n",
    "f,S = mc.at_most_cnf(3, {1,2,3,4}, 5)\n",
    "print(f, S)\n",
    "GPMC().satcount( f )"
   ]
  },
  {
   "cell_type": "code",
   "execution_count": null,
   "metadata": {},
   "outputs": [],
   "source": []
  },
  {
   "cell_type": "code",
   "execution_count": null,
   "metadata": {},
   "outputs": [],
   "source": []
  }
 ],
 "metadata": {
  "kernelspec": {
   "display_name": "Python 3 (ipykernel)",
   "language": "python",
   "name": "python3"
  },
  "language_info": {
   "codemirror_mode": {
    "name": "ipython",
    "version": 3
   },
   "file_extension": ".py",
   "mimetype": "text/x-python",
   "name": "python",
   "nbconvert_exporter": "python",
   "pygments_lexer": "ipython3",
   "version": "3.10.4"
  },
  "vscode": {
   "interpreter": {
    "hash": "916dbcbb3f70747c44a77c7bcd40155683ae19c65e1c03b4aa3499c5328201f1"
   }
  }
 },
 "nbformat": 4,
 "nbformat_minor": 2
}
