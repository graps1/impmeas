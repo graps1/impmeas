{
 "cells": [
  {
   "cell_type": "code",
   "execution_count": 1,
   "metadata": {},
   "outputs": [
    {
     "name": "stdout",
     "output_type": "stream",
     "text": [
      "  n    m  Blame    Bz/DCGM    Bz/RCGM    Bz/QH    Influence'\n",
      "---  ---  -------  ---------  ---------  -------  ------------\n",
      "  1    1  =        =          =          =        =\n",
      "  2    2  <        =          <          <        <\n",
      "  3    3  <        =          <          <        <\n",
      "  4    4  <        =          <          <        <\n",
      "  2    1  <        <          <          <        <\n",
      "  1    2  <        >          =          >        =\n",
      "  3    1  <        <          <          <        <\n",
      "  1    3  <        >          =          >        =\n",
      "  3    2  <        <          <          <        <\n",
      "  2    3  <        >          <          <        <\n",
      "  4    1  <        <          <          <        <\n",
      "  1    4  <        >          =          >        =\n",
      "  4    2  <        <          <          <        <\n",
      "  2    4  <        >          <          >        <\n"
     ]
    }
   ],
   "source": [
    "import sys; sys.path.append(\"../..\")\n",
    "import binfunc \n",
    "import binvec\n",
    "from tabulate import tabulate\n",
    "import comp\n",
    "import blame \n",
    "\n",
    "infl = lambda x,f: blame.blame(x,f,rho=lambda x: 1 if x in [0,1] else 0)\n",
    "\n",
    "TOLERANCE = 1e-10\n",
    "\n",
    "def f(n,m):\n",
    "  X, Y = set(f\"x{idx}\" for idx in range(n)), set(f\"y{idx}\" for idx in range(m))\n",
    "  g = binfunc.init_empty(X, \"g\")\n",
    "  u = binvec.vec({x: 1 for x in X})\n",
    "  g[u] = 1\n",
    "  h = binfunc.init_empty(Y, \"h\")\n",
    "  for u in binvec.itervecs(h.vars):\n",
    "    h[u] = u.length % 2\n",
    "  return g|h\n",
    "\n",
    "R = comp.RANKINGS.copy()\n",
    "R.append((infl, \"Influence\"))\n",
    "\n",
    "headers = [\"n\", \"m\"] + [name for _, name in R]\n",
    "table = []\n",
    "\n",
    "for n, m in [(1,1), (2,2), (3,3), (4,4), (2,1), (1,2), (3,1), \n",
    "             (1,3), (3,2), (2,3), (4,1), (1,4), (4,2), (2,4)]:\n",
    "  l = f(n, m)\n",
    "  row = [n, m]\n",
    "  for v, name in R:\n",
    "    xval = v(\"x0\", l)\n",
    "    yval = v(\"y0\", l)\n",
    "    if xval > yval:\n",
    "      row.append(\">\")\n",
    "    elif xval < yval:\n",
    "      row.append(\"<\")\n",
    "    elif abs(xval-yval) < TOLERANCE:\n",
    "      row.append(\"=\")\n",
    "    else:\n",
    "      print(xval, yval)\n",
    "  table.append(row)\n",
    "\n",
    "print(tabulate(table, headers=headers))\n"
   ]
  }
 ],
 "metadata": {
  "interpreter": {
   "hash": "d94ecb6f7fe367b0f21fdf83086dd8f04b4653216b3d34c22fcc319f0c3549ec"
  },
  "kernelspec": {
   "display_name": "Python 3.9.7 64-bit",
   "language": "python",
   "name": "python3"
  },
  "language_info": {
   "codemirror_mode": {
    "name": "ipython",
    "version": 3
   },
   "file_extension": ".py",
   "mimetype": "text/x-python",
   "name": "python",
   "nbconvert_exporter": "python",
   "pygments_lexer": "ipython3",
   "version": "3.9.7"
  },
  "orig_nbformat": 4
 },
 "nbformat": 4,
 "nbformat_minor": 2
}
