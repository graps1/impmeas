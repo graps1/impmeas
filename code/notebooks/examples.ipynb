{
 "cells": [
  {
   "cell_type": "code",
   "execution_count": 21,
   "metadata": {},
   "outputs": [],
   "source": [
    "import sys; sys.path.append(\"../..\")\n",
    "import blame\n",
    "import binvec\n",
    "import binfunc\n",
    "import ranking\n",
    "import cgm\n",
    "from bidict import bidict"
   ]
  },
  {
   "cell_type": "code",
   "execution_count": 22,
   "metadata": {},
   "outputs": [
    {
     "name": "stdout",
     "output_type": "stream",
     "text": [
      "\n",
      "Example #1\n",
      "----------\n",
      "f00 = 0 \t\t f01 =1\n",
      "f10 = z \t\t f11 =1\n",
      "Holds: f00^f01 = 1 >= z = f00^f10\n",
      "Holds: f11^f10 = z' >= 0 = f11^f01\n",
      "\n",
      "Example #2\n",
      "----------\n",
      "f00 = 0 \t\t f01 =z\n",
      "f10 = z \t\t f11 =z'\n",
      "Holds: f00^f01 = z >= z = f00^f10\n",
      "Holds: f11^f10 = 1 >= 1 = f11^f01\n",
      "\n",
      "Example #3\n",
      "----------\n",
      "f00 = 0 \t\t f01 =z1\n",
      "f10 = z2z3 \t\t f11 =z2z3 + z1\n",
      "Does not hold: f00^f01 = z1 >= z2z3 = f00^f10\n",
      "Does not hold: f11^f10 = z1z2' + z1z3' >= z1'z2z3 = f11^f01\n"
     ]
    }
   ],
   "source": [
    "# Substitution rank conformity -- examples\n",
    "# hash: arksMPOe2p\n",
    "\n",
    "def check_is_substitute(f11,f10,f01,f00):\n",
    "    print(f\"f00 = {f00} \\t\\t f01 ={f01}\")\n",
    "    print(f\"f10 = {f10} \\t\\t f11 ={f11}\")\n",
    "    print(\"Holds:\" if f00^f01 >= f00^f10 else \"Does not hold:\", f\"f00^f01 = {f00^f01} >= {f00^f10} = f00^f10\")\n",
    "    print(\"Holds:\" if f11^f10 >= f11^f01 else \"Does not hold:\", f\"f11^f10 = {f11^f10} >= {f11^f01} = f11^f01\")\n",
    "\n",
    "print()\n",
    "print(\"Example #1\")\n",
    "print(\"-\"*10)\n",
    "f00 = binfunc.from_lambda(lambda z: 0)\n",
    "f01 = binfunc.from_lambda(lambda z: 1)\n",
    "f10 = binfunc.from_lambda(lambda z: z)\n",
    "f11 = binfunc.from_lambda(lambda z: 1)\n",
    "check_is_substitute(f11,f10,f01,f00)\n",
    "\n",
    "print()\n",
    "print(\"Example #2\")\n",
    "print(\"-\"*10)\n",
    "f00 = binfunc.from_lambda(lambda z: 0)\n",
    "f01 = binfunc.from_lambda(lambda z: z)\n",
    "f10 = binfunc.from_lambda(lambda z: z)\n",
    "f11 = binfunc.from_lambda(lambda z: ~z)\n",
    "check_is_substitute(f11,f10,f01,f00)\n",
    "\n",
    "print()\n",
    "print(\"Example #3\")\n",
    "print(\"-\"*10)\n",
    "f00 = binfunc.from_lambda(lambda z1,z2,z3: 0)\n",
    "f01 = binfunc.from_lambda(lambda z1,z2,z3: z1)\n",
    "f10 = binfunc.from_lambda(lambda z1,z2,z3: z2&z3)\n",
    "f11 = binfunc.from_lambda(lambda z1,z2,z3: z1|z2&z3)\n",
    "check_is_substitute(f11,f10,f01,f00)"
   ]
  },
  {
   "cell_type": "code",
   "execution_count": 23,
   "metadata": {},
   "outputs": [
    {
     "name": "stdout",
     "output_type": "stream",
     "text": [
      "rho(x) = 1/(x+1):\t x2:0.5260 < x1:0.5323 < x4:0.6182 < x3:0.6432 < x0:0.7135\n",
      "rho(x) = 2^(-x):\t x1:0.4863 < x2:0.5234 < x4:0.5840 < x3:0.6211 < x0:0.6953\n"
     ]
    }
   ],
   "source": [
    "# Blame: Different choices of rho\n",
    "# hash: 4viwaDwcCi\n",
    "def f(x0,x1,x2,x3,x4):\n",
    "    return ~x0&~x3&~x1&~x4 | x0&(~x3&~x1&x4 | ~x3&x1&~x4 | x2&~x1 | x2&~x4 | x3&x2) | ~x3&x2&~x4\n",
    "f = binfunc.from_lambda(f)\n",
    "\n",
    "r1 = ranking.from_val(lambda x,f: blame.blame(x,f,rho=lambda x:1/(x+1)), f)\n",
    "r2 = ranking.from_val(lambda x,f: blame.blame(x,f,rho=lambda x: 2**-x),  f)\n",
    "print(\"rho(x) = 1/(x+1):\\t\", r1)\n",
    "print(\"rho(x) = 2^(-x):\\t\", r2)"
   ]
  },
  {
   "cell_type": "code",
   "execution_count": 24,
   "metadata": {},
   "outputs": [],
   "source": [
    "# Blame: Example for switching function\n",
    "# hash: 6BWW7D7Yqq\n",
    "h = binfunc.from_lambda(lambda x1,x2: ~x1&x2)\n",
    "g = binfunc.from_lambda(lambda y1,y2:  y1&y2)\n",
    "pi, S = bidict({\"x1\": \"y1\", \"x2\": \"y2\"}), {\"x1\"}\n",
    "assert g == h.flip(S).rename(pi)\n",
    "\n",
    "u = binvec.vec({\"y1\": 1, \"y2\": 1, \"x1\": 1, \"x2\": 1, \"z1\": 0})\n",
    "uhat = u.apply_switch(pi, S)\n",
    "assert uhat == binvec.vec({\"y1\": 0, \"y2\": 1, \"x1\": 0, \"x2\": 1, \"z1\": 0})"
   ]
  },
  {
   "cell_type": "code",
   "execution_count": 25,
   "metadata": {},
   "outputs": [
    {
     "name": "stdout",
     "output_type": "stream",
     "text": [
      "r^(u)_x1(f) and r^(u_op_x1)_x1(f):\t\t 3 inf\n",
      "r^(uhat)_y1(f) and r^(uhat_op_x1)_y1(f):\t inf 1\n"
     ]
    }
   ],
   "source": [
    "# Blame: Example for SRC \n",
    "# hash: GZmiukBjJ4\n",
    "h = binfunc.from_lambda(lambda x1,x2: x1|x2)\n",
    "g = binfunc.from_lambda(lambda y1,y2: y1|y2)\n",
    "f = g & (h | binfunc.from_lambda(lambda z1: z1))\n",
    "\n",
    "u = binvec.vec({ \"y1\": 0, \"y2\": 0, \"x1\": 0, \"x2\": 1, \"z1\": 1 })\n",
    "uhat = binvec.vec({ \"y1\": 0, \"y2\": 1, \"x1\": 0, \"x2\": 0, \"z1\": 1 })\n",
    "u_op_x1 = binvec.vec({ \"y1\": 0, \"y2\": 0, \"x1\": 1, \"x2\": 1, \"z1\": 1 })\n",
    "uhat_op_y1 = binvec.vec({ \"y1\": 1, \"y2\": 1, \"x1\": 0, \"x2\": 0, \"z1\": 1 })\n",
    "\n",
    "print(\"r^(u)_x1(f) and r^(u_op_x1)_x1(f):\\t\\t\", blame.r(\"x1\", u, f), blame.r(\"x1\", u_op_x1, f))\n",
    "print(\"r^(uhat)_y1(f) and r^(uhat_op_x1)_y1(f):\\t\", blame.r(\"y1\", uhat, f), blame.r(\"y1\", uhat_op_y1, f))"
   ]
  },
  {
   "cell_type": "code",
   "execution_count": 26,
   "metadata": {},
   "outputs": [
    {
     "name": "stdout",
     "output_type": "stream",
     "text": [
      "phi^rho_x(h):\t 0.625\n",
      "phi^rho_x(f):\t 0.7083333333333334\n"
     ]
    }
   ],
   "source": [
    "# Blame: Counterexample for Property NIM^S\n",
    "# hash: tsXirYjENE \n",
    "h = binfunc.from_lambda(lambda x,y: x|y)\n",
    "f = h ^ binfunc.from_lambda(lambda z: z)\n",
    "print(\"phi^rho_x(h):\\t\", blame.blame(\"x\", h) )\n",
    "print(\"phi^rho_x(f):\\t\", blame.blame(\"x\", f) )"
   ]
  },
  {
   "cell_type": "code",
   "execution_count": 27,
   "metadata": {},
   "outputs": [
    {
     "name": "stdout",
     "output_type": "stream",
     "text": [
      "x2:0.4375 < x0:0.5521 < x1:0.6250 == x3:0.6250\n",
      "x2:0.3125 < x1:0.4167 == x3:0.4167 < x0:0.4292 < z0:0.7188\n"
     ]
    }
   ],
   "source": [
    "# Blame: Counterexample for Property MRP^W\n",
    "# hash: 0ZfZS5iLCY\n",
    "h = binfunc.from_lambda(lambda x0,x1,x2,x3: x1&(~x0&x2 | x3) | x0&x2&x3)\n",
    "f = h | binfunc.from_lambda(lambda z0: z0)\n",
    "b = lambda x,f: blame.blame(x,f,rho=lambda x:1/(x+1))\n",
    "print(ranking.from_val(b, h))\n",
    "print(ranking.from_val(b, f))"
   ]
  },
  {
   "cell_type": "code",
   "execution_count": 28,
   "metadata": {},
   "outputs": [
    {
     "name": "stdout",
     "output_type": "stream",
     "text": [
      "Bz^omega_x(f) | Bz^omega_x(~f) | Bz^nu_x(f) | Bz^nu_x(~f):\t 0.25 | 0.75 | 0.75 | 0.25\n",
      "Bz^omega_y(f) | Bz^omega_y(~f) | Bz^nu_y(f) | Bz^nu_y(~f):\t 0.25 | 0.25 | 0.25 | 0.25\n"
     ]
    }
   ],
   "source": [
    "# Bz/DCGM and Bz/RCGM: non-compliance to MRP^S, CI, NIM^S\n",
    "# hash: OyLAay4541\n",
    "f = binfunc.from_lambda(lambda x,y,z: x&(y^z))\n",
    "bz_dcgm = cgm.get_value(\"Bz/DCGM\")\n",
    "bz_rcgm = cgm.get_value(\"Bz/RCGM\")\n",
    "print(\"Bz^omega_x(f) | Bz^omega_x(~f) | Bz^nu_x(f) | Bz^nu_x(~f):\\t\", \n",
    "    bz_dcgm(\"x\", f), \"|\", bz_dcgm(\"x\", ~f), \"|\", bz_rcgm(\"x\", f), \"|\", bz_rcgm(\"x\", ~f))\n",
    "print(\"Bz^omega_y(f) | Bz^omega_y(~f) | Bz^nu_y(f) | Bz^nu_y(~f):\\t\", \n",
    "    bz_dcgm(\"y\", f), \"|\", bz_dcgm(\"y\", ~f), \"|\", bz_rcgm(\"y\", f), \"|\", bz_rcgm(\"y\", ~f))"
   ]
  },
  {
   "cell_type": "code",
   "execution_count": 29,
   "metadata": {},
   "outputs": [
    {
     "name": "stdout",
     "output_type": "stream",
     "text": [
      "Bz^nu_x1(f) = 0.3125 > 0.1875 = Bz^nu_y1(f)\n",
      "Bz^omega_x1(~f) = 0.3125 > 0.1875 = Bz^omega_y1(~f)\n"
     ]
    }
   ],
   "source": [
    "# Bz/DCGM and Bz/RCGM: non-compliance to SRC^S\n",
    "# hash: fKwFA86xIm\n",
    "g = binfunc.from_lambda(lambda y1,y2: y1&y2)\n",
    "h = binfunc.from_lambda(lambda x1,x2: x1&x2)\n",
    "f00 = binfunc.from_lambda(lambda z1,z2: z1^z2)\n",
    "f01 = binfunc.from_lambda(lambda z1,z2: ~(z1^z2))\n",
    "f10 = binfunc.from_lambda(lambda z1,z2: 0)\n",
    "f11 = binfunc.from_lambda(lambda z1,z2: ~z1|z2)\n",
    "f = h&g&f11 | h&~g&f10 | ~h&g&f01 | ~h&~g&f00\n",
    "assert f00^f10 <= f00^f01\n",
    "assert f11^f01 <= f11^f10\n",
    "\n",
    "bz_dcgm = cgm.get_value(\"Bz/DCGM\")\n",
    "bz_rcgm = cgm.get_value(\"Bz/RCGM\")\n",
    "print(\"Bz^nu_x1(f) =\", bz_rcgm(\"x1\", f), \">\", bz_rcgm(\"y1\", f), \"= Bz^nu_y1(f)\")\n",
    "print(\"Bz^omega_x1(~f) =\", bz_dcgm(\"x1\", ~f), \">\", bz_rcgm(\"y1\", ~f), \"= Bz^omega_y1(~f)\")"
   ]
  },
  {
   "cell_type": "code",
   "execution_count": 30,
   "metadata": {},
   "outputs": [
    {
     "name": "stdout",
     "output_type": "stream",
     "text": [
      "Bz^(tilde nu)_x(h) vs. Bz^(tilde nu)_y(h):\t 0.5 0.5\n",
      "Bz^(tilde nu)_x(f) vs. Bz^(tilde nu)_y(f):\t 0.25 0.0\n"
     ]
    }
   ],
   "source": [
    "# Bz/RCGM symmetrization\n",
    "# hash: ewufMPvadu\n",
    "h = binfunc.from_lambda(lambda x,y,z1: ~x&z1 | x&~z1 | x&y | y&z1)\n",
    "f = h & binfunc.from_lambda(lambda z2: z2)\n",
    "bz_srcgm = cgm.get_value(\"Bz/SRCGM\")\n",
    "print(\"Bz^(tilde nu)_x(h) vs. Bz^(tilde nu)_y(h):\\t\", bz_srcgm(\"x\", h), bz_srcgm(\"y\", h))\n",
    "print(\"Bz^(tilde nu)_x(f) vs. Bz^(tilde nu)_y(f):\\t\", bz_srcgm(\"x\", f), bz_srcgm(\"y\", f))"
   ]
  },
  {
   "cell_type": "code",
   "execution_count": 31,
   "metadata": {},
   "outputs": [
    {
     "name": "stdout",
     "output_type": "stream",
     "text": [
      "f00^f10 = z1'z0' + z2' <= z2' + z0' = f00^f01\n",
      "f11^f01 = z1z2'z0' + z2z0 <= z2z0 + z1z0' + z1z2 = f11^f10\n",
      "Bz^E_x1(f) =  0.1260223388671875 > 0.1172332763671875  = Bz^E_y1(f)\n"
     ]
    }
   ],
   "source": [
    "# Bz/QHCGM counterexample SRC^S\n",
    "# hash: cXobaNe2jw\n",
    "f00 = binfunc.from_lambda(lambda z0,z1,z2: ~z1|~z2|z0)\n",
    "f01 = binfunc.from_lambda(lambda z0,z1,z2: z2&(z0|z1))\n",
    "f10 = binfunc.from_lambda(lambda z0,z1,z2: z2&z0)\n",
    "f11 = binfunc.from_lambda(lambda z0,z1,z2: z1&~z0)\n",
    "assert f00^f01 >= f00^f10\n",
    "assert f11^f10 >= f11^f01\n",
    "print(f\"f00^f10 = {f00^f10} <= {f00^f01} = f00^f01\")\n",
    "print(f\"f11^f01 = {f11^f01} <= {f11^f10} = f11^f10\")\n",
    "\n",
    "g = binfunc.from_lambda(lambda y1,y2: y1&y2)\n",
    "h = binfunc.from_lambda(lambda x1,x2: x1&x2)\n",
    "f = h&g&f11 | h&~g&f10 | ~h&g&f01 | ~h&~g&f00\n",
    "\n",
    "v = cgm.get_value(\"Bz/QH\")\n",
    "print(\"Bz^E_x1(f) = \", v(\"x1\", f), \">\", v(\"y1\", f), \" = Bz^E_y1(f)\")"
   ]
  }
 ],
 "metadata": {
  "interpreter": {
   "hash": "d94ecb6f7fe367b0f21fdf83086dd8f04b4653216b3d34c22fcc319f0c3549ec"
  },
  "kernelspec": {
   "display_name": "Python 3.9.7 64-bit",
   "language": "python",
   "name": "python3"
  },
  "language_info": {
   "codemirror_mode": {
    "name": "ipython",
    "version": 3
   },
   "file_extension": ".py",
   "mimetype": "text/x-python",
   "name": "python",
   "nbconvert_exporter": "python",
   "pygments_lexer": "ipython3",
   "version": "3.9.7"
  },
  "orig_nbformat": 4
 },
 "nbformat": 4,
 "nbformat_minor": 2
}
