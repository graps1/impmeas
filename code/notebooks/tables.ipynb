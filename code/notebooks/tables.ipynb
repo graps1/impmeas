{
 "cells": [
  {
   "cell_type": "code",
   "execution_count": 3,
   "metadata": {},
   "outputs": [
    {
     "name": "stdout",
     "output_type": "stream",
     "text": [
      "====================================================================================================\n",
      "f                              phi^rho_x(f)    phi^rho_y(f)    phi^rho_z(f)\n",
      "---------------------------  --------------  --------------  --------------\n",
      "x + y + z                          0.416667        0.416667        0.416667\n",
      "zy'x                               0.416667        0.416667        0.416667\n",
      "y'x                                0.625           0.625           0\n",
      "z'y'x + z'yx' + zy'x' + zyx        1               1               1\n",
      "z'y + zy' + x                      0.625           0.708333        0.708333\n",
      "zy + x                             0.8125          0.416667        0.416667\n",
      "====================================================================================================\n",
      "f                              Bz^omega_x(f)    Bz^omega_y(f)    Bz^omega_z(f)\n",
      "---------------------------  ---------------  ---------------  ---------------\n",
      "x + y + z                               0.25             0.25             0.25\n",
      "zy'x                                    0.25             0.25             0.25\n",
      "y'x                                     0.5              0.5              0\n",
      "z'y'x + z'yx' + zy'x' + zyx             0.25             0.25             0.25\n",
      "z'y + zy' + x                           0.75             0.25             0.25\n",
      "zy + x                                  0.75             0.25             0.25\n",
      "====================================================================================================\n",
      "f                              Bz^nu_x(f)    Bz^nu_y(f)    Bz^nu_z(f)\n",
      "---------------------------  ------------  ------------  ------------\n",
      "x + y + z                            0.25          0.25          0.25\n",
      "zy'x                                 0.25          0.25          0.25\n",
      "y'x                                  0.5           0.5           0\n",
      "z'y'x + z'yx' + zy'x' + zyx          0.25          0.25          0.25\n",
      "z'y + zy' + x                        0.25          0.25          0.25\n",
      "zy + x                               0.75          0.25          0.25\n",
      "====================================================================================================\n",
      "f                              Bz^E_x(f)    Bz^E_y(f)    Bz^E_z(f)\n",
      "---------------------------  -----------  -----------  -----------\n",
      "x + y + z                       0.140625     0.140625     0.140625\n",
      "zy'x                            0.140625     0.140625     0.140625\n",
      "y'x                             0.375        0.375        0\n",
      "z'y'x + z'yx' + zy'x' + zyx     0.25         0.25         0.25\n",
      "z'y + zy' + x                   0.3125       0.1875       0.1875\n",
      "zy + x                          0.640625     0.140625     0.140625\n"
     ]
    }
   ],
   "source": [
    "import sys; sys.path.append(\"../..\")\n",
    "\n",
    "from tabulate import tabulate\n",
    "import cgm \n",
    "import binfunc\n",
    "import binvec \n",
    "import blame\n",
    "\n",
    "fs = [ \n",
    "    lambda x,y,z: x|y|z,\n",
    "    lambda x,y,z: x&(~y)&z,\n",
    "    lambda x,y,z: x&(~y),\n",
    "    lambda x,y,z: x^y^z,\n",
    "    lambda x,y,z: x|(y^z),\n",
    "    lambda x,y,z: x|(y&z),\n",
    "]\n",
    "\n",
    "v_qh = cgm.get_value(\"Bz/QH\")\n",
    "v_dcgm = cgm.get_value(\"Bz/DCGM\")\n",
    "v_rcgm = cgm.get_value(\"Bz/RCGM\")\n",
    "for v, name in [(blame.blame, \"phi^rho\"), (v_dcgm, \"Bz^omega\"), (v_rcgm, \"Bz^nu\"), (v_qh, \"Bz^E\")]:\n",
    "    valnames = [f\"{name}_{var}(f)\" for var in [\"x\", \"y\", \"z\"]]\n",
    "    header = [\"f\"] + valnames\n",
    "    table = []\n",
    "    for f in fs:\n",
    "        f_binfunc = binfunc.from_lambda(f)\n",
    "        row = [ binvec.sum_notation(f_binfunc.prime_implicants()) ]\n",
    "        for var in [\"x\", \"y\", \"z\"]: \n",
    "            b = v(var, f_binfunc)\n",
    "            row.append(b)\n",
    "        table.append(row)\n",
    "    print(\"=\"*100)\n",
    "    print( tabulate(table, header) )\n"
   ]
  },
  {
   "cell_type": "code",
   "execution_count": null,
   "metadata": {},
   "outputs": [],
   "source": []
  }
 ],
 "metadata": {
  "interpreter": {
   "hash": "c5177c4307f3ed821ea8c3f4474ee614fcf856c99daa087e48a4aa1759473fca"
  },
  "kernelspec": {
   "display_name": "Python 3.9.7 64-bit",
   "language": "python",
   "name": "python3"
  },
  "language_info": {
   "codemirror_mode": {
    "name": "ipython",
    "version": 3
   },
   "file_extension": ".py",
   "mimetype": "text/x-python",
   "name": "python",
   "nbconvert_exporter": "python",
   "pygments_lexer": "ipython3",
   "version": "3.9.7"
  },
  "orig_nbformat": 4
 },
 "nbformat": 4,
 "nbformat_minor": 2
}
