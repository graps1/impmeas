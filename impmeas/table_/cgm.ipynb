{
 "cells": [
  {
   "cell_type": "code",
   "execution_count": 122,
   "metadata": {},
   "outputs": [
    {
     "name": "stdout",
     "output_type": "stream",
     "text": [
      "20.7 ns ± 1.7 ns per loop (mean ± std. dev. of 7 runs, 100000000 loops each)\n",
      "23.9 ns ± 2.15 ns per loop (mean ± std. dev. of 7 runs, 10000000 loops each)\n"
     ]
    }
   ],
   "source": [
    "import bf\n",
    "from math import log2, ceil\n",
    "\n",
    "def idx2inp(idx, bitcount):\n",
    "  return [int(c) for c in str(bin(idx))[2:].zfill(bitcount)]\n",
    "\n",
    "def idx2inp2(idx, bitcount):\n",
    "  incidence = [0]*bitcount\n",
    "  for i in range(bitcount):\n",
    "    div = 2**(bitcount-i-1)\n",
    "    if div <= idx:\n",
    "      idx = idx % div \n",
    "      incidence[i] = 1\n",
    "  return incidence\n",
    "\n",
    "%timeit idx2inp\n",
    "%timeit idx2inp2\n"
   ]
  },
  {
   "cell_type": "code",
   "execution_count": 2,
   "metadata": {},
   "outputs": [
    {
     "name": "stdout",
     "output_type": "stream",
     "text": [
      "  x0    x1    x2    f(x)\n",
      "----  ----  ----  ------\n",
      "   0     0     0       1\n",
      "   0     0     1       0\n",
      "   0     1     0       1\n",
      "   0     1     1       0\n",
      "   1     0     0       0\n",
      "   1     0     1       0\n",
      "   1     1     0       0\n",
      "   1     1     1       1\n",
      "--------------------\n",
      "x1:0.625 < x2:0.875 == x0:0.875\n",
      "x1: 0.0 < x2:0.0156 == x0:0.0156\n",
      "x2:0.0156 == x0:0.0156 == x1:0.0156\n",
      "x1:   0 < x2: 0.5 == x0: 0.5\n",
      "x2:0.3333 == x0:0.3333 == x1:0.3333\n"
     ]
    }
   ],
   "source": [
    "import cgm \n",
    "import bf \n",
    "import blame\n",
    "from random import randint\n",
    "\n",
    "f = bf.BF([randint(0,1) for _ in range(8)])\n",
    "# f = bf.BF([0, 1, 1, 0, 1, 1, 1, 1]) -> interesting!\n",
    "print(f)\n",
    "print(\"-\"*20)\n",
    "banzhaf_sym_omega = lambda i,f: cgm.banzhaf(cgm.sym_omega, i, f)\n",
    "banzhaf_sym_nu = lambda i,f: cgm.banzhaf(cgm.sym_nu, i, f)\n",
    "shapley_sym_omega = lambda i,f: cgm.shapley(cgm.sym_omega, i, f)\n",
    "shapley_sym_nu = lambda i,f: cgm.shapley(cgm.sym_nu, i, f)\n",
    "rank_blame = bf.ranking(blame.blame, f)\n",
    "rank_banz_omega = bf.ranking(banzhaf_sym_omega, f)\n",
    "rank_banz_nu = bf.ranking(banzhaf_sym_nu, f)\n",
    "rank_shap_omega = bf.ranking(shapley_sym_omega, f)\n",
    "rank_shap_nu = bf.ranking(shapley_sym_nu, f)\n",
    "\n",
    "print(bf.ranking2str(rank_blame))\n",
    "print(bf.ranking2str(rank_banz_omega))\n",
    "print(bf.ranking2str(rank_banz_nu))\n",
    "print(bf.ranking2str(rank_shap_omega))\n",
    "print(bf.ranking2str(rank_shap_nu))"
   ]
  },
  {
   "cell_type": "code",
   "execution_count": 127,
   "metadata": {},
   "outputs": [
    {
     "name": "stdout",
     "output_type": "stream",
     "text": [
      "False\n"
     ]
    }
   ],
   "source": []
  },
  {
   "cell_type": "code",
   "execution_count": 18,
   "metadata": {},
   "outputs": [
    {
     "name": "stdout",
     "output_type": "stream",
     "text": [
      "f not independent of x3, but its a null variable: f = x0x1'x2 + x0x2x3 + x0x1x2' + x0x1x3\n",
      "x3:0.2969 < x2:0.6302 == x1:0.6302 < x0:0.7188 Blame\n",
      "x3:0.0000 < x1:0.2500 == x2:0.2500 < x0:0.7500 Bz/Sym/Rec\n"
     ]
    }
   ],
   "source": [
    "import bf\n",
    "import cgm\n",
    "import blame\n",
    "\n",
    "def is_np(v, f, x):\n",
    "  for S in bf.itersets(f.bitcount):\n",
    "    if x not in S and v(S.union({x}), f) != v(S, f):\n",
    "      return False\n",
    "  return True\n",
    "\n",
    "def is_independent(f, x):\n",
    "  for u in bf.iterinp(f.bitcount):\n",
    "    if f[ bf.flip(u, {x}) ] != f[u]:\n",
    "      return False\n",
    "  return True\n",
    "\n",
    "for f in bf.iterfunc(4):\n",
    "  v = cgm.sym(cgm.nu)\n",
    "  stop = False\n",
    "  for x in range(f.bitcount):\n",
    "    if is_np(v, f, x) and not is_independent(f,x):\n",
    "      print(f\"f not independent of x{x}, but its a null variable: f = {bf.sum_notation( f.prime_implicants() )}\")\n",
    "      print(bf.ranking2str(bf.ranking(blame.blame, f)), \"Blame\")\n",
    "      print(bf.ranking2str(bf.ranking(cgm.get_value(\"Bz/Sym/Rec\"), f)), \"Bz/Sym/Rec\")\n",
    "      stop = True\n",
    "      break\n",
    "  if stop:\n",
    "    break"
   ]
  },
  {
   "cell_type": "code",
   "execution_count": 6,
   "metadata": {},
   "outputs": [
    {
     "name": "stdout",
     "output_type": "stream",
     "text": [
      "4096\n"
     ]
    }
   ],
   "source": [
    "from axioms import get_symmetric_bits\n",
    "import bf\n",
    "bitcount = 4\n",
    "i,j = 0,1\n",
    "nr_sym_functions = 0\n",
    "for idx in range(2**(2**bitcount)):\n",
    "  f = bf.BF(bf.idx2inp(idx, 2**bitcount))\n",
    "  syms = get_symmetric_bits(f)\n",
    "  if (i,j) in syms or (j,i) in syms:\n",
    "    nr_sym_functions += 1\n",
    "print(nr_sym_functions)"
   ]
  },
  {
   "cell_type": "code",
   "execution_count": 1,
   "metadata": {},
   "outputs": [
    {
     "name": "stdout",
     "output_type": "stream",
     "text": [
      "x1: 0.0 < x0: 1.0\n"
     ]
    }
   ],
   "source": [
    "import bf \n",
    "import blame \n",
    "\n",
    "f = bf.BF([0,0,1,1])\n",
    "rank = bf.ranking(blame.blame, f)\n",
    "print(bf.ranking2str(rank))"
   ]
  },
  {
   "cell_type": "code",
   "execution_count": 3,
   "metadata": {},
   "outputs": [
    {
     "name": "stdout",
     "output_type": "stream",
     "text": [
      "[]\n",
      "  x0    x1    x2    f(x)\n",
      "----  ----  ----  ------\n",
      "   0     0     0       0\n",
      "   0     0     1       1\n",
      "   0     1     0       1\n",
      "   0     1     1       0\n",
      "   1     0     0       0\n",
      "   1     0     1       1\n",
      "   1     1     0       1\n",
      "   1     1     1       1\n",
      "[]\n",
      "  x0    x1    x2    f(x)\n",
      "----  ----  ----  ------\n",
      "   0     0     0       0\n",
      "   0     0     1       1\n",
      "   0     1     0       1\n",
      "   0     1     1       0\n",
      "   1     0     0       1\n",
      "   1     0     1       1\n",
      "   1     1     0       1\n",
      "   1     1     1       0\n",
      "[]\n",
      "  x0    x1    x2    f(x)\n",
      "----  ----  ----  ------\n",
      "   0     0     0       0\n",
      "   0     0     1       1\n",
      "   0     1     0       1\n",
      "   0     1     1       1\n",
      "   1     0     0       0\n",
      "   1     0     1       1\n",
      "   1     1     0       1\n",
      "   1     1     1       0\n",
      "[]\n",
      "  x0    x1    x2    f(x)\n",
      "----  ----  ----  ------\n",
      "   0     0     0       1\n",
      "   0     0     1       0\n",
      "   0     1     0       0\n",
      "   0     1     1       1\n",
      "   1     0     0       1\n",
      "   1     0     1       0\n",
      "   1     1     0       1\n",
      "   1     1     1       1\n",
      "[]\n",
      "  x0    x1    x2    f(x)\n",
      "----  ----  ----  ------\n",
      "   0     0     0       1\n",
      "   0     0     1       0\n",
      "   0     1     0       0\n",
      "   0     1     1       1\n",
      "   1     0     0       1\n",
      "   1     0     1       1\n",
      "   1     1     0       0\n",
      "   1     1     1       1\n",
      "[]\n",
      "  x0    x1    x2    f(x)\n",
      "----  ----  ----  ------\n",
      "   0     0     0       1\n",
      "   0     0     1       0\n",
      "   0     1     0       1\n",
      "   0     1     1       1\n",
      "   1     0     0       1\n",
      "   1     0     1       0\n",
      "   1     1     0       0\n",
      "   1     1     1       1\n",
      "[]\n",
      "  x0    x1    x2    f(x)\n",
      "----  ----  ----  ------\n",
      "   0     0     0       1\n",
      "   0     0     1       1\n",
      "   0     1     0       0\n",
      "   0     1     1       1\n",
      "   1     0     0       1\n",
      "   1     0     1       0\n",
      "   1     1     0       0\n",
      "   1     1     1       1\n",
      "[]\n",
      "  x0    x1    x2    f(x)\n",
      "----  ----  ----  ------\n",
      "   0     0     0       1\n",
      "   0     0     1       1\n",
      "   0     1     0       1\n",
      "   0     1     1       0\n",
      "   1     0     0       0\n",
      "   1     0     1       1\n",
      "   1     1     0       1\n",
      "   1     1     1       0\n"
     ]
    }
   ],
   "source": [
    "import cgm \n",
    "import bf\n",
    "\n",
    "# prints all functions where the first bit is (a) a dummy in nu but (b) not a dummy in f\n",
    "bits = 3\n",
    "for idx in range(2**(2**bits)):\n",
    "  f = bf.BF( bf.idx2inp(idx, 2**bits) )\n",
    "  is_dummy_in_f = True \n",
    "  for uidx in range(2**bits):\n",
    "    u = bf.idx2inp(uidx, bits)\n",
    "    if f[ bf.flip(u, { 0 }) ] != f[u]:\n",
    "      is_dummy_in_f = False \n",
    "      break\n",
    "  crit = list(cgm.crits(cgm.nu, 0, f))\n",
    "  if len(crit) == 0 and not is_dummy_in_f:\n",
    "    print(f)"
   ]
  },
  {
   "cell_type": "code",
   "execution_count": 7,
   "metadata": {},
   "outputs": [
    {
     "name": "stdout",
     "output_type": "stream",
     "text": [
      "  x0    x1    f(x)\n",
      "----  ----  ------\n",
      "   0     0       0\n",
      "   0     1       0\n",
      "   1     0       1\n",
      "   1     1       0\n"
     ]
    }
   ],
   "source": [
    "import bf\n",
    "\n",
    "# how 2 convert lambda function to list\n",
    "lf = lambda x0, x1: x0 and not x1\n",
    "bits = 2\n",
    "f = [0]*(2**bits)\n",
    "for u in bf.iterinp(bits):\n",
    "    idx = bf.inp2idx(u)\n",
    "    f[idx] = int(lf(*u))\n",
    "f = bf.BF(f)\n",
    "print(f)"
   ]
  },
  {
   "cell_type": "code",
   "execution_count": 4,
   "metadata": {},
   "outputs": [
    {
     "name": "stdout",
     "output_type": "stream",
     "text": [
      "[1]\n",
      "[2, 1]\n",
      "[3, 1]\n",
      "[3, 2, 1]\n",
      "[4, 1]\n",
      "[4, 2, 1]\n",
      "[4, 3, 1]\n"
     ]
    }
   ],
   "source": [
    "import blame\n",
    "import cgm\n",
    "import bf\n",
    "from tabulate import tabulate\n",
    "\n",
    "f = bf.from_lambda(lambda x0,x1,x2,x3,x4: (x0 and x1) or (x2 and x3 and x4))\n",
    "# valx0 = cgm.banzhaf(cgm.omega, 0, f)\n",
    "# valx2 = cgm.banzhaf(cgm.omega, 2, f)\n",
    "# print(valx0, valx2)\n",
    "\n",
    "crits = list( cgm.crits(cgm.omega, 0, f) )\n",
    "for c in crits:\n",
    "    print(c)\n",
    "# table, headers = cgm.cgm_table(f, cgm.sym_omega)\n",
    "# print(tabulate(table, headers))"
   ]
  },
  {
   "cell_type": "code",
   "execution_count": null,
   "metadata": {},
   "outputs": [],
   "source": []
  }
 ],
 "metadata": {
  "interpreter": {
   "hash": "31f2aee4e71d21fbe5cf8b01ff0e069b9275f58929596ceb00d14d90e3e16cd6"
  },
  "kernelspec": {
   "display_name": "Python 3.8.10 64-bit",
   "language": "python",
   "name": "python3"
  },
  "language_info": {
   "codemirror_mode": {
    "name": "ipython",
    "version": 3
   },
   "file_extension": ".py",
   "mimetype": "text/x-python",
   "name": "python",
   "nbconvert_exporter": "python",
   "pygments_lexer": "ipython3",
   "version": "3.8.10"
  },
  "orig_nbformat": 4
 },
 "nbformat": 4,
 "nbformat_minor": 2
}
