{
 "cells": [
  {
   "cell_type": "code",
   "execution_count": 1,
   "metadata": {},
   "outputs": [],
   "source": [
    "import impmeas as imp\n",
    "import pandas as pd\n",
    "import os\n",
    "from time import time\n",
    "from tqdm.notebook import tqdm\n",
    "import sys; sys.setrecursionlimit(15000)\n",
    "imp.set_pmc_solver(imp.GPMC())\n",
    "\n",
    "rpath = \"./results/ds_iscas99.csv\"\n",
    "fdir = \"./cnfs/iscas99\"\n",
    "fnames = [ f\"b{str(idx+1).zfill(2)}.bench.dimacs\" for idx in range(13) ]\n",
    "fpaths = [ f\"{fdir}/{fname}\" for fname in fnames ]\n",
    "\n",
    "def execute_method(df, cnf_name, method_name, pbar, func):\n",
    "    if pbar is not None:\n",
    "        pbar.set_description(f\"{cnf_name} / {method_name}\")\n",
    "    else:\n",
    "        print(f\"{cnf_name} / {method_name}\")\n",
    "    t1 = time() \n",
    "    ret = func()\n",
    "    dt = time() - t1\n",
    "    d = { \"benchmark\": cnf_name, \"method\": method_name, \"time\": dt }\n",
    "    df = pd.concat((df, pd.DataFrame([d]).set_index(\"benchmark\")))\n",
    "    return ret, df\n",
    "\n",
    "def execute_example(df, fpath, methods, pbar):\n",
    "    fname = fpath.split(\"/\")[-1]\n",
    "    parsed, cnf, nvars, nclauses = imp.parse_dimacs(open(fpath).read())\n",
    "    formula = None\n",
    "\n",
    "    if (m:=\"GPMC_parsing\") in methods: formula, df = execute_method(df, fname, m, pbar, lambda: imp.Formula.parse(parsed))\n",
    "    if formula is not None:\n",
    "        if (m:=\"GPMC_satcount\") in methods: _, df = execute_method(df, fname, m, pbar, lambda: imp.GPMC().satcount(cnf))\n",
    "        if (m:=\"GPMC_influence\") in methods: _, df = execute_method(df, fname, m, pbar, lambda: imp.influence(formula, \"x1\"))\n",
    "        if (m:=\"GPMC_raw_influence\") in methods: _, df = execute_method(df, fname, m, pbar, lambda: imp.influence_cnf(cnf, \"x1\", imp.GPMC()))\n",
    "        if os.path.getsize(fpath) / 1024 < 1: # the remainder timed out... this too\n",
    "            if (m:=\"GPMC_blame\") in methods: _, df = execute_method(df, fname, m, pbar, lambda: imp.influence_cnf(cnf, \"x1\", imp.GPMC()))\n",
    "    if os.path.getsize(fpath) / 1024 < 10: # only if smaller than 10 kB, the remainder timed out \n",
    "        if (m:=\"BDD_initial_order\") in methods: \n",
    "            vs, df = execute_method(df, fname, m, pbar, lambda: imp.representation.random_order(cnf))\n",
    "            imp.buddy_initialize([f\"x{idx}\" for idx in vs])\n",
    "            imp.representation.set_dynamic_reordering()\n",
    "        if (m:=\"BDD_parsing\") in methods: bdd, df = execute_method(df, fname, m, pbar, lambda: imp.BuddyNode.parse(parsed))\n",
    "        if (m:=\"BDD_expectation\") in methods: _, df = execute_method(df, fname, m, pbar, lambda: bdd.expectation())\n",
    "        if (m:=\"BDD_influence\") in methods: _, df = execute_method(df, fname, m, pbar, lambda: imp.influence(bdd, \"x1\"))\n",
    "        if (m:=\"BDD_dcgm\") in methods: _, df = execute_method(df, fname, m, pbar, lambda: imp.dominating_cgm(bdd))\n",
    "        if os.path.getsize(fpath) / 1024 < 2: # the remainder timed out\n",
    "            if (m:=\"BDD_blame\") in methods: _, df = execute_method(df, fname, m, pbar, lambda: imp.blame(bdd, \"x1\", cutoff=0, debug=False))\n",
    "    return df"
   ]
  },
  {
   "cell_type": "code",
   "execution_count": null,
   "metadata": {},
   "outputs": [],
   "source": [
    "# comment out methods below to actually execute them (note that there are some dependencies, e.g. \"GPMC_influence\" and \"GPMC_parsing\")\n",
    "methods = [\n",
    "    # \"BDD_initial_order\",\n",
    "    # \"BDD_parsing\",\n",
    "    # \"BDD_expectation\",\n",
    "    # \"BDD_influence\",\n",
    "    # \"BDD_dcgm\",\n",
    "    # \"BDD_blame\",\n",
    "    # \"GPMC_parsing\",\n",
    "    # \"GPMC_blame\",\n",
    "    # \"GPMC_satcount\",\n",
    "    # \"GPMC_influence\",\n",
    "    # \"GPMC_raw_influence\",\n",
    "]\n",
    "\n",
    "df = pd.read_csv(rpath, index_col=[\"benchmark\"]) if os.path.exists(rpath) else pd.DataFrame()\n",
    "for _ in range(20):\n",
    "    for fpath in (pbar := tqdm(fpaths)):\n",
    "        df = execute_example(df, fpath, methods, pbar)\n",
    "        df.to_csv(rpath)"
   ]
  },
  {
   "cell_type": "code",
   "execution_count": null,
   "metadata": {},
   "outputs": [],
   "source": []
  },
  {
   "cell_type": "code",
   "execution_count": null,
   "metadata": {},
   "outputs": [],
   "source": []
  }
 ],
 "metadata": {
  "kernelspec": {
   "display_name": "Python 3",
   "language": "python",
   "name": "python3"
  },
  "language_info": {
   "codemirror_mode": {
    "name": "ipython",
    "version": 3
   },
   "file_extension": ".py",
   "mimetype": "text/x-python",
   "name": "python",
   "nbconvert_exporter": "python",
   "pygments_lexer": "ipython3",
   "version": "3.10.6"
  },
  "orig_nbformat": 4,
  "vscode": {
   "interpreter": {
    "hash": "916dbcbb3f70747c44a77c7bcd40155683ae19c65e1c03b4aa3499c5328201f1"
   }
  }
 },
 "nbformat": 4,
 "nbformat_minor": 2
}
