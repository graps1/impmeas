{
 "cells": [
  {
   "cell_type": "code",
   "execution_count": 1,
   "metadata": {},
   "outputs": [
    {
     "name": "stdout",
     "output_type": "stream",
     "text": [
      "  n    m  Blame    Bz+Dominating    Bz+Rectifying    Bz+quadratic HKR    Influence\n",
      "---  ---  -------  ---------------  ---------------  ------------------  -----------\n",
      "  1    1  =        =                =                =                   =\n",
      "  2    2  <        =                <                <                   <\n",
      "  3    3  <        =                <                <                   <\n",
      "  4    4  <        =                <                <                   <\n",
      "  2    1  <        <                <                <                   <\n",
      "  1    2  <        >                =                >                   =\n",
      "  3    1  <        <                <                <                   <\n",
      "  1    3  <        >                =                >                   =\n",
      "  3    2  <        <                <                <                   <\n",
      "  2    3  <        >                <                <                   <\n",
      "  4    1  <        <                <                <                   <\n",
      "  1    4  <        >                =                >                   =\n",
      "  4    2  <        <                <                <                   <\n",
      "  2    4  <        >                <                >                   <\n"
     ]
    }
   ],
   "source": [
    "import impmeas as imp\n",
    "from tabulate import tabulate\n",
    "\n",
    "TOLERANCE = 1e-10\n",
    "\n",
    "# f(n,m) = (/\\_{i=1}^n xi) \\/ (\\oplus_{i=1}^m yi)\n",
    "# x1....xn all have the same importance by TYPE and so do y1....ym. \n",
    "# but how important is x1 compared to y1? \n",
    "# different importance values have different \"opinions\"...\n",
    "# we check the importance relationship x1 ~ y1 for different values of n and m in the table below\n",
    "# \"<\" means that the IVF specified in the column rates rates y1 higher than x1, \n",
    "# \">\" means that x1 is more important, \n",
    "# \"=\" if they are equally important.\n",
    "\n",
    "def f(n,m):\n",
    "  X, Y = [f\"x{idx+1}\" for idx in range(n)], [f\"y{idx+1}\" for idx in range(m)]\n",
    "  left = imp.Table.parse(\" & \".join(X))\n",
    "  right = imp.Table.parse(\" ^ \".join(Y))\n",
    "  return left | right\n",
    "\n",
    "Rs = [ \n",
    "  (imp.blame, \"Blame\"),\n",
    "  (lambda f,x: imp.banzhaf(imp.dominating_cgm(f),x), \"Bz+Dominating\"),\n",
    "  (lambda f,x: imp.banzhaf(imp.rectifying_cgm(f),x), \"Bz+Rectifying\"),\n",
    "  (lambda f,x: imp.banzhaf(imp.hkr_cgm(f),x), \"Bz+quadratic HKR\"),\n",
    "  (imp.influence, \"Influence\")\n",
    "]\n",
    "\n",
    "headers = [\"n\", \"m\"] + [name for _, name in Rs]\n",
    "table = []\n",
    "\n",
    "for n, m in [(1,1), (2,2), (3,3), (4,4), (2,1), (1,2), (3,1), \n",
    "             (1,3), (3,2), (2,3), (4,1), (1,4), (4,2), (2,4)]:\n",
    "  l = f(n, m)\n",
    "  row = [n, m]\n",
    "  for v, name in Rs:\n",
    "    xval = v(l, \"x1\")\n",
    "    yval = v(l, \"y1\")\n",
    "    if xval > yval: row.append(\">\")\n",
    "    elif xval < yval: row.append(\"<\")\n",
    "    elif abs(xval-yval) < TOLERANCE: row.append(\"=\")\n",
    "    else: print(xval, yval)\n",
    "  table.append(row)\n",
    "\n",
    "print(tabulate(table, headers=headers))\n"
   ]
  },
  {
   "cell_type": "code",
   "execution_count": null,
   "metadata": {},
   "outputs": [],
   "source": []
  }
 ],
 "metadata": {
  "kernelspec": {
   "display_name": "Python 3.10.6 64-bit",
   "language": "python",
   "name": "python3"
  },
  "language_info": {
   "codemirror_mode": {
    "name": "ipython",
    "version": 3
   },
   "file_extension": ".py",
   "mimetype": "text/x-python",
   "name": "python",
   "nbconvert_exporter": "python",
   "pygments_lexer": "ipython3",
   "version": "3.10.6"
  },
  "orig_nbformat": 4,
  "vscode": {
   "interpreter": {
    "hash": "916dbcbb3f70747c44a77c7bcd40155683ae19c65e1c03b4aa3499c5328201f1"
   }
  }
 },
 "nbformat": 4,
 "nbformat_minor": 2
}
