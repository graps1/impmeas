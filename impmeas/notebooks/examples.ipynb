{
 "cells": [
  {
   "cell_type": "code",
   "execution_count": 12,
   "metadata": {},
   "outputs": [],
   "source": [
    "import impmeas as imp \n",
    "from tabulate import tabulate"
   ]
  },
  {
   "cell_type": "code",
   "execution_count": 13,
   "metadata": {},
   "outputs": [
    {
     "name": "stdout",
     "output_type": "stream",
     "text": [
      "B^rho_x(h):\t 0.6250\n",
      "B^rho_x(f):\t 0.70833\n"
     ]
    }
   ],
   "source": [
    "# Blame: Counterexample for Property NI+\n",
    "# hash: tsXi\n",
    "h = imp.Table.parse(\"x|y\")\n",
    "f = h ^ imp.Table.parse(\"z\")\n",
    "print(f\"B^rho_x(h):\\t {imp.blame(h, 'x'):.4f}\")\n",
    "print(f\"B^rho_x(f):\\t {imp.blame(f, 'x'):.5f}\")"
   ]
  },
  {
   "cell_type": "code",
   "execution_count": 14,
   "metadata": {},
   "outputs": [
    {
     "name": "stdout",
     "output_type": "stream",
     "text": [
      "x2:0.4375 < x0:0.5521 < x3:0.6250 == x1:0.6250\n",
      "x2:0.3125 < x3:0.4167 == x1:0.4167 < x0:0.4292 < z:0.7188\n"
     ]
    }
   ],
   "source": [
    "# Blame: Counterexample for Property RP\n",
    "# hash: 0ZfZ\n",
    "h = imp.Table.parse(\"x1 & (~x0 & x2 | x3) | x0 & x2 & x3\")\n",
    "f = h | imp.Table.parse(\"z\")\n",
    "b = lambda f,x: imp.blame(f,x,rho=lambda x:1/(x+1))\n",
    "print(imp.ranking_from_val(b, h))\n",
    "print(imp.ranking_from_val(b, f))"
   ]
  },
  {
   "cell_type": "code",
   "execution_count": 15,
   "metadata": {},
   "outputs": [
    {
     "name": "stdout",
     "output_type": "stream",
     "text": [
      "Bz*omega_x(f) | Bz*omega_x(~f) | Bz*nu_x(f) | Bz*nu_x(~f):\t 0.25 | 0.75 | 0.75 | 0.25\n",
      "Bz*omega_y(f) | Bz*omega_y(~f) | Bz*nu_y(f) | Bz*nu_y(~f):\t 0.25 | 0.25 | 0.25 | 0.25\n"
     ]
    }
   ],
   "source": [
    "# Bz/DCGM and Bz/RCGM: non-compliance to RP+, CI, NI+\n",
    "# hash: OyLA\n",
    "f = imp.Table.parse(\"x&(y^z)\")\n",
    "bz_dcgm = lambda f,x: imp.banzhaf(imp.dominating_cgm(f),x)\n",
    "bz_rcgm = lambda f,x: imp.banzhaf(imp.rectifying_cgm(f),x)\n",
    "print(\"Bz*omega_x(f) | Bz*omega_x(~f) | Bz*nu_x(f) | Bz*nu_x(~f):\\t\", \n",
    "    bz_dcgm( f,\"x\"), \"|\", bz_dcgm( ~f,\"x\"), \"|\", bz_rcgm( f,\"x\"), \"|\", bz_rcgm( ~f,\"x\"))\n",
    "print(\"Bz*omega_y(f) | Bz*omega_y(~f) | Bz*nu_y(f) | Bz*nu_y(~f):\\t\", \n",
    "    bz_dcgm( f,\"y\"), \"|\", bz_dcgm( ~f,\"y\"), \"|\", bz_rcgm( f,\"y\"), \"|\", bz_rcgm( ~f,\"y\"))"
   ]
  },
  {
   "cell_type": "code",
   "execution_count": 27,
   "metadata": {},
   "outputs": [
    {
     "name": "stdout",
     "output_type": "stream",
     "text": [
      "u    u    u      f1    f2    f3    f4    f    h    scs^u_x(f1)    scs^u_x(f2)    scs^u_x(f3)    scs^u_x(f4)    scs^u_x(f)    scs^u_x(h)\n",
      "---  ---  ---  ----  ----  ----  ----  ---  ---  -------------  -------------  -------------  -------------  ------------  ------------\n",
      "x/0  y/0  z/0     0     0     0     0    0    0              0              0              0              0             1             1\n",
      "x/0  y/0  z/1     1     1     0     0    1    0              2            inf              0              0             0             0\n",
      "x/0  y/1  z/0     1     1     1     1    0    0              0            inf            inf              0             0             0\n",
      "x/0  y/1  z/1     1     1     1     1    1    1              1            inf            inf              0             1           inf\n",
      "x/1  y/0  z/0     1     1     1     1    0    0              0              0              0              0             1           inf\n",
      "x/1  y/0  z/1     1     1     1     1    0    1              1              1              0              0             0             0\n",
      "x/1  y/1  z/0     0     1     1     0    1    1              0              1              1              0             0             0\n",
      "x/1  y/1  z/1     1     1     1     0    1    1              2              2              1              0             1             1\n"
     ]
    }
   ],
   "source": [
    "\n",
    "f1 = imp.Table.parse(\"(x^y) | z\")\n",
    "f2 = imp.Table.parse(\"(x | y | z)\")\n",
    "f3 = imp.Table.parse(\"x | y\")\n",
    "f4 = imp.Table.parse(\"x^y\")\n",
    "f = imp.Table.parse(\"x&y | ~x&z\")\n",
    "h = imp.Table.parse(\"x&(y|z) | ~x&z&y\")\n",
    "funcs = [f1, f2, f3, f4, f, h]\n",
    "\n",
    "table = [\"u u u f1 f2 f3 f4 f h scs^u_x(f1) scs^u_x(f2) scs^u_x(f3) scs^u_x(f4) scs^u_x(f) scs^u_x(h)\".split()]\n",
    "for u in imp.iter_assignments([\"z\", \"y\", \"x\"]):\n",
    "    table.append([ v+\"/\"+str(int(u[v])) for v in \"xyz\" ]\n",
    "        + [ int(it[u]) for it in funcs ] \n",
    "        + [ imp.scs(it,\"x\",u) for it in funcs ])\n",
    "\n",
    "print(tabulate(table, headers=\"firstrow\")) "
   ]
  },
  {
   "cell_type": "code",
   "execution_count": null,
   "metadata": {},
   "outputs": [],
   "source": []
  },
  {
   "cell_type": "code",
   "execution_count": null,
   "metadata": {},
   "outputs": [],
   "source": []
  }
 ],
 "metadata": {
  "kernelspec": {
   "display_name": "Python 3.10.6 64-bit",
   "language": "python",
   "name": "python3"
  },
  "language_info": {
   "codemirror_mode": {
    "name": "ipython",
    "version": 3
   },
   "file_extension": ".py",
   "mimetype": "text/x-python",
   "name": "python",
   "nbconvert_exporter": "python",
   "pygments_lexer": "ipython3",
   "version": "3.10.6"
  },
  "orig_nbformat": 4,
  "vscode": {
   "interpreter": {
    "hash": "916dbcbb3f70747c44a77c7bcd40155683ae19c65e1c03b4aa3499c5328201f1"
   }
  }
 },
 "nbformat": 4,
 "nbformat_minor": 2
}
