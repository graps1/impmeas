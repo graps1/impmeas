{
 "cells": [
  {
   "cell_type": "code",
   "execution_count": 2,
   "metadata": {},
   "outputs": [],
   "source": [
    "from utils import time_op\n",
    "import impmeas as imp\n",
    "from tabulate import tabulate\n",
    "\n",
    "solver = imp.GPMC()\n",
    "imp.set_pmc_solver(solver)\n",
    "vars = [f\"x{idx+1}\" for idx in range(10)] # we don't need more than that\n",
    "imp.buddy_initialize(vars, nodenum=1<<20, cachesize=1<<15)"
   ]
  },
  {
   "cell_type": "code",
   "execution_count": 3,
   "metadata": {},
   "outputs": [
    {
     "name": "stdout",
     "output_type": "stream",
     "text": [
      "[00000.5589 ms / 0.0006 s / 0.0000 min] random_k_cnf\n",
      "[00001.2643 ms / 0.0013 s / 0.0000 min] parse\n",
      "[00014.0970 ms / 0.0141 s / 0.0002 min] satcount\n",
      "GPMC satcount = 654\n",
      "[00001.6325 ms / 0.0016 s / 0.0000 min] parse\n",
      "[00000.0093 ms / 0.0000 s / 0.0000 min] expectation\n",
      "BDD satcount = 654\n"
     ]
    }
   ],
   "source": [
    "# tests the model counting capabilities of GPMC and BuDDy \n",
    "_, formula = time_op(imp.random_k_cnf)(10,45,7)\n",
    "\n",
    "f = time_op(imp.Formula.parse)(formula)\n",
    "satcount_gpmc = time_op(solver.satcount)(f.tseitin()[0])\n",
    "print(f\"GPMC satcount = {satcount_gpmc}\")\n",
    "\n",
    "f = time_op(imp.BuddyNode.parse)(formula)\n",
    "satcount_bdd = int(time_op(f.expectation)()*2**len(vars))\n",
    "print(f\"BDD satcount = {satcount_bdd}\")"
   ]
  },
  {
   "cell_type": "code",
   "execution_count": 4,
   "metadata": {},
   "outputs": [
    {
     "name": "stdout",
     "output_type": "stream",
     "text": [
      "[00001.9281 ms / 0.0019 s / 0.0000 min] parse\n",
      "bdd size = 88\n",
      "=== COMPUTING BLAME for x1 in <impmeas.formulas.buddy.BuddyNode object at 0x7f2ea44524a0> ===\n",
      "k=0 d result=0.2617 max increase possible=0.3691 \n",
      "k=1 d result=0.2930 max increase possible=0.0508 \n",
      "k=2 d result=0.0508 max increase possible=0.0000 \n",
      "stopped earlier because cannot improve above cutoff=0.0001.\n",
      "current value: 0.6055, can only be increased by 0.0000.\n",
      "=== DONE ===\n",
      "[00001.0931 ms / 0.0011 s / 0.0000 min] blame\n",
      "B^rhofrac_x1(f) = 0.60547\n"
     ]
    }
   ],
   "source": [
    "# computes the modified Blame value via the proposed BDD approach\n",
    "f = time_op(imp.BuddyNode.parse)(formula)\n",
    "print(f\"bdd size = {f.nodecount}\")\n",
    "blame = time_op(imp.blame)(f, \"x1\", rho=lambda x: 1/(x+1), cutoff=1e-4, modified=True, debug=True)\n",
    "print(f\"B^rhofrac_x1(f) = {blame:.5f}\")"
   ]
  },
  {
   "cell_type": "code",
   "execution_count": 5,
   "metadata": {},
   "outputs": [
    {
     "name": "stdout",
     "output_type": "stream",
     "text": [
      "[00001.4510 ms / 0.0015 s / 0.0000 min] parse\n",
      "=== COMPUTING BLAME for x1 in Formula with size 1734 ===\n",
      "k=0 size of cnf: 1533 d result=0.2617 max increase possible=0.3691 \n",
      "k=1 size of cnf: 1533 d result=0.2930 max increase possible=0.0508 \n",
      "k=2 size of cnf: 1533 d result=0.0508 max increase possible=0.0000 \n",
      "stopped earlier because cannot improve above cutoff=0.0001.\n",
      "current value: 0.6055, can only be increased by 0.0000.\n",
      "=== DONE ===\n",
      "[00151.7844 ms / 0.1518 s / 0.0025 min] blame\n",
      "B^rhofrac_x1(f) = 0.60547\n"
     ]
    }
   ],
   "source": [
    "# computes the modified Blame value via the proposed PMC approach\n",
    "f = time_op(imp.Formula.parse)(formula)\n",
    "blame = time_op(imp.blame)(f, \"x1\", rho=lambda x: 1/(x+1), cutoff=1e-4, modified=True, debug=True)\n",
    "print(f\"B^rhofrac_x1(f) = {blame:.5f}\")"
   ]
  },
  {
   "cell_type": "code",
   "execution_count": 6,
   "metadata": {},
   "outputs": [
    {
     "name": "stdout",
     "output_type": "stream",
     "text": [
      "f = x2'x1'x4' | x2x4 | x1'x3 | x2x3\n",
      "------------------------------\n",
      "B^rhofrac_x1(f) = 0.52083\n",
      "I_x1(f) = 0.37500\n",
      "Bz_x1(E^kappaquad_f) = 0.24023\n",
      "omega_f = x1x3 | x4x2 | x3x2\n",
      "nu_f = x1x4 | x1x3 | x1x2 | x4x2 | x3x2\n"
     ]
    }
   ],
   "source": [
    "# We can see that Table-based approaches work also for smaller formulas\n",
    "# generating random CNF\n",
    "cnf, formula = imp.random_k_cnf(4,9,4)\n",
    "f = imp.Table.parse(formula)\n",
    "print(\"f =\", f)\n",
    "print(\"-\"*30)\n",
    "\n",
    "# computing Blame via Table based approach\n",
    "blame = imp.blame(f, \"x1\", rho=lambda x: 1/(x+1), cutoff=1e-4, debug=False)\n",
    "print(f\"B^rhofrac_x1(f) = {blame:.5f}\")\n",
    "\n",
    "# computing Influence via Table based approach\n",
    "infl = imp.influence(f, \"x1\")\n",
    "print(f\"I_x1(f) = {infl:.5f}\")\n",
    "\n",
    "# computing composition of Banzhaf value + HKR's quadratic CGM\n",
    "hkr = imp.banzhaf(imp.hkr_cgm(f),\"x1\")\n",
    "print(f\"Bz_x1(E^kappaquad_f) = {hkr:.5f}\")\n",
    "\n",
    "# computing dominating and rectifying CGMs\n",
    "dom = imp.dominating_cgm(f)\n",
    "rec = imp.rectifying_cgm(f)\n",
    "print(\"omega_f =\", dom)\n",
    "print(\"nu_f =\", rec)"
   ]
  },
  {
   "cell_type": "code",
   "execution_count": 7,
   "metadata": {},
   "outputs": [
    {
     "name": "stdout",
     "output_type": "stream",
     "text": [
      "B^rho_x(h):\t 0.6250\n",
      "B^rho_x(f):\t 0.70833\n"
     ]
    }
   ],
   "source": [
    "# Blame: The importance of variables in modules can actually increase (for non-monotonic modules).\n",
    "# here, note that f = (x|y)^z is modular in h = x|y. However, x is considered as more relevant for f than for h:\n",
    "h = imp.Table.parse(\"x|y\")\n",
    "f = h ^ imp.Table.parse(\"z\")\n",
    "print(f\"B^rho_x(h):\\t {imp.blame(h, 'x'):.4f}\")\n",
    "print(f\"B^rho_x(f):\\t {imp.blame(f, 'x'):.5f}\")"
   ]
  },
  {
   "cell_type": "code",
   "execution_count": 8,
   "metadata": {},
   "outputs": [
    {
     "name": "stdout",
     "output_type": "stream",
     "text": [
      "g = x2'x1'x0' | x2x1x0 | x2'x0'x3 | x2x0x3 | x1x3\n",
      "f = x2'x1'x0' | x2x1x0 | x2'x0'x3 | x2x0x3 | x1x3 | z\n",
      "B^rhoexp_(.)(g):\t x3:0.6250 < x0:0.7188 == x2:0.7188 < x1:0.7266\n",
      "B^rhoexp_(.)(f):\t x3:0.4062 < x1:0.4980 < x0:0.5000 == x2:0.5000 < z:0.6172\n",
      "----------------------------------------------------------------------------------------------------\n",
      "g = x2'x1x0' | x1'x0 | x3\n",
      "f = x2'x1x0' | x1'x0 | x3 | z\n",
      "B^rhofrac_(.)(g):\t x2:0.2969 < x1:0.6302 == x0:0.6302 < x3:0.7188\n",
      "B^rhofrac_(.)(f):\t x2:0.2250 < x3:0.4688 == z:0.4688 < x1:0.4802 == x0:0.4802\n"
     ]
    }
   ],
   "source": [
    "# Blame: Counterexample for Property RANK\n",
    "g = imp.Table.parse(\"~x1 & ~x0 & ~x2 | x1 & x0 & x2 | x3 & ~x0 & ~x2 | x3 & x0 & x2 | x3 & x1\")\n",
    "f = g | imp.Table.parse(\"z\")\n",
    "b = lambda f,x: imp.blame(f,x,rho=lambda x:2**-x)\n",
    "print(\"g =\", g)\n",
    "print(\"f =\", f)\n",
    "print(f\"B^rhoexp_(.)(g):\\t {imp.ranking_from_val(b, g)}\")\n",
    "print(f\"B^rhoexp_(.)(f):\\t {imp.ranking_from_val(b, f)}\")\n",
    "\n",
    "print(\"-\"*100)\n",
    "\n",
    "g = imp.Table.parse(\"x1 & ~x0 & ~x2 | ~x1 & x0 | x3\")\n",
    "f = g | imp.Table.parse(\"z\")    \n",
    "b = lambda f,x: imp.blame(f,x,rho=lambda x:1/(x+1))\n",
    "print(\"g =\", g)\n",
    "print(\"f =\", f)\n",
    "print(f\"B^rhofrac_(.)(g):\\t {imp.ranking_from_val(b, g)}\")\n",
    "print(f\"B^rhofrac_(.)(f):\\t {imp.ranking_from_val(b, f)}\")"
   ]
  },
  {
   "cell_type": "code",
   "execution_count": 9,
   "metadata": {},
   "outputs": [
    {
     "name": "stdout",
     "output_type": "stream",
     "text": [
      "(Bz*omega)_(.)(f):\t y:0.2500 == z:0.2500 < x:0.7500\n",
      "(Bz*omega)_(.)(~f):\t x:0.2500 == y:0.2500 == z:0.2500\n"
     ]
    }
   ],
   "source": [
    "# Bz + dominating CGM: non-compliance to unbiasedness\n",
    "f = imp.Table.parse(\"x|(y^z)\")\n",
    "bz_dcgm = lambda f,x: imp.banzhaf(imp.dominating_cgm(f),x)\n",
    "print(f\"(Bz*omega)_(.)(f):\\t {imp.ranking_from_val(bz_dcgm, f)}\")\n",
    "print(f\"(Bz*omega)_(.)(~f):\\t {imp.ranking_from_val(bz_dcgm, ~f)}\")"
   ]
  },
  {
   "cell_type": "code",
   "execution_count": 10,
   "metadata": {},
   "outputs": [
    {
     "name": "stdout",
     "output_type": "stream",
     "text": [
      "u(x)    u(y)    u(z)      f1(u)    f2(u)    f3(u)    f4(u)    f(u)    h(u)    scs^u_x(f1)    scs^u_x(f2)    scs^u_x(f3)    scs^u_x(f4)    scs^u_x(f)    scs^u_x(h)\n",
      "x/0     y/0     z/0           0        0        0        0       0       0              0              0              0              0             1             1\n",
      "x/0     y/0     z/1           1        1        0        0       1       0              2            inf              0              0             0             0\n",
      "x/0     y/1     z/0           1        1        1        1       0       0              0            inf            inf              0             0             0\n",
      "x/0     y/1     z/1           1        1        1        1       1       1              1            inf            inf              0             1           inf\n",
      "x/1     y/0     z/0           1        1        1        1       0       0              0              0              0              0             1           inf\n",
      "x/1     y/0     z/1           1        1        1        1       0       1              1              1              0              0             0             0\n",
      "x/1     y/1     z/0           0        1        1        0       1       1              0              1              1              0             0             0\n",
      "x/1     y/1     z/1           1        1        1        0       1       1              2              2              1              0             1             1\n"
     ]
    }
   ],
   "source": [
    "# Table in the proof that shows limitations for the Blame\n",
    "f1 = imp.Table.parse(\"(x^y) | z\")\n",
    "f2 = imp.Table.parse(\"(x | y | z)\")\n",
    "f3 = imp.Table.parse(\"x | y\")\n",
    "f4 = imp.Table.parse(\"x^y\")\n",
    "f = imp.Table.parse(\"x&y | ~x&z\")\n",
    "h = imp.Table.parse(\"x&(y|z) | ~x&z&y\")\n",
    "funcs = [f1, f2, f3, f4, f, h]\n",
    "\n",
    "table = [\"u(x) u(y) u(z) f1(u) f2(u) f3(u) f4(u) f(u) h(u) scs^u_x(f1) scs^u_x(f2) scs^u_x(f3) scs^u_x(f4) scs^u_x(f) scs^u_x(h)\".split()]\n",
    "for u in imp.iter_assignments([\"x\", \"y\", \"z\"]):\n",
    "    table.append([ f\"{v}/{int(u[v])}\" for v in \"xyz\" ]\n",
    "        + [ int(it[u]) for it in funcs ] \n",
    "        + [ imp.scs(it,\"x\",u) for it in funcs ])\n",
    "\n",
    "print(tabulate(table, headers=\"firstrow\", tablefmt=\"plain\")) \n"
   ]
  },
  {
   "cell_type": "code",
   "execution_count": 17,
   "metadata": {},
   "outputs": [
    {
     "name": "stdout",
     "output_type": "stream",
     "text": [
      "====================================================================================================\n",
      "f           B^rhofrac_x(f)    B^rhofrac_y(f)    B^rhofrac_z(f)\n",
      "x|y|z             0.416667          0.416667          0.416667\n",
      "x&(~y)&z          0.416667          0.416667          0.416667\n",
      "x&(~y)            0.625             0.625             0\n",
      "x^y^z             1                 1                 1\n",
      "x|(y^z)           0.625             0.708333          0.708333\n",
      "x|(y&z)           0.8125            0.416667          0.416667\n",
      "====================================================================================================\n",
      "f           Bz*omega_x(f)    Bz*omega_y(f)    Bz*omega_z(f)\n",
      "x|y|z                0.25             0.25             0.25\n",
      "x&(~y)&z             0.25             0.25             0.25\n",
      "x&(~y)               0.5              0.5              0\n",
      "x^y^z                0.25             0.25             0.25\n",
      "x|(y^z)              0.75             0.25             0.25\n",
      "x|(y&z)              0.75             0.25             0.25\n",
      "====================================================================================================\n",
      "f           Bz*nu_x(f)    Bz*nu_y(f)    Bz*nu_z(f)\n",
      "x|y|z             0.25          0.25          0.25\n",
      "x&(~y)&z          0.25          0.25          0.25\n",
      "x&(~y)            0.5           0.5           0\n",
      "x^y^z             0.25          0.25          0.25\n",
      "x|(y^z)           0.25          0.25          0.25\n",
      "x|(y&z)           0.75          0.25          0.25\n",
      "====================================================================================================\n",
      "f           Bz*E_x(f)    Bz*E_y(f)    Bz*E_z(f)\n",
      "x|y|z        0.140625     0.140625     0.140625\n",
      "x&(~y)&z     0.140625     0.140625     0.140625\n",
      "x&(~y)       0.375        0.375        0\n",
      "x^y^z        0.25         0.25         0.25\n",
      "x|(y^z)      0.3125       0.1875       0.1875\n",
      "x|(y&z)      0.640625     0.140625     0.140625\n"
     ]
    }
   ],
   "source": [
    "# prints tables with Boolean functions and corresponding importance rankings induced by Blame, Influence, etc\n",
    "fs = [ \n",
    "    \"x|y|z\",\n",
    "    \"x&(~y)&z\",\n",
    "    \"x&(~y)\",\n",
    "    \"x^y^z\",\n",
    "    \"x|(y^z)\",\n",
    "    \"x|(y&z)\",\n",
    "]\n",
    "\n",
    "v_qh = lambda f,x: imp.banzhaf(imp.hkr_cgm(f),x)\n",
    "v_dcgm = lambda f,x: imp.banzhaf(imp.dominating_cgm(f),x)\n",
    "v_rcgm = lambda f,x: imp.banzhaf(imp.rectifying_cgm(f),x)\n",
    "blame = imp.blame\n",
    "\n",
    "for v, name in [(blame, \"B^rhofrac\"), (v_dcgm, \"Bz*omega\"), (v_rcgm, \"Bz*nu\"), (v_qh, \"Bz*E\")]:\n",
    "    valnames = [f\"{name}_{var}(f)\" for var in [\"x\", \"y\", \"z\"]]\n",
    "    header = [\"f\"] + valnames\n",
    "    table = []\n",
    "    for f in fs:\n",
    "        f_binfunc = imp.Table.parse(f)\n",
    "        row = [ f ]\n",
    "        for var in [\"x\", \"y\", \"z\"]: \n",
    "            b = v(f_binfunc, var)\n",
    "            row.append(b)\n",
    "        table.append(row)\n",
    "    print(\"=\"*100)\n",
    "    print( tabulate(table, header, tablefmt=\"plain\") )"
   ]
  },
  {
   "cell_type": "code",
   "execution_count": null,
   "metadata": {},
   "outputs": [],
   "source": []
  }
 ],
 "metadata": {
  "kernelspec": {
   "display_name": "Python 3 (ipykernel)",
   "language": "python",
   "name": "python3"
  },
  "language_info": {
   "codemirror_mode": {
    "name": "ipython",
    "version": 3
   },
   "file_extension": ".py",
   "mimetype": "text/x-python",
   "name": "python",
   "nbconvert_exporter": "python",
   "pygments_lexer": "ipython3",
   "version": "3.10.6"
  },
  "vscode": {
   "interpreter": {
    "hash": "916dbcbb3f70747c44a77c7bcd40155683ae19c65e1c03b4aa3499c5328201f1"
   }
  }
 },
 "nbformat": 4,
 "nbformat_minor": 2
}
