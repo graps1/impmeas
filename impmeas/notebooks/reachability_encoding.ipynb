{
 "cells": [
  {
   "cell_type": "code",
   "execution_count": 5,
   "metadata": {},
   "outputs": [
    {
     "name": "stdout",
     "output_type": "stream",
     "text": [
      "[00006.8929 ms / 0.0069 s / 0.0001 min] reach2\n",
      "5\n",
      "[00006.2809 ms / 0.0063 s / 0.0001 min] reach2\n",
      "7\n",
      "[00006.0334 ms / 0.0060 s / 0.0001 min] reach2\n",
      "8\n",
      "[00006.2997 ms / 0.0063 s / 0.0001 min] reach2\n",
      "8\n"
     ]
    }
   ],
   "source": [
    "import importance_measures.mc as mc\n",
    "\n",
    "from functools import cache\n",
    "from utils import random_k_sat, time_op\n",
    "\n",
    "def reach(k : int, g : mc.Formula, solver) -> int:\n",
    "    @cache\n",
    "    def rec(k,g):\n",
    "        if k==0:\n",
    "            return g\n",
    "        else:\n",
    "            gkm1 = rec(k-1,g)\n",
    "            ret = gkm1\n",
    "            for y in g.vars - { \"x1\" }: ret |= gkm1.flip(y)\n",
    "            return ret\n",
    "    return solver.satcount(rec(k, g))\n",
    "\n",
    "def reach2(k : int, g : mc.Formula, solver) -> int:\n",
    "    formula, vars = mc.reach(g, k, g.vars - {\"x1\"})\n",
    "    return solver.satcount(formula, ex_quantified=vars)\n",
    "\n",
    "solver = mc.GPMC()\n",
    "g = mc.Formula.parse(\"x1 | x2 & x3\")\n",
    "\n",
    "for k in range(4):\n",
    "    print(time_op(reach2)(k, g, solver))\n",
    "\n",
    "# cnf, formula = random_k_sat(10, 30, 3)\n",
    "# formula = ssat.Formula.parse(formula)"
   ]
  },
  {
   "cell_type": "code",
   "execution_count": null,
   "metadata": {},
   "outputs": [],
   "source": [
    "form = mc.outof(3, {f\"x{idx}\" for idx in range(10)})\n",
    "gpmc = mc.GPMC()\n",
    "gpmc.satcount(form)"
   ]
  },
  {
   "cell_type": "code",
   "execution_count": null,
   "metadata": {},
   "outputs": [],
   "source": [
    "from scipy.special import binom\n",
    "sum(binom(10, idx) for idx in range(3,10+1)) "
   ]
  },
  {
   "cell_type": "code",
   "execution_count": null,
   "metadata": {},
   "outputs": [],
   "source": [
    "import importance_measures.mc as mc \n",
    "mc.Formula.parse(\"x & y & (z^v) | v\")"
   ]
  },
  {
   "cell_type": "code",
   "execution_count": null,
   "metadata": {},
   "outputs": [],
   "source": []
  }
 ],
 "metadata": {
  "kernelspec": {
   "display_name": "Python 3.10.4 64-bit",
   "language": "python",
   "name": "python3"
  },
  "language_info": {
   "codemirror_mode": {
    "name": "ipython",
    "version": 3
   },
   "file_extension": ".py",
   "mimetype": "text/x-python",
   "name": "python",
   "nbconvert_exporter": "python",
   "pygments_lexer": "ipython3",
   "version": "3.10.4"
  },
  "orig_nbformat": 4,
  "vscode": {
   "interpreter": {
    "hash": "916dbcbb3f70747c44a77c7bcd40155683ae19c65e1c03b4aa3499c5328201f1"
   }
  }
 },
 "nbformat": 4,
 "nbformat_minor": 2
}
