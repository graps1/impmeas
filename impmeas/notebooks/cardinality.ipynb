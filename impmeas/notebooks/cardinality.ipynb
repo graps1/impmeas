{
 "cells": [
  {
   "cell_type": "code",
   "execution_count": 7,
   "metadata": {},
   "outputs": [
    {
     "name": "stdout",
     "output_type": "stream",
     "text": [
      "{7, 8, 9, 10, 11, 12, 13, 14, 15, 16, 17, 18, 19, 20, 21, 22}\n",
      "[[-2, 7], [-1, 7], [-1, -2, 8], [-4, 9], [-3, 9], [-3, -4, 10], [-6, 11], [-5, 11], [-5, -6, 12], [-9, 13], [-10, 14], [-7, 13], [-7, -9, 14], [8, 10, -15], [-7, -10, 15], [8, -16], [-8, 14], [-8, -9, 15], [10, -16], [-8, -10, 16], [-13, 17], [-14, 18], [-15, 19], [-16, 20], [-11, 17], [-11, -13, 18], [12, 14, -19], [-11, -14, 19], [12, 15, -20], [-11, -15, 20], [12, 16, -21], [-11, -16, 21], [12, -22], [-12, 18], [-12, -13, 19], [14, -20], [-12, -14, 20], [15, -21], [-12, -15, 21], [16, -22], [-12, -16, 22], [17], [18], [19], [-20], [-21], [-22]]\n",
      "42 42\n"
     ]
    }
   ],
   "source": [
    "from math import comb \n",
    "import impmeas as imp \n",
    "\n",
    "solver = imp.formulas.GPMC()\n",
    "k = 3\n",
    "n = 6\n",
    "expected = sum(comb(n,i) for i in range(k+1))\n",
    "\n",
    "cnf, new_vars = imp.totalizer(k, {i+1 for i in range(n)}, start_idx=n+1)\n",
    "sc = solver.satcount(cnf, exists=new_vars)\n",
    "\n",
    "print(new_vars)\n",
    "print(cnf)\n",
    "\n",
    "print(expected, sc)"
   ]
  },
  {
   "cell_type": "code",
   "execution_count": null,
   "metadata": {},
   "outputs": [],
   "source": []
  }
 ],
 "metadata": {
  "kernelspec": {
   "display_name": "Python 3.10.6 64-bit",
   "language": "python",
   "name": "python3"
  },
  "language_info": {
   "codemirror_mode": {
    "name": "ipython",
    "version": 3
   },
   "file_extension": ".py",
   "mimetype": "text/x-python",
   "name": "python",
   "nbconvert_exporter": "python",
   "pygments_lexer": "ipython3",
   "version": "3.10.6"
  },
  "orig_nbformat": 4,
  "vscode": {
   "interpreter": {
    "hash": "916dbcbb3f70747c44a77c7bcd40155683ae19c65e1c03b4aa3499c5328201f1"
   }
  }
 },
 "nbformat": 4,
 "nbformat_minor": 2
}
