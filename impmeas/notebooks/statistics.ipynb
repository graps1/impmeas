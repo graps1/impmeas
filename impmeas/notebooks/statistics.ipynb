{
 "cells": [
  {
   "cell_type": "code",
   "execution_count": 1,
   "metadata": {},
   "outputs": [
    {
     "name": "stdout",
     "output_type": "stream",
     "text": [
      "generating formulas for n=10\n",
      "testing BDD/GPMC on n=10 m=8 k=3\n"
     ]
    },
    {
     "data": {
      "application/vnd.jupyter.widget-view+json": {
       "model_id": "0af87e87a66244e2a7d73b82021fa1df",
       "version_major": 2,
       "version_minor": 0
      },
      "text/plain": [
       "BDD + dominating_cgm:   0%|          | 0/5 [00:00<?, ?it/s]"
      ]
     },
     "metadata": {},
     "output_type": "display_data"
    },
    {
     "name": "stdout",
     "output_type": "stream",
     "text": [
      "{'x1', 'x3', 'x10', 'x2', 'x5', 'x4', 'x7', 'x6', 'x8'}\n",
      "{'x1', 'x3', 'x10', 'x9', 'x2', 'x5', 'x4', 'x7', 'x6', 'x8'}\n",
      "{'x3', 'x10', 'x9', 'x2', 'x5', 'x4', 'x7', 'x8'}\n",
      "{'x1', 'x3', 'x10', 'x9', 'x2', 'x5', 'x4', 'x7', 'x6', 'x8'}\n",
      "{'x1', 'x3', 'x10', 'x9', 'x2', 'x5', 'x4', 'x7', 'x8'}\n"
     ]
    },
    {
     "data": {
      "application/vnd.jupyter.widget-view+json": {
       "model_id": "cd6d41510f6f496e8797bfe966f6f9a5",
       "version_major": 2,
       "version_minor": 0
      },
      "text/plain": [
       "BDD + blame:   0%|          | 0/5 [00:00<?, ?it/s]"
      ]
     },
     "metadata": {},
     "output_type": "display_data"
    },
    {
     "name": "stdout",
     "output_type": "stream",
     "text": [
      "{'x1', 'x3', 'x10', 'x2', 'x5', 'x4', 'x7', 'x6', 'x8'}\n",
      "{'x1', 'x3', 'x10', 'x9', 'x2', 'x5', 'x4', 'x7', 'x6', 'x8'}\n",
      "{'x3', 'x10', 'x9', 'x2', 'x5', 'x4', 'x7', 'x8'}\n",
      "{'x1', 'x3', 'x10', 'x9', 'x2', 'x5', 'x4', 'x7', 'x6', 'x8'}\n",
      "{'x1', 'x3', 'x10', 'x9', 'x2', 'x5', 'x4', 'x7', 'x8'}\n"
     ]
    },
    {
     "data": {
      "application/vnd.jupyter.widget-view+json": {
       "model_id": "5c432fa35f624b99b221ac337fc27fb5",
       "version_major": 2,
       "version_minor": 0
      },
      "text/plain": [
       "BDD + mod_blame:   0%|          | 0/5 [00:00<?, ?it/s]"
      ]
     },
     "metadata": {},
     "output_type": "display_data"
    },
    {
     "name": "stdout",
     "output_type": "stream",
     "text": [
      "{'x1', 'x3', 'x10', 'x2', 'x5', 'x4', 'x7', 'x6', 'x8'}\n",
      "{'x1', 'x3', 'x10', 'x9', 'x2', 'x5', 'x4', 'x7', 'x6', 'x8'}\n",
      "{'x3', 'x10', 'x9', 'x2', 'x5', 'x4', 'x7', 'x8'}\n",
      "{'x1', 'x3', 'x10', 'x9', 'x2', 'x5', 'x4', 'x7', 'x6', 'x8'}\n",
      "{'x1', 'x3', 'x10', 'x9', 'x2', 'x5', 'x4', 'x7', 'x8'}\n"
     ]
    },
    {
     "data": {
      "application/vnd.jupyter.widget-view+json": {
       "model_id": "078eaca92ee14000a1efd7c03b2fd89e",
       "version_major": 2,
       "version_minor": 0
      },
      "text/plain": [
       "BDD + influence:   0%|          | 0/5 [00:00<?, ?it/s]"
      ]
     },
     "metadata": {},
     "output_type": "display_data"
    },
    {
     "name": "stdout",
     "output_type": "stream",
     "text": [
      "{'x1', 'x3', 'x10', 'x2', 'x5', 'x4', 'x7', 'x6', 'x8'}\n",
      "{'x1', 'x3', 'x10', 'x9', 'x2', 'x5', 'x4', 'x7', 'x6', 'x8'}\n",
      "{'x3', 'x10', 'x9', 'x2', 'x5', 'x4', 'x7', 'x8'}\n",
      "{'x1', 'x3', 'x10', 'x9', 'x2', 'x5', 'x4', 'x7', 'x6', 'x8'}\n",
      "{'x1', 'x3', 'x10', 'x9', 'x2', 'x5', 'x4', 'x7', 'x8'}\n"
     ]
    },
    {
     "data": {
      "application/vnd.jupyter.widget-view+json": {
       "model_id": "360ca6a9241943fea054450576a7bd53",
       "version_major": 2,
       "version_minor": 0
      },
      "text/plain": [
       "GPMC + blame:   0%|          | 0/5 [00:00<?, ?it/s]"
      ]
     },
     "metadata": {},
     "output_type": "display_data"
    },
    {
     "name": "stdout",
     "output_type": "stream",
     "text": [
      "{'x1', 'x3', 'x10', 'x2', 'x5', 'x4', 'x7', 'x6', 'x8'}\n",
      "{'x1', 'x3', 'x10', 'x9', 'x5', 'x2', 'x4', 'x7', 'x6', 'x8'}\n",
      "{'x1', 'x3', 'x10', 'x9', 'x5', 'x2', 'x4', 'x7', 'x6', 'x8'}\n",
      "{'x1', 'x3', 'x10', 'x9', 'x2', 'x5', 'x4', 'x7', 'x6', 'x8'}\n",
      "{'x1', 'x3', 'x10', 'x9', 'x5', 'x2', 'x4', 'x7', 'x8'}\n"
     ]
    },
    {
     "data": {
      "application/vnd.jupyter.widget-view+json": {
       "model_id": "4123bb2739f441f2887e3778705e91be",
       "version_major": 2,
       "version_minor": 0
      },
      "text/plain": [
       "GPMC + mod_blame:   0%|          | 0/5 [00:00<?, ?it/s]"
      ]
     },
     "metadata": {},
     "output_type": "display_data"
    },
    {
     "name": "stdout",
     "output_type": "stream",
     "text": [
      "{'x1', 'x3', 'x10', 'x2', 'x5', 'x4', 'x7', 'x6', 'x8'}\n",
      "{'x1', 'x3', 'x10', 'x9', 'x5', 'x2', 'x4', 'x7', 'x6', 'x8'}\n",
      "{'x1', 'x3', 'x10', 'x9', 'x5', 'x2', 'x4', 'x7', 'x6', 'x8'}\n",
      "{'x1', 'x3', 'x10', 'x9', 'x2', 'x5', 'x4', 'x7', 'x6', 'x8'}\n",
      "{'x1', 'x3', 'x10', 'x9', 'x5', 'x2', 'x4', 'x7', 'x8'}\n"
     ]
    },
    {
     "data": {
      "application/vnd.jupyter.widget-view+json": {
       "model_id": "aac7640c348d444d904a641fa4e63639",
       "version_major": 2,
       "version_minor": 0
      },
      "text/plain": [
       "GPMC + influence:   0%|          | 0/5 [00:00<?, ?it/s]"
      ]
     },
     "metadata": {},
     "output_type": "display_data"
    },
    {
     "name": "stdout",
     "output_type": "stream",
     "text": [
      "{'x1', 'x3', 'x10', 'x2', 'x5', 'x4', 'x7', 'x6', 'x8'}\n",
      "{'x1', 'x3', 'x10', 'x9', 'x5', 'x2', 'x4', 'x7', 'x6', 'x8'}\n",
      "{'x1', 'x3', 'x10', 'x9', 'x5', 'x2', 'x4', 'x7', 'x6', 'x8'}\n",
      "{'x1', 'x3', 'x10', 'x9', 'x2', 'x5', 'x4', 'x7', 'x6', 'x8'}\n",
      "{'x1', 'x3', 'x10', 'x9', 'x5', 'x2', 'x4', 'x7', 'x8'}\n",
      "generating formulas for n=13\n"
     ]
    },
    {
     "ename": "",
     "evalue": "",
     "output_type": "error",
     "traceback": [
      "\u001b[1;31mCanceled future for execute_request message before replies were done"
     ]
    },
    {
     "ename": "",
     "evalue": "",
     "output_type": "error",
     "traceback": [
      "\u001b[1;31mThe Kernel crashed while executing code in the the current cell or a previous cell. Please review the code in the cell(s) to identify a possible cause of the failure. Click <a href='https://aka.ms/vscodeJupyterKernelCrash'>here</a> for more info. View Jupyter <a href='command:jupyter.viewOutput'>log</a> for further details."
     ]
    }
   ],
   "source": [
    "import json\n",
    "import utils\n",
    "import time\n",
    "import numpy as np\n",
    "import pandas as pd\n",
    "import os\n",
    "from tqdm.notebook import tqdm\n",
    "\n",
    "import impmeas as imp\n",
    "\n",
    "def test_method(model_key, model, method_key, method, n, m, k, formula_strings):\n",
    "    for formula in tqdm(formula_strings, desc=f\"{model_key} + {method_key}\"):\n",
    "        start = time.time()\n",
    "        f = model.parse(formula)\n",
    "        end1 = time.time()\n",
    "        method(f)\n",
    "        end2 = time.time()\n",
    "        methodtime, overalltime = end2-end1, end2-start\n",
    "        yield methodtime*1000, overalltime*1000\n",
    "\n",
    "# approx hard instances for clauses / n = 3\n",
    "# (see e.g. https://www.cs.cornell.edu/selman/papers/pdf/96.aij.generating.pdf)\n",
    "dataset = pd.read_csv(\"dataset.csv\", index_col=0) if os.path.exists(\"dataset.csv\") else pd.DataFrame()\n",
    "k, clause_to_variables = 3, 0.77 # 3 \n",
    "for n in range(10, 53, 3):\n",
    "    m = int(n*clause_to_variables+0.5) \n",
    "    print(f\"generating formulas for n={n}\")\n",
    "    formula_strings = [ imp.formulas.formula2tree(imp.random_k_cnf(n,m,k)[1]) for _ in range(5) ]\n",
    "\n",
    "    print(f\"testing BDD/GPMC on n={n} m={m} k={k}\")\n",
    "    vars = [f\"x{idx+1}\" for idx in range(n)]\n",
    "    imp.set_pmc_solver(imp.formulas.GPMC(bj=True, cs=6000))\n",
    "    ctx = imp.BuddyContext(vars, nodenum=1<<27, cachesize=1<<20)\n",
    "    imp.set_buddy_context(ctx)\n",
    "\n",
    "    methods = { \n",
    "        \"blame\": lambda f: imp.blame(f, \"x1\"),\n",
    "        \"mod_blame\": lambda f: imp.blame(f, \"x1\", modified=True),\n",
    "        \"influence\": lambda f: imp.influence(f, \"x1\"),\n",
    "        \"dominating_cgm\": lambda f: imp.dominating_cgm(f),\n",
    "        \"banzhaf\": lambda f: imp.banzhaf(f, \"x1\")\n",
    "    } \n",
    "    modelkey2method = {\n",
    "        \"BDD\": [ (\"dominating_cgm\", 52), (\"blame\", 28), (\"mod_blame\", 28), (\"influence\", 52)  ],\n",
    "        \"GPMC\": [ (\"blame\", 19), (\"mod_blame\", 19), (\"influence\", 52) ]\n",
    "    }\n",
    "    modelkey2model = {\n",
    "        \"BDD\": imp.BuddyNode,\n",
    "        \"GPMC\": imp.Formula\n",
    "    }\n",
    "    for model_key, method_keys in modelkey2method.items():\n",
    "        # print(f\"Testing {model_key}:\")\n",
    "        for method_key, max_number_of_variables in method_keys:\n",
    "            if n > max_number_of_variables:\n",
    "                continue\n",
    "            # print(f\"- {method_key}\")\n",
    "            for mt, ot in test_method(model_key, modelkey2model[model_key], method_key, methods[method_key], n, m, k, formula_strings):\n",
    "                # entry =  max(dataset[\"index\"])+1 if \"index\" in dataset else 0\n",
    "                d = { \n",
    "                    \"n\": n, \"m\": m, \"k\": k,\n",
    "                    f\"{model_key}_{method_key}_ot\": ot, \n",
    "                    f\"{model_key}_{method_key}_mt\": mt \n",
    "                }\n",
    "                dataset = pd.concat((dataset, pd.DataFrame([d])), ignore_index=True)\n",
    "                dataset.to_csv(\"dataset.csv\")"
   ]
  },
  {
   "cell_type": "code",
   "execution_count": null,
   "metadata": {},
   "outputs": [],
   "source": [
    "import pandas as pd\n",
    "df = pd.read_csv(\"dataset.csv\", index_col=0)\n",
    "means = df.groupby(\"n\").apply(lambda group: group.mean())\n",
    "stds = df.groupby(\"n\").apply(lambda group: group.std()/2)"
   ]
  },
  {
   "cell_type": "code",
   "execution_count": null,
   "metadata": {},
   "outputs": [],
   "source": [
    "import matplotlib.pyplot as plt \n",
    "import matplotlib \n",
    "matplotlib.use(\"pgf\")\n",
    "\n",
    "def plot(means, stds, col, label, fmt=\"x--\", with_error=False):\n",
    "    instances = means[\"n\"]\n",
    "    times_overall_mean = means[col]\n",
    "    times_overall_std = stds[col]\n",
    "    notnulls = times_overall_mean.notnull() | times_overall_std.notnull()\n",
    "    if with_error:\n",
    "        plt.errorbar(\n",
    "            instances[notnulls], \n",
    "            times_overall_mean[notnulls], \n",
    "            yerr=times_overall_std[notnulls], \n",
    "            fmt=fmt, label=label, barsabove=True)\n",
    "    else:\n",
    "        plt.errorbar(instances[notnulls], times_overall_mean[notnulls], fmt=fmt, label=label)\n",
    "    plt.legend()\n",
    "    plt.xlabel(\"n = \\#variables\")\n",
    "    plt.ylabel(\"time [ms]\")\n",
    "    plt.title(\"Random (n, 3*n, 3)-CNF instances\")\n",
    "    plt.yscale(\"log\")"
   ]
  },
  {
   "cell_type": "code",
   "execution_count": null,
   "metadata": {},
   "outputs": [],
   "source": [
    "plot(means, stds, \"GPMC_influence_ot\", fmt=\".--\", label=\"GPMC: Influence\")\n",
    "plot(means, stds, \"BDD_influence_ot\", fmt=\"x--\", label=\"BuDDy: Influence\")\n",
    "plt.savefig(\"pics/influence_ot.pgf\")\n",
    "plt.show()"
   ]
  },
  {
   "cell_type": "code",
   "execution_count": null,
   "metadata": {},
   "outputs": [],
   "source": [
    "plot(means, stds, \"GPMC_blame_ot\", fmt=\".--\", label=\"GPMC: Blame\")\n",
    "plot(means, stds, \"GPMC_mod_blame_ot\", fmt=\".--\", label=\"GPMC: Modified Blame\")\n",
    "plot(means, stds, \"BDD_blame_ot\", fmt=\"x--\", label=\"BuDDy: Blame\")\n",
    "plot(means, stds, \"BDD_mod_blame_ot\", fmt=\"x--\", label=\"BuDDy: Modified Blame\")\n",
    "plt.savefig(\"pics/blame_ot.pgf\")\n",
    "plt.show()"
   ]
  },
  {
   "cell_type": "code",
   "execution_count": null,
   "metadata": {},
   "outputs": [],
   "source": [
    "plot(means, stds, \"BDD_dominating_cgm_ot\", fmt=\"x--\", label=\"BuDDy: Dominating CGM\")\n",
    "plt.savefig(\"pics/dominating_cgm_ot.pgf\")\n",
    "plt.show()"
   ]
  },
  {
   "cell_type": "code",
   "execution_count": null,
   "metadata": {},
   "outputs": [],
   "source": []
  }
 ],
 "metadata": {
  "kernelspec": {
   "display_name": "Python 3.10.4 64-bit",
   "language": "python",
   "name": "python3"
  },
  "language_info": {
   "codemirror_mode": {
    "name": "ipython",
    "version": 3
   },
   "file_extension": ".py",
   "mimetype": "text/x-python",
   "name": "python",
   "nbconvert_exporter": "python",
   "pygments_lexer": "ipython3",
   "version": "3.10.6"
  },
  "orig_nbformat": 4,
  "vscode": {
   "interpreter": {
    "hash": "916dbcbb3f70747c44a77c7bcd40155683ae19c65e1c03b4aa3499c5328201f1"
   }
  }
 },
 "nbformat": 4,
 "nbformat_minor": 2
}
