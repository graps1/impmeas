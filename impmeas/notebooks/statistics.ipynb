{
 "cells": [
  {
   "cell_type": "code",
   "execution_count": 1,
   "metadata": {},
   "outputs": [
    {
     "name": "stdout",
     "output_type": "stream",
     "text": [
      "generating formulas for n=10\n",
      "testing BDD/GPMC on n=10 m=30 k=3\n"
     ]
    },
    {
     "data": {
      "application/vnd.jupyter.widget-view+json": {
       "model_id": "cf886e8e289a44c09b872148cc7edab0",
       "version_major": 2,
       "version_minor": 0
      },
      "text/plain": [
       "BDD + dominating_cgm:   0%|          | 0/10 [00:00<?, ?it/s]"
      ]
     },
     "metadata": {},
     "output_type": "display_data"
    },
    {
     "data": {
      "application/vnd.jupyter.widget-view+json": {
       "model_id": "1bf97c827963449ca760247051816fd7",
       "version_major": 2,
       "version_minor": 0
      },
      "text/plain": [
       "BDD + blame:   0%|          | 0/10 [00:00<?, ?it/s]"
      ]
     },
     "metadata": {},
     "output_type": "display_data"
    },
    {
     "data": {
      "application/vnd.jupyter.widget-view+json": {
       "model_id": "6bbd63625ab748c09c3e1d92f7a918a7",
       "version_major": 2,
       "version_minor": 0
      },
      "text/plain": [
       "BDD + mod_blame:   0%|          | 0/10 [00:00<?, ?it/s]"
      ]
     },
     "metadata": {},
     "output_type": "display_data"
    },
    {
     "data": {
      "application/vnd.jupyter.widget-view+json": {
       "model_id": "6c6b17ab6b894bebbf4d367781a182d5",
       "version_major": 2,
       "version_minor": 0
      },
      "text/plain": [
       "BDD + influence:   0%|          | 0/10 [00:00<?, ?it/s]"
      ]
     },
     "metadata": {},
     "output_type": "display_data"
    },
    {
     "data": {
      "application/vnd.jupyter.widget-view+json": {
       "model_id": "5689ee20090a4457b65d58207566139f",
       "version_major": 2,
       "version_minor": 0
      },
      "text/plain": [
       "GPMC + blame:   0%|          | 0/10 [00:00<?, ?it/s]"
      ]
     },
     "metadata": {},
     "output_type": "display_data"
    },
    {
     "data": {
      "application/vnd.jupyter.widget-view+json": {
       "model_id": "2fb5aa5fea5d49ab81396aa56c485b2e",
       "version_major": 2,
       "version_minor": 0
      },
      "text/plain": [
       "GPMC + mod_blame:   0%|          | 0/10 [00:00<?, ?it/s]"
      ]
     },
     "metadata": {},
     "output_type": "display_data"
    },
    {
     "data": {
      "application/vnd.jupyter.widget-view+json": {
       "model_id": "07e659bcfc4e49c4971337fb4b1c9b5b",
       "version_major": 2,
       "version_minor": 0
      },
      "text/plain": [
       "GPMC + influence:   0%|          | 0/10 [00:00<?, ?it/s]"
      ]
     },
     "metadata": {},
     "output_type": "display_data"
    },
    {
     "name": "stdout",
     "output_type": "stream",
     "text": [
      "generating formulas for n=13\n",
      "testing BDD/GPMC on n=13 m=39 k=3\n"
     ]
    },
    {
     "data": {
      "application/vnd.jupyter.widget-view+json": {
       "model_id": "c97b1286027149bbb2cc21212da412fd",
       "version_major": 2,
       "version_minor": 0
      },
      "text/plain": [
       "BDD + dominating_cgm:   0%|          | 0/10 [00:00<?, ?it/s]"
      ]
     },
     "metadata": {},
     "output_type": "display_data"
    },
    {
     "data": {
      "application/vnd.jupyter.widget-view+json": {
       "model_id": "568df93bd44543c5b72e8beb43ab25a7",
       "version_major": 2,
       "version_minor": 0
      },
      "text/plain": [
       "BDD + blame:   0%|          | 0/10 [00:00<?, ?it/s]"
      ]
     },
     "metadata": {},
     "output_type": "display_data"
    },
    {
     "data": {
      "application/vnd.jupyter.widget-view+json": {
       "model_id": "9365f8dd69604e1c84a4ed1e098e70d1",
       "version_major": 2,
       "version_minor": 0
      },
      "text/plain": [
       "BDD + mod_blame:   0%|          | 0/10 [00:00<?, ?it/s]"
      ]
     },
     "metadata": {},
     "output_type": "display_data"
    },
    {
     "data": {
      "application/vnd.jupyter.widget-view+json": {
       "model_id": "803947f77f3d4148961e826e3cd265ab",
       "version_major": 2,
       "version_minor": 0
      },
      "text/plain": [
       "BDD + influence:   0%|          | 0/10 [00:00<?, ?it/s]"
      ]
     },
     "metadata": {},
     "output_type": "display_data"
    },
    {
     "data": {
      "application/vnd.jupyter.widget-view+json": {
       "model_id": "af54023e6e744ebf8d41271202a593eb",
       "version_major": 2,
       "version_minor": 0
      },
      "text/plain": [
       "GPMC + blame:   0%|          | 0/10 [00:00<?, ?it/s]"
      ]
     },
     "metadata": {},
     "output_type": "display_data"
    },
    {
     "data": {
      "application/vnd.jupyter.widget-view+json": {
       "model_id": "a114397dbf4d4a2595e3c73fcf31864c",
       "version_major": 2,
       "version_minor": 0
      },
      "text/plain": [
       "GPMC + mod_blame:   0%|          | 0/10 [00:00<?, ?it/s]"
      ]
     },
     "metadata": {},
     "output_type": "display_data"
    },
    {
     "data": {
      "application/vnd.jupyter.widget-view+json": {
       "model_id": "ee9748fb84ef497cbf22c44663114244",
       "version_major": 2,
       "version_minor": 0
      },
      "text/plain": [
       "GPMC + influence:   0%|          | 0/10 [00:00<?, ?it/s]"
      ]
     },
     "metadata": {},
     "output_type": "display_data"
    },
    {
     "name": "stdout",
     "output_type": "stream",
     "text": [
      "generating formulas for n=16\n",
      "testing BDD/GPMC on n=16 m=48 k=3\n"
     ]
    },
    {
     "data": {
      "application/vnd.jupyter.widget-view+json": {
       "model_id": "859e921fa6d1467a812a2a0e26031ad5",
       "version_major": 2,
       "version_minor": 0
      },
      "text/plain": [
       "BDD + dominating_cgm:   0%|          | 0/10 [00:00<?, ?it/s]"
      ]
     },
     "metadata": {},
     "output_type": "display_data"
    },
    {
     "data": {
      "application/vnd.jupyter.widget-view+json": {
       "model_id": "a1e7941fe5334cf3b47aff112ced84a4",
       "version_major": 2,
       "version_minor": 0
      },
      "text/plain": [
       "BDD + blame:   0%|          | 0/10 [00:00<?, ?it/s]"
      ]
     },
     "metadata": {},
     "output_type": "display_data"
    },
    {
     "data": {
      "application/vnd.jupyter.widget-view+json": {
       "model_id": "633cfd556066402a99969093310797c4",
       "version_major": 2,
       "version_minor": 0
      },
      "text/plain": [
       "BDD + mod_blame:   0%|          | 0/10 [00:00<?, ?it/s]"
      ]
     },
     "metadata": {},
     "output_type": "display_data"
    },
    {
     "data": {
      "application/vnd.jupyter.widget-view+json": {
       "model_id": "0ad330473c734c26a4700c121d7d97d8",
       "version_major": 2,
       "version_minor": 0
      },
      "text/plain": [
       "BDD + influence:   0%|          | 0/10 [00:00<?, ?it/s]"
      ]
     },
     "metadata": {},
     "output_type": "display_data"
    },
    {
     "data": {
      "application/vnd.jupyter.widget-view+json": {
       "model_id": "42cd3fbeed9b4e4a9be8b104a3527a54",
       "version_major": 2,
       "version_minor": 0
      },
      "text/plain": [
       "GPMC + blame:   0%|          | 0/10 [00:00<?, ?it/s]"
      ]
     },
     "metadata": {},
     "output_type": "display_data"
    },
    {
     "data": {
      "application/vnd.jupyter.widget-view+json": {
       "model_id": "fcdfc5c4577c40238399d661ce67cba4",
       "version_major": 2,
       "version_minor": 0
      },
      "text/plain": [
       "GPMC + mod_blame:   0%|          | 0/10 [00:00<?, ?it/s]"
      ]
     },
     "metadata": {},
     "output_type": "display_data"
    },
    {
     "data": {
      "application/vnd.jupyter.widget-view+json": {
       "model_id": "7b76f4ed9c7b41d4a1726992bf16286a",
       "version_major": 2,
       "version_minor": 0
      },
      "text/plain": [
       "GPMC + influence:   0%|          | 0/10 [00:00<?, ?it/s]"
      ]
     },
     "metadata": {},
     "output_type": "display_data"
    },
    {
     "name": "stdout",
     "output_type": "stream",
     "text": [
      "generating formulas for n=19\n",
      "testing BDD/GPMC on n=19 m=57 k=3\n"
     ]
    },
    {
     "data": {
      "application/vnd.jupyter.widget-view+json": {
       "model_id": "40dfe91f7db14c05955d7f7633e5d36e",
       "version_major": 2,
       "version_minor": 0
      },
      "text/plain": [
       "BDD + dominating_cgm:   0%|          | 0/10 [00:00<?, ?it/s]"
      ]
     },
     "metadata": {},
     "output_type": "display_data"
    },
    {
     "data": {
      "application/vnd.jupyter.widget-view+json": {
       "model_id": "0a6668869fef4a3f82719c4ee15582f4",
       "version_major": 2,
       "version_minor": 0
      },
      "text/plain": [
       "BDD + blame:   0%|          | 0/10 [00:00<?, ?it/s]"
      ]
     },
     "metadata": {},
     "output_type": "display_data"
    },
    {
     "data": {
      "application/vnd.jupyter.widget-view+json": {
       "model_id": "90b45579cfaa419c9d554db043dd345e",
       "version_major": 2,
       "version_minor": 0
      },
      "text/plain": [
       "BDD + mod_blame:   0%|          | 0/10 [00:00<?, ?it/s]"
      ]
     },
     "metadata": {},
     "output_type": "display_data"
    },
    {
     "data": {
      "application/vnd.jupyter.widget-view+json": {
       "model_id": "c7d2218b63234ee7a73357659c72bce9",
       "version_major": 2,
       "version_minor": 0
      },
      "text/plain": [
       "BDD + influence:   0%|          | 0/10 [00:00<?, ?it/s]"
      ]
     },
     "metadata": {},
     "output_type": "display_data"
    },
    {
     "data": {
      "application/vnd.jupyter.widget-view+json": {
       "model_id": "c7d462f1c9c845739983ad956a9da7f1",
       "version_major": 2,
       "version_minor": 0
      },
      "text/plain": [
       "GPMC + blame:   0%|          | 0/10 [00:00<?, ?it/s]"
      ]
     },
     "metadata": {},
     "output_type": "display_data"
    },
    {
     "data": {
      "application/vnd.jupyter.widget-view+json": {
       "model_id": "900b6880db964e5f9692fd84b106a291",
       "version_major": 2,
       "version_minor": 0
      },
      "text/plain": [
       "GPMC + mod_blame:   0%|          | 0/10 [00:00<?, ?it/s]"
      ]
     },
     "metadata": {},
     "output_type": "display_data"
    },
    {
     "data": {
      "application/vnd.jupyter.widget-view+json": {
       "model_id": "671b1540ea594b9e83aea73cb7334841",
       "version_major": 2,
       "version_minor": 0
      },
      "text/plain": [
       "GPMC + influence:   0%|          | 0/10 [00:00<?, ?it/s]"
      ]
     },
     "metadata": {},
     "output_type": "display_data"
    },
    {
     "name": "stdout",
     "output_type": "stream",
     "text": [
      "generating formulas for n=22\n",
      "testing BDD/GPMC on n=22 m=66 k=3\n"
     ]
    },
    {
     "data": {
      "application/vnd.jupyter.widget-view+json": {
       "model_id": "19d3df1c9fb04b5db63361d13f168164",
       "version_major": 2,
       "version_minor": 0
      },
      "text/plain": [
       "BDD + dominating_cgm:   0%|          | 0/10 [00:00<?, ?it/s]"
      ]
     },
     "metadata": {},
     "output_type": "display_data"
    },
    {
     "data": {
      "application/vnd.jupyter.widget-view+json": {
       "model_id": "3e76834d26f64bc2b6de37973921cee5",
       "version_major": 2,
       "version_minor": 0
      },
      "text/plain": [
       "BDD + blame:   0%|          | 0/10 [00:00<?, ?it/s]"
      ]
     },
     "metadata": {},
     "output_type": "display_data"
    },
    {
     "data": {
      "application/vnd.jupyter.widget-view+json": {
       "model_id": "cd5139825b654fac82fa34058eb1b94b",
       "version_major": 2,
       "version_minor": 0
      },
      "text/plain": [
       "BDD + mod_blame:   0%|          | 0/10 [00:00<?, ?it/s]"
      ]
     },
     "metadata": {},
     "output_type": "display_data"
    },
    {
     "data": {
      "application/vnd.jupyter.widget-view+json": {
       "model_id": "f8c08ecc674e4a64a3931bd622c83ac0",
       "version_major": 2,
       "version_minor": 0
      },
      "text/plain": [
       "BDD + influence:   0%|          | 0/10 [00:00<?, ?it/s]"
      ]
     },
     "metadata": {},
     "output_type": "display_data"
    },
    {
     "data": {
      "application/vnd.jupyter.widget-view+json": {
       "model_id": "66b8d64a60934b6cbbaf0853d5f17f22",
       "version_major": 2,
       "version_minor": 0
      },
      "text/plain": [
       "GPMC + influence:   0%|          | 0/10 [00:00<?, ?it/s]"
      ]
     },
     "metadata": {},
     "output_type": "display_data"
    },
    {
     "name": "stdout",
     "output_type": "stream",
     "text": [
      "generating formulas for n=25\n",
      "testing BDD/GPMC on n=25 m=75 k=3\n"
     ]
    },
    {
     "data": {
      "application/vnd.jupyter.widget-view+json": {
       "model_id": "42672f78f3e84dab86edeee2d1b57df7",
       "version_major": 2,
       "version_minor": 0
      },
      "text/plain": [
       "BDD + dominating_cgm:   0%|          | 0/10 [00:00<?, ?it/s]"
      ]
     },
     "metadata": {},
     "output_type": "display_data"
    },
    {
     "data": {
      "application/vnd.jupyter.widget-view+json": {
       "model_id": "22b87dfdbfa54ae3be15d5cf1c85fea0",
       "version_major": 2,
       "version_minor": 0
      },
      "text/plain": [
       "BDD + blame:   0%|          | 0/10 [00:00<?, ?it/s]"
      ]
     },
     "metadata": {},
     "output_type": "display_data"
    },
    {
     "data": {
      "application/vnd.jupyter.widget-view+json": {
       "model_id": "70ab7a9bb1f34905b692cae52f98d489",
       "version_major": 2,
       "version_minor": 0
      },
      "text/plain": [
       "BDD + mod_blame:   0%|          | 0/10 [00:00<?, ?it/s]"
      ]
     },
     "metadata": {},
     "output_type": "display_data"
    },
    {
     "data": {
      "application/vnd.jupyter.widget-view+json": {
       "model_id": "33d962e97e294e89bb5d72f770a2a40f",
       "version_major": 2,
       "version_minor": 0
      },
      "text/plain": [
       "BDD + influence:   0%|          | 0/10 [00:00<?, ?it/s]"
      ]
     },
     "metadata": {},
     "output_type": "display_data"
    },
    {
     "data": {
      "application/vnd.jupyter.widget-view+json": {
       "model_id": "8a80f2c4d0b24c35a26f48f62f085ff9",
       "version_major": 2,
       "version_minor": 0
      },
      "text/plain": [
       "GPMC + influence:   0%|          | 0/10 [00:00<?, ?it/s]"
      ]
     },
     "metadata": {},
     "output_type": "display_data"
    },
    {
     "name": "stdout",
     "output_type": "stream",
     "text": [
      "generating formulas for n=28\n",
      "testing BDD/GPMC on n=28 m=84 k=3\n"
     ]
    },
    {
     "data": {
      "application/vnd.jupyter.widget-view+json": {
       "model_id": "0fbee8a6c61e4530a95f28f4bce703fd",
       "version_major": 2,
       "version_minor": 0
      },
      "text/plain": [
       "BDD + dominating_cgm:   0%|          | 0/10 [00:00<?, ?it/s]"
      ]
     },
     "metadata": {},
     "output_type": "display_data"
    },
    {
     "data": {
      "application/vnd.jupyter.widget-view+json": {
       "model_id": "020e968b78e84281923a63c99ee4efca",
       "version_major": 2,
       "version_minor": 0
      },
      "text/plain": [
       "BDD + blame:   0%|          | 0/10 [00:00<?, ?it/s]"
      ]
     },
     "metadata": {},
     "output_type": "display_data"
    },
    {
     "name": "stdout",
     "output_type": "stream",
     "text": [
      "Garbage collection #1: 134217757 nodes / 127107411 free / 0.9s / 0.9s total\n"
     ]
    },
    {
     "data": {
      "application/vnd.jupyter.widget-view+json": {
       "model_id": "92d2723405f54fa2ac973dec67d2143f",
       "version_major": 2,
       "version_minor": 0
      },
      "text/plain": [
       "BDD + mod_blame:   0%|          | 0/10 [00:00<?, ?it/s]"
      ]
     },
     "metadata": {},
     "output_type": "display_data"
    },
    {
     "name": "stdout",
     "output_type": "stream",
     "text": [
      "Garbage collection #1: 134217757 nodes / 126725222 free / 1.0s / 1.0s total\n"
     ]
    },
    {
     "data": {
      "application/vnd.jupyter.widget-view+json": {
       "model_id": "74fad3b4e1344ae997e17ad97f2d3c29",
       "version_major": 2,
       "version_minor": 0
      },
      "text/plain": [
       "BDD + influence:   0%|          | 0/10 [00:00<?, ?it/s]"
      ]
     },
     "metadata": {},
     "output_type": "display_data"
    },
    {
     "data": {
      "application/vnd.jupyter.widget-view+json": {
       "model_id": "f364dec56f7b4d8797c856d44ab82f8a",
       "version_major": 2,
       "version_minor": 0
      },
      "text/plain": [
       "GPMC + influence:   0%|          | 0/10 [00:00<?, ?it/s]"
      ]
     },
     "metadata": {},
     "output_type": "display_data"
    },
    {
     "name": "stdout",
     "output_type": "stream",
     "text": [
      "generating formulas for n=31\n",
      "testing BDD/GPMC on n=31 m=93 k=3\n"
     ]
    },
    {
     "data": {
      "application/vnd.jupyter.widget-view+json": {
       "model_id": "935a4f74168b4f2da5214a38c6f91ae4",
       "version_major": 2,
       "version_minor": 0
      },
      "text/plain": [
       "BDD + dominating_cgm:   0%|          | 0/10 [00:00<?, ?it/s]"
      ]
     },
     "metadata": {},
     "output_type": "display_data"
    },
    {
     "data": {
      "application/vnd.jupyter.widget-view+json": {
       "model_id": "c5a70f7d275b4a85ad13035667193567",
       "version_major": 2,
       "version_minor": 0
      },
      "text/plain": [
       "BDD + influence:   0%|          | 0/10 [00:00<?, ?it/s]"
      ]
     },
     "metadata": {},
     "output_type": "display_data"
    },
    {
     "data": {
      "application/vnd.jupyter.widget-view+json": {
       "model_id": "d3bbac88ff72483699e803af58e5f488",
       "version_major": 2,
       "version_minor": 0
      },
      "text/plain": [
       "GPMC + influence:   0%|          | 0/10 [00:00<?, ?it/s]"
      ]
     },
     "metadata": {},
     "output_type": "display_data"
    },
    {
     "name": "stdout",
     "output_type": "stream",
     "text": [
      "generating formulas for n=34\n",
      "testing BDD/GPMC on n=34 m=102 k=3\n"
     ]
    },
    {
     "data": {
      "application/vnd.jupyter.widget-view+json": {
       "model_id": "14ab0e3007354930b48c2aa8412d4f0d",
       "version_major": 2,
       "version_minor": 0
      },
      "text/plain": [
       "BDD + dominating_cgm:   0%|          | 0/10 [00:00<?, ?it/s]"
      ]
     },
     "metadata": {},
     "output_type": "display_data"
    },
    {
     "data": {
      "application/vnd.jupyter.widget-view+json": {
       "model_id": "eaaf2819212a4c73abbad1b88782f243",
       "version_major": 2,
       "version_minor": 0
      },
      "text/plain": [
       "BDD + influence:   0%|          | 0/10 [00:00<?, ?it/s]"
      ]
     },
     "metadata": {},
     "output_type": "display_data"
    },
    {
     "data": {
      "application/vnd.jupyter.widget-view+json": {
       "model_id": "e5dd4d3f7efe4cc69ceda09d7ca37cce",
       "version_major": 2,
       "version_minor": 0
      },
      "text/plain": [
       "GPMC + influence:   0%|          | 0/10 [00:00<?, ?it/s]"
      ]
     },
     "metadata": {},
     "output_type": "display_data"
    },
    {
     "name": "stdout",
     "output_type": "stream",
     "text": [
      "generating formulas for n=37\n",
      "testing BDD/GPMC on n=37 m=111 k=3\n"
     ]
    },
    {
     "data": {
      "application/vnd.jupyter.widget-view+json": {
       "model_id": "df4a15e4e98440e0b00876f9129961a7",
       "version_major": 2,
       "version_minor": 0
      },
      "text/plain": [
       "BDD + dominating_cgm:   0%|          | 0/10 [00:00<?, ?it/s]"
      ]
     },
     "metadata": {},
     "output_type": "display_data"
    },
    {
     "data": {
      "application/vnd.jupyter.widget-view+json": {
       "model_id": "5fb98f27713848cd957f2b33cd80477c",
       "version_major": 2,
       "version_minor": 0
      },
      "text/plain": [
       "BDD + influence:   0%|          | 0/10 [00:00<?, ?it/s]"
      ]
     },
     "metadata": {},
     "output_type": "display_data"
    },
    {
     "data": {
      "application/vnd.jupyter.widget-view+json": {
       "model_id": "bacd79993134410e84835f91eb272787",
       "version_major": 2,
       "version_minor": 0
      },
      "text/plain": [
       "GPMC + influence:   0%|          | 0/10 [00:00<?, ?it/s]"
      ]
     },
     "metadata": {},
     "output_type": "display_data"
    }
   ],
   "source": [
    "import json\n",
    "import utils\n",
    "import time\n",
    "import numpy as np\n",
    "import pandas as pd\n",
    "import os\n",
    "from tqdm.notebook import tqdm\n",
    "\n",
    "import impmeas as imp\n",
    "\n",
    "def test_method(model_key, model, method_key, method, n, m, k, formula_strings):\n",
    "    for formula in tqdm(formula_strings, desc=f\"{model_key} + {method_key}\"):\n",
    "        start = time.time()\n",
    "        f = model.parse(formula)\n",
    "        end1 = time.time()\n",
    "        method(f)\n",
    "        end2 = time.time()\n",
    "        methodtime, overalltime = end2-end1, end2-start\n",
    "        yield methodtime*1000, overalltime*1000\n",
    "\n",
    "# approx hard instances for clauses / n = 3\n",
    "# (see e.g. https://www.cs.cornell.edu/selman/papers/pdf/96.aij.generating.pdf)\n",
    "dataset = pd.read_csv(\"dataset.csv\", index_col=0) if os.path.exists(\"dataset.csv\") else pd.DataFrame()\n",
    "k, clause_to_variables = 3, 3 \n",
    "for n in range(10, 38, 3):\n",
    "    m = int(n*clause_to_variables+0.5) \n",
    "    print(f\"generating formulas for n={n}\")\n",
    "    formula_strings = [ imp.random_k_cnf(n,m,k)[1] for _ in range(10) ]\n",
    "\n",
    "    print(f\"testing BDD/GPMC on n={n} m={m} k={k}\")\n",
    "    vars = [f\"x{idx+1}\" for idx in range(n)]\n",
    "    imp.set_pmc_solver(imp.formulas.GPMC(bj=True, cs=6000))\n",
    "    imp.buddy_initialize(vars, nodenum=1<<27, cachesize=1<<22)\n",
    "\n",
    "    methods = { \n",
    "        \"blame\": lambda f: imp.blame(f, \"x1\"),\n",
    "        \"mod_blame\": lambda f: imp.blame(f, \"x1\", modified=True),\n",
    "        \"influence\": lambda f: imp.influence(f, \"x1\"),\n",
    "        \"dominating_cgm\": lambda f: imp.dominating_cgm(f),\n",
    "        \"banzhaf\": lambda f: imp.banzhaf(f, \"x1\")\n",
    "    } \n",
    "    modelkey2method = {\n",
    "        \"BDD\": [ (\"dominating_cgm\", 52), (\"blame\", 28), (\"mod_blame\", 28), (\"influence\", 52)  ],\n",
    "        \"GPMC\": [ (\"blame\", 19), (\"mod_blame\", 19), (\"influence\", 52) ]\n",
    "    }\n",
    "    modelkey2model = {\n",
    "        \"BDD\": imp.BuddyNode,\n",
    "        \"GPMC\": imp.Formula\n",
    "    }\n",
    "    for model_key, method_keys in modelkey2method.items():\n",
    "        # print(f\"Testing {model_key}:\")\n",
    "        for method_key, max_number_of_variables in method_keys:\n",
    "            if n > max_number_of_variables:\n",
    "                continue\n",
    "            # print(f\"- {method_key}\")\n",
    "            for mt, ot in test_method(model_key, modelkey2model[model_key], method_key, methods[method_key], n, m, k, formula_strings):\n",
    "                # entry =  max(dataset[\"index\"])+1 if \"index\" in dataset else 0\n",
    "                d = { \n",
    "                    \"n\": n, \"m\": m, \"k\": k,\n",
    "                    f\"{model_key}_{method_key}_ot\": ot, \n",
    "                    f\"{model_key}_{method_key}_mt\": mt \n",
    "                }\n",
    "                dataset = pd.concat((dataset, pd.DataFrame([d])), ignore_index=True)\n",
    "                dataset.to_csv(\"dataset.csv\")\n",
    "            imp.buddy_initialize(vars, nodenum=1<<27, cachesize=1<<22)"
   ]
  },
  {
   "cell_type": "code",
   "execution_count": 2,
   "metadata": {},
   "outputs": [],
   "source": [
    "import pandas as pd\n",
    "df = pd.read_csv(\"dataset.csv\", index_col=0)\n",
    "means = df.groupby(\"n\").apply(lambda group: group.mean())\n",
    "stds = df.groupby(\"n\").apply(lambda group: group.std()/2)"
   ]
  },
  {
   "cell_type": "code",
   "execution_count": 3,
   "metadata": {},
   "outputs": [],
   "source": [
    "import matplotlib.pyplot as plt \n",
    "import matplotlib \n",
    "\n",
    "def plot(means, stds, col, label, fmt=\"x--\", with_error=True):\n",
    "    instances = means[\"n\"]\n",
    "    times_overall_mean = means[col]\n",
    "    times_overall_std = stds[col]\n",
    "    notnulls = times_overall_mean.notnull() | times_overall_std.notnull()\n",
    "    if with_error:\n",
    "        plt.errorbar(\n",
    "            instances[notnulls], \n",
    "            times_overall_mean[notnulls], \n",
    "            yerr=times_overall_std[notnulls], \n",
    "            fmt=fmt, label=label, barsabove=True)\n",
    "    else:\n",
    "        plt.errorbar(instances[notnulls], times_overall_mean[notnulls], fmt=fmt, label=label)\n",
    "    plt.legend()\n",
    "    plt.xlabel(\"n = \\#variables\")\n",
    "    plt.ylabel(\"time [ms]\")\n",
    "    plt.title(\"Random (n, 3*n, 3)-CNF instances\")\n",
    "    plt.yscale(\"log\")"
   ]
  },
  {
   "cell_type": "code",
   "execution_count": 4,
   "metadata": {},
   "outputs": [
    {
     "data": {
      "image/png": "[encoded data removed]",
      "text/plain": [
       "<Figure size 432x288 with 1 Axes>"
      ]
     },
     "metadata": {
      "needs_background": "light"
     },
     "output_type": "display_data"
    }
   ],
   "source": [
    "matplotlib.use(\"pgf\")\n",
    "plot(means, stds, \"GPMC_influence_ot\", fmt=\".--\", label=\"GPMC: Influence\")\n",
    "plot(means, stds, \"BDD_influence_ot\", fmt=\"x--\", label=\"BuDDy: Influence\")\n",
    "plt.savefig(\"pics/influence_ot.pgf\")\n",
    "matplotlib.use(\"module://matplotlib_inline.backend_inline\")\n",
    "plot(means, stds, \"GPMC_influence_ot\", fmt=\".--\", label=\"GPMC: Influence\")\n",
    "plot(means, stds, \"BDD_influence_ot\", fmt=\"x--\", label=\"BuDDy: Influence\")\n",
    "plt.show()"
   ]
  },
  {
   "cell_type": "code",
   "execution_count": 5,
   "metadata": {},
   "outputs": [
    {
     "data": {
      "image/png": "[encoded data removed]",
      "text/plain": [
       "<Figure size 432x288 with 1 Axes>"
      ]
     },
     "metadata": {
      "needs_background": "light"
     },
     "output_type": "display_data"
    }
   ],
   "source": [
    "matplotlib.use(\"pgf\")\n",
    "plot(means, stds, \"GPMC_blame_ot\", fmt=\".--\", label=\"GPMC: Blame\")\n",
    "plot(means, stds, \"GPMC_mod_blame_ot\", fmt=\".--\", label=\"GPMC: Modified Blame\")\n",
    "plot(means, stds, \"BDD_blame_ot\", fmt=\"x--\", label=\"BuDDy: Blame\")\n",
    "plot(means, stds, \"BDD_mod_blame_ot\", fmt=\"x--\", label=\"BuDDy: Modified Blame\")\n",
    "plt.savefig(\"pics/blame_ot.pgf\")\n",
    "matplotlib.use(\"module://matplotlib_inline.backend_inline\")\n",
    "plot(means, stds, \"GPMC_blame_ot\", fmt=\".--\", label=\"GPMC: Blame\")\n",
    "plot(means, stds, \"GPMC_mod_blame_ot\", fmt=\".--\", label=\"GPMC: Modified Blame\")\n",
    "plot(means, stds, \"BDD_blame_ot\", fmt=\"x--\", label=\"BuDDy: Blame\")\n",
    "plot(means, stds, \"BDD_mod_blame_ot\", fmt=\"x--\", label=\"BuDDy: Modified Blame\")\n",
    "plt.show()"
   ]
  },
  {
   "cell_type": "code",
   "execution_count": 6,
   "metadata": {},
   "outputs": [
    {
     "data": {
      "image/png": "[encoded data removed]",
      "text/plain": [
       "<Figure size 432x288 with 1 Axes>"
      ]
     },
     "metadata": {
      "needs_background": "light"
     },
     "output_type": "display_data"
    }
   ],
   "source": [
    "matplotlib.use(\"pgf\")\n",
    "plot(means, stds, \"BDD_dominating_cgm_ot\", fmt=\"x--\", label=\"BuDDy: Dominating CGM\")\n",
    "plt.savefig(\"pics/dominating_cgm_ot.pgf\")\n",
    "matplotlib.use(\"module://matplotlib_inline.backend_inline\")\n",
    "plot(means, stds, \"BDD_dominating_cgm_ot\", fmt=\"x--\", label=\"BuDDy: Dominating CGM\")\n",
    "plt.show()"
   ]
  },
  {
   "cell_type": "code",
   "execution_count": null,
   "metadata": {},
   "outputs": [],
   "source": []
  }
 ],
 "metadata": {
  "kernelspec": {
   "display_name": "Python 3.10.4 64-bit",
   "language": "python",
   "name": "python3"
  },
  "language_info": {
   "codemirror_mode": {
    "name": "ipython",
    "version": 3
   },
   "file_extension": ".py",
   "mimetype": "text/x-python",
   "name": "python",
   "nbconvert_exporter": "python",
   "pygments_lexer": "ipython3",
   "version": "3.10.6 (main, Nov 14 2022, 16:10:14) [GCC 11.3.0]"
  },
  "orig_nbformat": 4,
  "vscode": {
   "interpreter": {
    "hash": "916dbcbb3f70747c44a77c7bcd40155683ae19c65e1c03b4aa3499c5328201f1"
   }
  }
 },
 "nbformat": 4,
 "nbformat_minor": 2
}
