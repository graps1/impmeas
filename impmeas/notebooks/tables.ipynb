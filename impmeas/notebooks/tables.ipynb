{
 "cells": [
  {
   "cell_type": "code",
   "execution_count": 1,
   "metadata": {},
   "outputs": [
    {
     "name": "stdout",
     "output_type": "stream",
     "text": [
      "====================================================================================================\n",
      "f           B^rho_x(f)    B^rho_y(f)    B^rho_z(f)\n",
      "--------  ------------  ------------  ------------\n",
      "x|y|z         0.416667      0.416667      0.416667\n",
      "x&(~y)&z      0.416667      0.416667      0.416667\n",
      "x&(~y)        0.625         0.625         0\n",
      "x^y^z         1             1             1\n",
      "x|(y^z)       0.625         0.708333      0.708333\n",
      "x|(y&z)       0.8125        0.416667      0.416667\n",
      "====================================================================================================\n",
      "f           Bz*omega_x(f)    Bz*omega_y(f)    Bz*omega_z(f)\n",
      "--------  ---------------  ---------------  ---------------\n",
      "x|y|z                0.25             0.25             0.25\n",
      "x&(~y)&z             0.25             0.25             0.25\n",
      "x&(~y)               0.5              0.5              0\n",
      "x^y^z                0.25             0.25             0.25\n",
      "x|(y^z)              0.75             0.25             0.25\n",
      "x|(y&z)              0.75             0.25             0.25\n",
      "====================================================================================================\n",
      "f           Bz*nu_x(f)    Bz*nu_y(f)    Bz*nu_z(f)\n",
      "--------  ------------  ------------  ------------\n",
      "x|y|z             0.25          0.25          0.25\n",
      "x&(~y)&z          0.25          0.25          0.25\n",
      "x&(~y)            0.5           0.5           0\n",
      "x^y^z             0.25          0.25          0.25\n",
      "x|(y^z)           0.25          0.25          0.25\n",
      "x|(y&z)           0.75          0.25          0.25\n",
      "====================================================================================================\n",
      "f           Bz*E_x(f)    Bz*E_y(f)    Bz*E_z(f)\n",
      "--------  -----------  -----------  -----------\n",
      "x|y|z        0.140625     0.140625     0.140625\n",
      "x&(~y)&z     0.140625     0.140625     0.140625\n",
      "x&(~y)       0.375        0.375        0\n",
      "x^y^z        0.25         0.25         0.25\n",
      "x|(y^z)      0.3125       0.1875       0.1875\n",
      "x|(y&z)      0.640625     0.140625     0.140625\n"
     ]
    }
   ],
   "source": [
    "import impmeas as imp\n",
    "from tabulate import tabulate\n",
    "\n",
    "fs = [ \n",
    "    \"x|y|z\",\n",
    "    \"x&(~y)&z\",\n",
    "    \"x&(~y)\",\n",
    "    \"x^y^z\",\n",
    "    \"x|(y^z)\",\n",
    "    \"x|(y&z)\",\n",
    "]\n",
    "\n",
    "v_qh = lambda f,x: imp.banzhaf(imp.hkr_cgm(f),x)\n",
    "v_dcgm = lambda f,x: imp.banzhaf(imp.dominating_cgm(f),x)\n",
    "v_rcgm = lambda f,x: imp.banzhaf(imp.rectifying_cgm(f),x)\n",
    "blame = imp.blame\n",
    "\n",
    "for v, name in [(blame, \"B^rho\"), (v_dcgm, \"Bz*omega\"), (v_rcgm, \"Bz*nu\"), (v_qh, \"Bz*E\")]:\n",
    "    valnames = [f\"{name}_{var}(f)\" for var in [\"x\", \"y\", \"z\"]]\n",
    "    header = [\"f\"] + valnames\n",
    "    table = []\n",
    "    for f in fs:\n",
    "        f_binfunc = imp.Table.parse(f)\n",
    "        row = [ f ]\n",
    "        for var in [\"x\", \"y\", \"z\"]: \n",
    "            b = v(f_binfunc, var)\n",
    "            row.append(b)\n",
    "        table.append(row)\n",
    "    print(\"=\"*100)\n",
    "    print( tabulate(table, header) )\n"
   ]
  },
  {
   "cell_type": "code",
   "execution_count": null,
   "metadata": {},
   "outputs": [],
   "source": []
  }
 ],
 "metadata": {
  "kernelspec": {
   "display_name": "Python 3.10.6 64-bit",
   "language": "python",
   "name": "python3"
  },
  "language_info": {
   "codemirror_mode": {
    "name": "ipython",
    "version": 3
   },
   "file_extension": ".py",
   "mimetype": "text/x-python",
   "name": "python",
   "nbconvert_exporter": "python",
   "pygments_lexer": "ipython3",
   "version": "3.10.6"
  },
  "orig_nbformat": 4,
  "vscode": {
   "interpreter": {
    "hash": "916dbcbb3f70747c44a77c7bcd40155683ae19c65e1c03b4aa3499c5328201f1"
   }
  }
 },
 "nbformat": 4,
 "nbformat_minor": 2
}
