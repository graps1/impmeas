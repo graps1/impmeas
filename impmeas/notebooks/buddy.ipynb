{
 "cells": [
  {
   "cell_type": "code",
   "execution_count": 1,
   "metadata": {},
   "outputs": [],
   "source": [
    "from utils import time_op"
   ]
  },
  {
   "cell_type": "code",
   "execution_count": 2,
   "metadata": {},
   "outputs": [
    {
     "name": "stdout",
     "output_type": "stream",
     "text": [
      "[00006.0134 ms / 0.0060 s / 0.0001 min] satcount\n",
      "GPMC satcount = 244\n",
      "[00082.0720 ms / 0.0821 s / 0.0014 min] parse\n",
      "[00000.0036 ms / 0.0000 s / 0.0000 min] satcount\n",
      "BDD satcount = 244.0\n"
     ]
    }
   ],
   "source": [
    "# tests the model counting capabilities of SharpSAT-TD and Buddy\n",
    "from formulas import GPMC, Formula, BuddyNode, BuddyContext, random_k_cnf\n",
    "\n",
    "n,m,k = 8, 10, 7\n",
    "cnf, formula = random_k_cnf(n,m,k)\n",
    "vars = [f\"x{idx}\" for idx in range(1, n+1)]\n",
    "\n",
    "solver = GPMC()\n",
    "satcount_gpmc = time_op(solver.satcount)(cnf)\n",
    "print(f\"GPMC satcount = {satcount_gpmc}\")\n",
    "\n",
    "with BuddyContext(vars) as ctx:\n",
    "    f = time_op(ctx.parse)(formula)\n",
    "    satcount_bdd = time_op(f.satcount)()\n",
    "    print(f\"BDD satcount = {satcount_bdd}\")\n"
   ]
  },
  {
   "cell_type": "code",
   "execution_count": 3,
   "metadata": {},
   "outputs": [],
   "source": [
    "n,clauses_to_variables,k = 20, 4.5, 7\n",
    "m = int(n*clauses_to_variables)\n",
    "cnf, formula = random_k_cnf(n,m,k)\n",
    "vars = [f\"x{idx+1}\" for idx in range(n)]"
   ]
  },
  {
   "cell_type": "code",
   "execution_count": 4,
   "metadata": {},
   "outputs": [
    {
     "name": "stdout",
     "output_type": "stream",
     "text": [
      "[01738.1699 ms / 1.7382 s / 0.0290 min] parse\n",
      "bdd size = 11143 with satcount = 419578.0\n",
      "=== COMPUTING BLAME for x1 in BDD with size 11143 ===\n",
      "k=0 size ell=8437 d result=0.2053 max increase possible=0.3974 \n",
      "k=1 size ell=39016 d result=0.2060 max increase possible=0.1276 \n",
      "k=2 size ell=18940 d result=0.1095 max increase possible=0.0136 \n",
      "k=3 size ell=1488 d result=0.0133 max increase possible=0.0002 \n",
      "k=4 size ell=20 d result=0.0002 max increase possible=0.0000 \n",
      "stopped earlier because cannot improve above cutoff.\n",
      "current value: 0.5343, can be increased by 0.0000 <= 0.0001.\n",
      "=== DONE ===\n",
      "[00503.3259 ms / 0.5033 s / 0.0084 min] blame\n",
      "[00000.0312 ms / 0.0000 s / 0.0000 min] influence\n",
      "influence 0.20529, 0.53429 <= blame <= 0.53430, blame diff 0.00000\n"
     ]
    }
   ],
   "source": [
    "import impmeas.bdds as bdd \n",
    "from formulas import BuddyContext\n",
    "\n",
    "with BuddyContext(vars) as ctx:\n",
    "    x = \"x1\"\n",
    "    f = time_op(ctx.parse)(formula)\n",
    "    print(f\"bdd size = {f.nodecount} with satcount = {f.satcount()}\")\n",
    "    blame, ub = time_op(bdd.blame)(f, x, rho=lambda x: 1/(x+1), cutoff=1e-4, debug=True)\n",
    "    infl = time_op(bdd.influence)(f, x)\n",
    "    print(f\"influence {infl:.5f}, {blame:.5f} <= blame <= {ub:.5f}, blame diff {ub-blame:.5f}\")"
   ]
  },
  {
   "cell_type": "code",
   "execution_count": 5,
   "metadata": {},
   "outputs": [
    {
     "name": "stdout",
     "output_type": "stream",
     "text": [
      "[01937.2869 ms / 1.9373 s / 0.0323 min] parse\n",
      "[00400.9767 ms / 0.4010 s / 0.0067 min] influence\n",
      "=== COMPUTING BLAME for x1 in Formula with size 3791 ===\n",
      "k=0 size of cnf: 4298 d result=0.2053 max increase possible=0.3974 \n",
      "k=1 size of cnf: 4369 d result=0.2060 max increase possible=0.1276 \n",
      "k=2 size of cnf: 4436 d result=0.1095 max increase possible=0.0136 \n",
      "k=3 size of cnf: 4499 d result=0.0133 max increase possible=0.0002 \n",
      "k=4 size of cnf: 4558 d result=0.0002 max increase possible=0.0000 \n",
      "stopped earlier because cannot improve above cutoff.\n",
      "current value: 0.5343, can be increased by 0.0000 <= 0.0001.\n",
      "=== DONE ===\n",
      "[238086.8673 ms / 238.0869 s / 3.9681 min] blame\n",
      "influence 0.20529, 0.53429 <= blame <= 0.53430, blame diff 0.00000\n"
     ]
    }
   ],
   "source": [
    "import impmeas.mc as mc\n",
    "from formulas import GPMC, Formula, FormulaContext\n",
    "\n",
    "solver = GPMC(cs=20000)\n",
    "ctx = FormulaContext(solver)\n",
    "f = time_op(ctx.parse)(formula)\n",
    "x = \"x1\"\n",
    "infl = (time_op)(mc.influence)(f, x)\n",
    "blame, ub = time_op(mc.blame)(f, x, rho=lambda x: 1/(x+1), cutoff=1e-4, debug=True)\n",
    "print(f\"influence {infl:.5f}, {blame:.5f} <= blame <= {ub:.5f}, blame diff {ub-blame:.5f}\")"
   ]
  },
  {
   "cell_type": "code",
   "execution_count": 8,
   "metadata": {},
   "outputs": [
    {
     "name": "stdout",
     "output_type": "stream",
     "text": [
      "[[7, -1], [-7, 1], [2, 7, -5], [-2, 5], [-7, 5], [3, 5, -11], [-3, 11], [-5, 11], [4, 11, -9], [-4, 9], [-11, 9], [8, -2, -7], [-8, 7], [-8, 2], [-6, 5, 8], [-6, 3, 8], [6, -3, -5], [6, -8], [-14, 11, 6], [-14, 4, 6], [14, -4, -11], [14, -6], [13, -3, -8], [-13, 8], [-13, 3], [-10, 6, 13], [-10, 4, 13], [10, -4, -6], [10, -13], [12, -4, -13], [-12, 13], [-12, 4], [-12]]\n"
     ]
    },
    {
     "data": {
      "text/plain": [
       "15"
      ]
     },
     "execution_count": 8,
     "metadata": {},
     "output_type": "execute_result"
    }
   ],
   "source": [
    "import importance_measures.mc as mc \n",
    "from formulas import Formula, GPMC\n",
    "\n",
    "# f,S = mc.at_most(2, {\"x1\",\"x2\",\"x3\", \"x4\"})\n",
    "f,S = mc.at_most_cnf(3, {1,2,3,4}, 5)\n",
    "print(f)\n",
    "GPMC().satcount( f )"
   ]
  },
  {
   "cell_type": "code",
   "execution_count": null,
   "metadata": {},
   "outputs": [],
   "source": []
  },
  {
   "cell_type": "code",
   "execution_count": null,
   "metadata": {},
   "outputs": [],
   "source": []
  }
 ],
 "metadata": {
  "kernelspec": {
   "display_name": "Python 3 (ipykernel)",
   "language": "python",
   "name": "python3"
  },
  "language_info": {
   "codemirror_mode": {
    "name": "ipython",
    "version": 3
   },
   "file_extension": ".py",
   "mimetype": "text/x-python",
   "name": "python",
   "nbconvert_exporter": "python",
   "pygments_lexer": "ipython3",
   "version": "3.10.4"
  },
  "vscode": {
   "interpreter": {
    "hash": "916dbcbb3f70747c44a77c7bcd40155683ae19c65e1c03b4aa3499c5328201f1"
   }
  }
 },
 "nbformat": 4,
 "nbformat_minor": 2
}
