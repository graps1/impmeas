{
 "cells": [
  {
   "cell_type": "code",
   "execution_count": 1,
   "metadata": {},
   "outputs": [],
   "source": [
    "from utils import time_op\n",
    "import impmeas as imp"
   ]
  },
  {
   "cell_type": "code",
   "execution_count": 4,
   "metadata": {},
   "outputs": [
    {
     "name": "stdout",
     "output_type": "stream",
     "text": [
      "[00007.6518 ms / 0.0077 s / 0.0001 min] satcount\n",
      "GPMC satcount = 232\n",
      "[00116.1497 ms / 0.1161 s / 0.0019 min] parse\n",
      "[00000.0074 ms / 0.0000 s / 0.0000 min] expectation\n",
      "BDD satcount = 232.0\n"
     ]
    }
   ],
   "source": [
    "# tests the model counting capabilities of SharpSAT-TD and Buddy\n",
    "\n",
    "n,m,k = 8, 10, 7\n",
    "cnf, formula = imp.random_k_cnf(n,m,k)\n",
    "vars = [f\"x{idx}\" for idx in range(1, n+1)]\n",
    "\n",
    "imp.formulas.set_pmc_solver()\n",
    "solver = imp.formulas.get_pmc_solver()\n",
    "satcount_gpmc = time_op(solver.satcount)(cnf)\n",
    "print(f\"GPMC satcount = {satcount_gpmc}\")\n",
    "\n",
    "imp.formulas.set_buddy_context(vars)\n",
    "f = time_op(imp.BuddyNode.parse)(formula)\n",
    "satcount_bdd = time_op(f.expectation)() * 2**n\n",
    "print(f\"BDD satcount = {satcount_bdd}\")"
   ]
  },
  {
   "cell_type": "code",
   "execution_count": 7,
   "metadata": {},
   "outputs": [],
   "source": [
    "n,clauses_to_variables,k = 17, 4.5, 7\n",
    "m = int(n*clauses_to_variables)\n",
    "cnf, formula = imp.random_k_cnf(n,m,k)\n",
    "vars = [f\"x{idx+1}\" for idx in range(n)]"
   ]
  },
  {
   "cell_type": "code",
   "execution_count": 8,
   "metadata": {},
   "outputs": [
    {
     "name": "stdout",
     "output_type": "stream",
     "text": [
      "[01203.7730 ms / 1.2038 s / 0.0201 min] parse\n",
      "bdd size = 2839\n",
      "=== COMPUTING BLAME for x1 in <impmeas.formulas.buddy.BuddyNode object at 0x7fd9f697e0b0> ===\n",
      "k=0 d result=0.1877 max increase possible=0.4061 \n",
      "k=1 d result=0.1915 max increase possible=0.1431 \n",
      "k=2 d result=0.1150 max increase possible=0.0211 \n",
      "k=3 d result=0.0204 max increase possible=0.0006 \n",
      "k=4 d result=0.0006 max increase possible=0.0000 \n",
      "stopped earlier because cannot improve above cutoff.\n",
      "current value: 0.5152, can be increased by 0.0000 <= 0.0001.\n",
      "=== DONE ===\n",
      "[13049.1862 ms / 13.0492 s / 0.2175 min] blame\n",
      "[00000.5543 ms / 0.0006 s / 0.0000 min] influence\n",
      "influence 0.18773, 0.51517 <= blame\n"
     ]
    }
   ],
   "source": [
    "import impmeas.bdds as bdd \n",
    "imp.formulas.set_buddy_context(vars)\n",
    "\n",
    "x = \"x1\"\n",
    "f = time_op(imp.BuddyNode.parse)(formula)\n",
    "print(f\"bdd size = {f.nodecount}\")\n",
    "blame = time_op(imp.blame)(f, x, rho=lambda x: 1/(x+1), cutoff=1e-4, debug=True)\n",
    "infl = time_op(imp.influence)(f, x)\n",
    "print(f\"influence {infl:.5f}, {blame:.5f} <= blame\")"
   ]
  },
  {
   "cell_type": "code",
   "execution_count": 10,
   "metadata": {},
   "outputs": [
    {
     "name": "stdout",
     "output_type": "stream",
     "text": [
      "[01022.3842 ms / 1.0224 s / 0.0170 min] parse\n",
      "[00307.8694 ms / 0.3079 s / 0.0051 min] influence\n",
      "=== COMPUTING BLAME for x1 in Formula with size 3191 ===\n",
      "k=0 size of cnf: 3557 d result=0.1877 max increase possible=0.4061 \n",
      "k=1 size of cnf: 3616 d result=0.1915 max increase possible=0.1431 \n",
      "k=2 size of cnf: 3671 d result=0.1150 max increase possible=0.0211 \n",
      "k=3 size of cnf: 3722 d result=0.0204 max increase possible=0.0006 \n",
      "k=4 size of cnf: 3769 d result=0.0006 max increase possible=0.0000 \n",
      "stopped earlier because cannot improve above cutoff.\n",
      "current value: 0.5152, can be increased by 0.0000 <= 0.0001.\n",
      "=== DONE ===\n",
      "[21226.6393 ms / 21.2266 s / 0.3538 min] blame\n",
      "influence 0.18773, 0.51517 <= blame\n"
     ]
    }
   ],
   "source": [
    "imp.formulas.set_pmc_solver()\n",
    "solver = imp.formulas.get_pmc_solver()\n",
    "\n",
    "f = time_op(imp.Formula.parse)(formula)\n",
    "x = \"x1\"\n",
    "infl = (time_op)(imp.influence)(f, x)\n",
    "blame = time_op(imp.blame)(f, x, rho=lambda x: 1/(x+1), cutoff=1e-4, debug=True)\n",
    "print(f\"influence {infl:.5f}, {blame:.5f} <= blame\")"
   ]
  },
  {
   "cell_type": "code",
   "execution_count": 11,
   "metadata": {},
   "outputs": [
    {
     "name": "stdout",
     "output_type": "stream",
     "text": [
      "[00743.5420 ms / 0.7435 s / 0.0124 min] parse\n",
      "[01795.8853 ms / 1.7959 s / 0.0299 min] blame\n",
      "0.59508 <= blame\n",
      "[00013.4203 ms / 0.0134 s / 0.0002 min] influence\n",
      "influence = 0.29102\n",
      "[06412.5905 ms / 6.4126 s / 0.1069 min] <lambda>\n",
      "hammer = 0.07600\n",
      "[00750.4482 ms / 0.7504 s / 0.0125 min] dominating_cgm\n",
      "[00596.4086 ms / 0.5964 s / 0.0099 min] rectifying_cgm\n",
      "====================================================================================================\n",
      "[00433.0618 ms / 0.4331 s / 0.0072 min] parse\n",
      "bdd size = 91\n",
      "=== COMPUTING BLAME for x1 in <impmeas.formulas.buddy.BuddyNode object at 0x7fd9f5f09120> ===\n",
      "k=0 d result=0.2910 max increase possible=0.3545 \n",
      "k=1 d result=0.2148 max increase possible=0.0931 \n",
      "k=2 d result=0.0778 max increase possible=0.0115 \n",
      "k=3 d result=0.0112 max increase possible=0.0002 \n",
      "k=4 d result=0.0002 max increase possible=0.0000 \n",
      "stopped earlier because cannot improve above cutoff.\n",
      "current value: 0.5951, can be increased by 0.0000 <= 0.0001.\n",
      "=== DONE ===\n",
      "[00084.7430 ms / 0.0847 s / 0.0014 min] blame\n",
      "[00000.0637 ms / 0.0001 s / 0.0000 min] influence\n",
      "influence 0.29102, 0.59508 <= blame\n"
     ]
    }
   ],
   "source": [
    "\n",
    "n,clauses_to_variables,k = 10, 4.5, 7\n",
    "m = int(n*clauses_to_variables)\n",
    "cnf, formula = imp.random_k_cnf(n,m,k)\n",
    "vars = [f\"x{idx+1}\" for idx in range(n)]\n",
    "x = \"x1\"\n",
    "\n",
    "f = time_op(imp.Table.parse)(formula)\n",
    "blame = time_op(imp.blame)(f, x, rho=lambda x: 1/(x+1), cutoff=1e-4, debug=False)\n",
    "print(f\"{blame:.5f} <= blame\")\n",
    "infl = time_op(imp.influence)(f, x)\n",
    "print(f\"influence = {infl:.5f}\")\n",
    "hammer = time_op(lambda f,x: imp.banzhaf(imp.hkr_cgm(f),x))(f, x)\n",
    "print(f\"hammer = {hammer:.5f}\")\n",
    "omega = time_op(imp.dominating_cgm)(f)\n",
    "upsilon = time_op(imp.rectifying_cgm)(f)\n",
    "\n",
    "print(\"=\"*100)\n",
    "imp.formulas.set_buddy_context(vars)\n",
    "\n",
    "f = time_op(imp.BuddyNode.parse)(formula)\n",
    "print(f\"bdd size = {f.nodecount}\")\n",
    "blame = time_op(imp.blame)(f, x, rho=lambda x: 1/(x+1), cutoff=1e-4, debug=True)\n",
    "infl = time_op(imp.influence)(f, x)\n",
    "print(f\"influence {infl:.5f}, {blame:.5f} <= blame\")\n"
   ]
  },
  {
   "cell_type": "markdown",
   "metadata": {},
   "source": []
  }
 ],
 "metadata": {
  "kernelspec": {
   "display_name": "Python 3 (ipykernel)",
   "language": "python",
   "name": "python3"
  },
  "language_info": {
   "codemirror_mode": {
    "name": "ipython",
    "version": 3
   },
   "file_extension": ".py",
   "mimetype": "text/x-python",
   "name": "python",
   "nbconvert_exporter": "python",
   "pygments_lexer": "ipython3",
   "version": "3.10.6"
  },
  "vscode": {
   "interpreter": {
    "hash": "916dbcbb3f70747c44a77c7bcd40155683ae19c65e1c03b4aa3499c5328201f1"
   }
  }
 },
 "nbformat": 4,
 "nbformat_minor": 2
}
