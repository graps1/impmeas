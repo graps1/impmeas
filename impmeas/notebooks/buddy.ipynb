{
 "cells": [
  {
   "cell_type": "code",
   "execution_count": 1,
   "metadata": {},
   "outputs": [],
   "source": [
    "from utils import time_op\n",
    "import impmeas as imp\n",
    "\n",
    "solver = imp.formulas.GPMC()\n",
    "imp.formulas.set_pmc_solver(solver)"
   ]
  },
  {
   "cell_type": "code",
   "execution_count": 2,
   "metadata": {},
   "outputs": [
    {
     "name": "stdout",
     "output_type": "stream",
     "text": [
      "[00006.9296 ms / 0.0069 s / 0.0001 min] satcount\n",
      "GPMC satcount = 246\n",
      "[00078.0425 ms / 0.0780 s / 0.0013 min] parse\n",
      "[00000.0093 ms / 0.0000 s / 0.0000 min] expectation\n",
      "BDD satcount = 246.0\n"
     ]
    }
   ],
   "source": [
    "# tests the model counting capabilities of SharpSAT-TD and Buddy\n",
    "\n",
    "n,m,k = 8, 10, 7\n",
    "cnf, formula = imp.random_k_cnf(n,m,k)\n",
    "vars = [f\"x{idx}\" for idx in range(1, n+1)]\n",
    "\n",
    "satcount_gpmc = time_op(solver.satcount)(cnf)\n",
    "print(f\"GPMC satcount = {satcount_gpmc}\")\n",
    "\n",
    "imp.formulas.set_buddy_context(vars)\n",
    "f = time_op(imp.BuddyNode.parse)(formula)\n",
    "satcount_bdd = time_op(f.expectation)() * 2**n\n",
    "print(f\"BDD satcount = {satcount_bdd}\")"
   ]
  },
  {
   "cell_type": "code",
   "execution_count": 3,
   "metadata": {},
   "outputs": [],
   "source": [
    "n,clauses_to_variables,k = 10, 4.5, 7\n",
    "m = int(n*clauses_to_variables)\n",
    "cnf, formula = imp.random_k_cnf(n,m,k)\n",
    "vars = [f\"x{idx+1}\" for idx in range(n)]"
   ]
  },
  {
   "cell_type": "code",
   "execution_count": 4,
   "metadata": {},
   "outputs": [
    {
     "name": "stdout",
     "output_type": "stream",
     "text": [
      "[00547.1184 ms / 0.5471 s / 0.0091 min] parse\n",
      "bdd size = 73\n",
      "=== COMPUTING BLAME for x1 in <impmeas.formulas.buddy.BuddyNode object at 0x7fbe09b53f10> ===\n",
      "k=0 d result=0.3066 max increase possible=0.3467 \n",
      "k=1 d result=0.3018 max increase possible=0.0299 \n",
      "k=2 d result=0.0299 max increase possible=0.0000 \n",
      "stopped earlier because cannot improve above cutoff=0.0001.\n",
      "current value: 0.6383, can only be increased by 0.0000.\n",
      "=== DONE ===\n",
      "[00017.2114 ms / 0.0172 s / 0.0003 min] blame\n",
      "[00000.0432 ms / 0.0000 s / 0.0000 min] influence\n",
      "influence 0.30664, 0.63835 <= blame\n"
     ]
    }
   ],
   "source": [
    "import impmeas.bdds as bdd \n",
    "imp.formulas.set_buddy_context(vars)\n",
    "\n",
    "x = \"x1\"\n",
    "f = time_op(imp.BuddyNode.parse)(formula)\n",
    "print(f\"bdd size = {f.nodecount}\")\n",
    "blame = time_op(imp.blame)(f, x, rho=lambda x: 1/(x+1), cutoff=1e-4, alternative=True, debug=True)\n",
    "infl = time_op(imp.influence)(f, x)\n",
    "print(f\"influence {infl:.5f}, {blame:.5f} <= blame\")"
   ]
  },
  {
   "cell_type": "code",
   "execution_count": 5,
   "metadata": {},
   "outputs": [
    {
     "name": "stdout",
     "output_type": "stream",
     "text": [
      "[00607.5187 ms / 0.6075 s / 0.0101 min] parse\n",
      "=== COMPUTING BLAME for x1 in Formula with size 1752 ===\n"
     ]
    }
   ],
   "source": [
    "x = \"x1\"\n",
    "f = time_op(imp.Formula.parse)(formula)\n",
    "blame = time_op(imp.blame)(f, x, rho=lambda x: 1/(x+1), cutoff=1e-4, alternative=False, debug=True)\n",
    "infl = (time_op)(imp.influence)(f, x)\n",
    "print(f\"influence {infl:.5f}, {blame:.5f} <= blame\")"
   ]
  },
  {
   "cell_type": "code",
   "execution_count": 6,
   "metadata": {},
   "outputs": [
    {
     "name": "stdout",
     "output_type": "stream",
     "text": [
      "[00771.8520 ms / 0.7719 s / 0.0129 min] parse\n",
      "[01760.7563 ms / 1.7608 s / 0.0293 min] blame\n",
      "0.57487 <= blame\n",
      "[00012.7566 ms / 0.0128 s / 0.0002 min] influence\n",
      "influence = 0.26758\n",
      "[06292.9702 ms / 6.2930 s / 0.1049 min] <lambda>\n",
      "hammer = 0.06516\n",
      "[00824.3942 ms / 0.8244 s / 0.0137 min] dominating_cgm\n",
      "[00607.8038 ms / 0.6078 s / 0.0101 min] rectifying_cgm\n",
      "====================================================================================================\n",
      "[00664.0453 ms / 0.6640 s / 0.0111 min] parse\n",
      "bdd size = 90\n",
      "=== COMPUTING BLAME for x1 in <impmeas.formulas.buddy.BuddyNode object at 0x7f53ec72e770> ===\n",
      "k=0 d result=0.2676 max increase possible=0.3662 \n",
      "k=1 d result=0.2046 max increase possible=0.1077 \n",
      "k=2 d result=0.0885 max increase possible=0.0144 \n",
      "k=3 d result=0.0132 max increase possible=0.0010 \n",
      "k=4 d result=0.0010 max increase possible=0.0000 \n",
      "stopped earlier because cannot improve above cutoff.\n",
      "current value: 0.5749, can be increased by 0.0000 <= 0.0001.\n",
      "=== DONE ===\n",
      "[00175.9050 ms / 0.1759 s / 0.0029 min] blame\n",
      "[00000.0613 ms / 0.0001 s / 0.0000 min] influence\n",
      "influence 0.26758, 0.57487 <= blame\n"
     ]
    },
    {
     "ename": "",
     "evalue": "",
     "output_type": "error",
     "traceback": [
      "\u001b[1;31mThe Kernel crashed while executing code in the the current cell or a previous cell. Please review the code in the cell(s) to identify a possible cause of the failure. Click <a href='https://aka.ms/vscodeJupyterKernelCrash'>here</a> for more info. View Jupyter <a href='command:jupyter.viewOutput'>log</a> for further details."
     ]
    }
   ],
   "source": [
    "\n",
    "n,clauses_to_variables,k = 10, 4.5, 7\n",
    "m = int(n*clauses_to_variables)\n",
    "cnf, formula = imp.random_k_cnf(n,m,k)\n",
    "vars = [f\"x{idx+1}\" for idx in range(n)]\n",
    "x = \"x1\"\n",
    "\n",
    "f = time_op(imp.Table.parse)(formula)\n",
    "blame = time_op(imp.blame)(f, x, rho=lambda x: 1/(x+1), cutoff=1e-4, debug=False)\n",
    "print(f\"{blame:.5f} <= blame\")\n",
    "infl = time_op(imp.influence)(f, x)\n",
    "print(f\"influence = {infl:.5f}\")\n",
    "hammer = time_op(lambda f,x: imp.banzhaf(imp.hkr_cgm(f),x))(f, x)\n",
    "print(f\"hammer = {hammer:.5f}\")\n",
    "omega = time_op(imp.dominating_cgm)(f)\n",
    "upsilon = time_op(imp.rectifying_cgm)(f)\n",
    "\n",
    "print(\"=\"*100)\n",
    "imp.formulas.set_buddy_context(vars)\n",
    "\n",
    "f = time_op(imp.BuddyNode.parse)(formula)\n",
    "print(f\"bdd size = {f.nodecount}\")\n",
    "blame = time_op(imp.blame)(f, x, rho=lambda x: 1/(x+1), cutoff=1e-4, debug=True)\n",
    "infl = time_op(imp.influence)(f, x)\n",
    "print(f\"influence {infl:.5f}, {blame:.5f} <= blame\")\n"
   ]
  },
  {
   "cell_type": "markdown",
   "metadata": {},
   "source": []
  }
 ],
 "metadata": {
  "kernelspec": {
   "display_name": "Python 3 (ipykernel)",
   "language": "python",
   "name": "python3"
  },
  "language_info": {
   "codemirror_mode": {
    "name": "ipython",
    "version": 3
   },
   "file_extension": ".py",
   "mimetype": "text/x-python",
   "name": "python",
   "nbconvert_exporter": "python",
   "pygments_lexer": "ipython3",
   "version": "3.10.6"
  },
  "vscode": {
   "interpreter": {
    "hash": "916dbcbb3f70747c44a77c7bcd40155683ae19c65e1c03b4aa3499c5328201f1"
   }
  }
 },
 "nbformat": 4,
 "nbformat_minor": 2
}
