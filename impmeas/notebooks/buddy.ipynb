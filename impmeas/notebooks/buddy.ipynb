{
 "cells": [
  {
   "cell_type": "code",
   "execution_count": 1,
   "metadata": {},
   "outputs": [],
   "source": [
    "from utils import time_op"
   ]
  },
  {
   "cell_type": "code",
   "execution_count": 4,
   "metadata": {},
   "outputs": [
    {
     "name": "stdout",
     "output_type": "stream",
     "text": [
      "[00007.3519 ms / 0.0074 s / 0.0001 min] satcount\n",
      "GPMC satcount = 961\n",
      "[00079.2882 ms / 0.0793 s / 0.0013 min] node\n",
      "[00000.0055 ms / 0.0000 s / 0.0000 min] <lambda>\n",
      "BDD satcount = 961.0\n"
     ]
    }
   ],
   "source": [
    "# tests the model counting capabilities of SharpSAT-TD and Buddy\n",
    "from formulas import GPMC, Formula, Buddy, random_k_cnf\n",
    "\n",
    "n,m,k = 10, 10, 7\n",
    "cnf, formula = random_k_cnf(n,m,k)\n",
    "vars = [f\"x{idx}\" for idx in range(1, n+1)]\n",
    "\n",
    "solver = GPMC()\n",
    "satcount_gpmc = time_op(solver.satcount)(cnf)\n",
    "print(f\"GPMC satcount = {satcount_gpmc}\")\n",
    "\n",
    "with Buddy(vars) as model:\n",
    "    f = time_op(model.node)(formula)\n",
    "    satcount_bdd = time_op(lambda : f.satcount)()\n",
    "    print(f\"BDD satcount = {satcount_bdd}\")\n"
   ]
  },
  {
   "cell_type": "code",
   "execution_count": 5,
   "metadata": {},
   "outputs": [],
   "source": [
    "n,clauses_to_variables,k = 20, 4.5, 7\n",
    "m = int(n*clauses_to_variables)\n",
    "cnf, formula = random_k_cnf(n,m,k)\n",
    "vars = [f\"x{idx+1}\" for idx in range(n)]"
   ]
  },
  {
   "cell_type": "code",
   "execution_count": 6,
   "metadata": {},
   "outputs": [
    {
     "name": "stdout",
     "output_type": "stream",
     "text": [
      "[01766.7472 ms / 1.7667 s / 0.0294 min] node\n",
      "bdd size = 6707 with satcount = 541736.0\n",
      "=== COMPUTING BLAME for x1 in BDD with size 6707 ===\n",
      "k=0 size ell=3811 d result=0.1547 max increase possible=0.4227 \n",
      "k=1 size ell=24991 d result=0.1671 max increase possible=0.1704 \n",
      "k=2 size ell=24338 d result=0.1229 max increase possible=0.0356 \n",
      "k=3 size ell=6707 d result=0.0315 max increase possible=0.0033 \n",
      "k=4 size ell=810 d result=0.0032 max increase possible=0.0001 \n",
      "stopped earlier because cannot improve above cutoff.\n",
      "current value: 0.4793, can be increased by 0.0001 <= 0.0001.\n",
      "=== DONE ===\n",
      "[00425.4107 ms / 0.4254 s / 0.0071 min] blame\n",
      "[00000.4506 ms / 0.0005 s / 0.0000 min] influence\n",
      "influence 0.15466, 0.47933 <= blame <= 0.47942, blame diff 0.00009\n"
     ]
    }
   ],
   "source": [
    "import importance_measures.bdds as bdd \n",
    "from formulas import Buddy\n",
    "\n",
    "with Buddy(vars) as model:\n",
    "    x = \"x1\"\n",
    "    f = (time_op)(model.node)(formula)\n",
    "    print(f\"bdd size = {f.nodecount} with satcount = {f.satcount}\")\n",
    "    blame, ub = time_op(bdd.blame)(f, x, rho=lambda x: 1/(x+1), cutoff=1e-4, debug=True)\n",
    "    infl = time_op(bdd.influence)(f, x)\n",
    "    print(f\"influence {infl:.5f}, {blame:.5f} <= blame <= {ub:.5f}, blame diff {ub-blame:.5f}\")"
   ]
  },
  {
   "cell_type": "code",
   "execution_count": 7,
   "metadata": {},
   "outputs": [
    {
     "name": "stdout",
     "output_type": "stream",
     "text": [
      "[02006.1674 ms / 2.0062 s / 0.0334 min] parse\n",
      "[00080.7364 ms / 0.0807 s / 0.0013 min] influence\n",
      "=== COMPUTING BLAME for x1 in Formula with size 2711 ===\n",
      "k=0 size ell=19243 d result=87463.5000 max increase possible=-43731.2500 \n",
      "stopped earlier because cannot improve above cutoff.\n",
      "current value: 87463.5000, can be increased by -43731.2500 <= 0.0001.\n",
      "=== DONE ===\n",
      "[05762.0959 ms / 5.7621 s / 0.0960 min] blame\n",
      "influence 0.15466, 87463.50000 <= blame <= 43732.25000, blame diff -43731.25000\n"
     ]
    }
   ],
   "source": [
    "import importance_measures.mc as mc\n",
    "from formulas import GPMC, Formula\n",
    "\n",
    "f = time_op(Formula.parse)(formula)\n",
    "x = \"x1\"\n",
    "solver = GPMC(cs=10000)\n",
    "infl = (time_op)(mc.influence)(f, x, solver)\n",
    "blame, ub = time_op(mc.blame)(f, x, solver, rho=lambda x: 1/(x+1), cutoff=1e-4, debug=True)\n",
    "print(f\"influence {infl:.5f}, {blame:.5f} <= blame <= {ub:.5f}, blame diff {ub-blame:.5f}\")"
   ]
  },
  {
   "cell_type": "code",
   "execution_count": 6,
   "metadata": {},
   "outputs": [
    {
     "name": "stdout",
     "output_type": "stream",
     "text": [
      "[[4, 1], [-4, -1], [2, 4, -7], [3, 7, -10], [-2, -7], [-3, -10], [-4, 7], [-7, 10], [8, 4, 5], [11, 7, 8], [9, 5, 6], [12, 8, 9], [8, 2, 5], [11, 3, 8], [9, 2, 6], [12, 3, 9], [-8, -2, -4], [-11, -3, -7], [-9, -2, -5], [-12, -3, -8], [-8, -5], [-11, -8], [-9, -6], [-12, -9], [8, -2, -4], [12, -3, -8], [-8, 4], [-12, 8], [-8, 2], [-12, 3], [-12], [-1], [-2], [3]]\n"
     ]
    },
    {
     "data": {
      "text/plain": [
       "3"
      ]
     },
     "execution_count": 6,
     "metadata": {},
     "output_type": "execute_result"
    }
   ],
   "source": [
    "import importance_measures.mc as mc \n",
    "from formulas import Formula, GPMC\n",
    "\n",
    "f,_ = mc.at_most_cnf3(2, {1,2,3})\n",
    "f = f + [[-1], [-2], [3]]\n",
    "print(f)\n",
    "GPMC().satcount( f )"
   ]
  },
  {
   "cell_type": "code",
   "execution_count": null,
   "metadata": {},
   "outputs": [],
   "source": []
  },
  {
   "cell_type": "code",
   "execution_count": null,
   "metadata": {},
   "outputs": [],
   "source": []
  }
 ],
 "metadata": {
  "kernelspec": {
   "display_name": "Python 3 (ipykernel)",
   "language": "python",
   "name": "python3"
  },
  "language_info": {
   "codemirror_mode": {
    "name": "ipython",
    "version": 3
   },
   "file_extension": ".py",
   "mimetype": "text/x-python",
   "name": "python",
   "nbconvert_exporter": "python",
   "pygments_lexer": "ipython3",
   "version": "3.10.4"
  },
  "vscode": {
   "interpreter": {
    "hash": "916dbcbb3f70747c44a77c7bcd40155683ae19c65e1c03b4aa3499c5328201f1"
   }
  }
 },
 "nbformat": 4,
 "nbformat_minor": 2
}
