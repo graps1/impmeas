{
 "cells": [
  {
   "cell_type": "code",
   "execution_count": 1,
   "metadata": {},
   "outputs": [],
   "source": [
    "from utils import time_op"
   ]
  },
  {
   "cell_type": "code",
   "execution_count": 2,
   "metadata": {},
   "outputs": [
    {
     "name": "stdout",
     "output_type": "stream",
     "text": [
      "[00013.3257 ms / 0.0133 s / 0.0002 min] satcount\n",
      "GPMC satcount = 224\n",
      "[00079.7815 ms / 0.0798 s / 0.0013 min] parse\n",
      "[00000.1211 ms / 0.0001 s / 0.0000 min] satcount\n",
      "BDD satcount = 224.0\n"
     ]
    }
   ],
   "source": [
    "# tests the model counting capabilities of SharpSAT-TD and Buddy\n",
    "from formulas import GPMC, Formula, BuddyNode, BuddyContext, random_k_cnf\n",
    "\n",
    "n,m,k = 8, 10, 7\n",
    "cnf, formula = random_k_cnf(n,m,k)\n",
    "vars = [f\"x{idx}\" for idx in range(1, n+1)]\n",
    "\n",
    "solver = GPMC()\n",
    "satcount_gpmc = time_op(solver.satcount)(cnf)\n",
    "print(f\"GPMC satcount = {satcount_gpmc}\")\n",
    "\n",
    "with BuddyContext(vars) as ctx:\n",
    "    f = time_op(ctx.parse)(formula)\n",
    "    satcount_bdd = time_op(f.satcount)()\n",
    "    print(f\"BDD satcount = {satcount_bdd}\")\n"
   ]
  },
  {
   "cell_type": "code",
   "execution_count": 3,
   "metadata": {},
   "outputs": [],
   "source": [
    "n,clauses_to_variables,k = 20, 4.5, 7\n",
    "m = int(n*clauses_to_variables)\n",
    "cnf, formula = random_k_cnf(n,m,k)\n",
    "vars = [f\"x{idx+1}\" for idx in range(n)]"
   ]
  },
  {
   "cell_type": "code",
   "execution_count": 4,
   "metadata": {},
   "outputs": [
    {
     "name": "stdout",
     "output_type": "stream",
     "text": [
      "[01723.4070 ms / 1.7234 s / 0.0287 min] parse\n",
      "bdd size = 9820 with satcount = 473057.0\n",
      "=== COMPUTING BLAME for x1 in BDD with size 9820 ===\n",
      "k=0 size ell=4785 d result=0.1354 max increase possible=0.4323 \n",
      "k=1 size ell=28895 d result=0.1578 max increase possible=0.1830 \n",
      "k=2 size ell=27894 d result=0.1319 max increase possible=0.0383 \n",
      "k=3 size ell=5889 d result=0.0357 max increase possible=0.0021 \n",
      "k=4 size ell=241 d result=0.0021 max increase possible=0.0000 \n",
      "stopped earlier because cannot improve above cutoff.\n",
      "current value: 0.4629, can be increased by 0.0000 <= 0.0001.\n",
      "=== DONE ===\n",
      "[00401.9504 ms / 0.4020 s / 0.0067 min] blame\n",
      "[00000.2589 ms / 0.0003 s / 0.0000 min] influence\n",
      "influence 0.13536, 0.46287 <= blame <= 0.46288, blame diff 0.00001\n"
     ]
    }
   ],
   "source": [
    "import impmeas.bdds as bdd \n",
    "from formulas import BuddyContext\n",
    "\n",
    "with BuddyContext(vars) as ctx:\n",
    "    x = \"x1\"\n",
    "    f = time_op(ctx.parse)(formula)\n",
    "    print(f\"bdd size = {f.nodecount} with satcount = {f.satcount()}\")\n",
    "    blame, ub = time_op(bdd.blame)(f, x, rho=lambda x: 1/(x+1), cutoff=1e-4, debug=True)\n",
    "    infl = time_op(bdd.influence)(f, x)\n",
    "    print(f\"influence {infl:.5f}, {blame:.5f} <= blame <= {ub:.5f}, blame diff {ub-blame:.5f}\")"
   ]
  },
  {
   "cell_type": "code",
   "execution_count": 5,
   "metadata": {},
   "outputs": [
    {
     "name": "stdout",
     "output_type": "stream",
     "text": [
      "[01880.4331 ms / 1.8804 s / 0.0313 min] parse\n",
      "[00368.2878 ms / 0.3683 s / 0.0061 min] influence\n",
      "=== COMPUTING BLAME for x1 in Formula with size 3830 ===\n",
      "k=0 size of cnf: 3842 d result=0.1354 max increase possible=0.4323 \n",
      "k=1 size of cnf: 3913 d result=0.1578 max increase possible=0.1830 \n",
      "k=2 size of cnf: 3980 d result=0.1319 max increase possible=0.0383 \n",
      "k=3 size of cnf: 4043 d result=0.0357 max increase possible=0.0021 \n",
      "k=4 size of cnf: 4102 d result=0.0021 max increase possible=0.0000 \n",
      "stopped earlier because cannot improve above cutoff.\n",
      "current value: 0.4629, can be increased by 0.0000 <= 0.0001.\n",
      "=== DONE ===\n",
      "[161820.4625 ms / 161.8205 s / 2.6970 min] blame\n",
      "influence 0.13536, 0.46287 <= blame <= 0.46288, blame diff 0.00001\n"
     ]
    }
   ],
   "source": [
    "import impmeas.mc as mc\n",
    "from formulas import GPMC, Formula, FormulaContext\n",
    "\n",
    "solver = GPMC(cs=20000)\n",
    "ctx = FormulaContext(solver)\n",
    "f = time_op(ctx.parse)(formula)\n",
    "x = \"x1\"\n",
    "infl = (time_op)(mc.influence)(f, x)\n",
    "blame, ub = time_op(mc.blame)(f, x, rho=lambda x: 1/(x+1), cutoff=1e-4, debug=True)\n",
    "print(f\"influence {infl:.5f}, {blame:.5f} <= blame <= {ub:.5f}, blame diff {ub-blame:.5f}\")"
   ]
  },
  {
   "cell_type": "code",
   "execution_count": 6,
   "metadata": {},
   "outputs": [
    {
     "name": "stdout",
     "output_type": "stream",
     "text": [
      "[[7, -1], [-7, 1], [2, 7, -5], [-2, 5], [-7, 5], [3, 5, -11], [-3, 11], [-5, 11], [4, 11, -9], [-4, 9], [-11, 9], [8, -2, -7], [-8, 7], [-8, 2], [-6, 5, 8], [-6, 3, 8], [6, -3, -5], [6, -8], [-14, 11, 6], [-14, 4, 6], [14, -4, -11], [14, -6], [13, -3, -8], [-13, 8], [-13, 3], [-10, 6, 13], [-10, 4, 13], [10, -4, -6], [10, -13], [12, -4, -13], [-12, 13], [-12, 4], [-12]]\n"
     ]
    },
    {
     "data": {
      "text/plain": [
       "15"
      ]
     },
     "execution_count": 6,
     "metadata": {},
     "output_type": "execute_result"
    }
   ],
   "source": [
    "import importance_measures.mc as mc \n",
    "from formulas import Formula, GPMC\n",
    "\n",
    "# f,S = mc.at_most(2, {\"x1\",\"x2\",\"x3\", \"x4\"})\n",
    "f,S = mc.at_most_cnf(3, {1,2,3,4}, 5)\n",
    "print(f)\n",
    "GPMC().satcount( f )"
   ]
  },
  {
   "cell_type": "code",
   "execution_count": 7,
   "metadata": {},
   "outputs": [
    {
     "name": "stdout",
     "output_type": "stream",
     "text": [
      "[00002.1629 ms / 0.0022 s / 0.0000 min] parse\n",
      "=== COMPUTING BLAME for x1 in Table with size 8 ===\n",
      "k=0 d result=0.5000 max increase possible=0.2500 \n",
      "k=1 d result=0.1250 max increase possible=0.0833 \n",
      "k=2 \n",
      "stopped earlier because no change in g(f,0,k) and g(f,1,k) occurred.\n",
      "=== DONE ===\n",
      "[00001.2770 ms / 0.0013 s / 0.0000 min] blame\n",
      "0.62500 <= blame <= 0.62500, blame diff 0.00000\n",
      "[00000.0587 ms / 0.0001 s / 0.0000 min] influence\n",
      "influence = 0.50000\n",
      "[00000.2902 ms / 0.0003 s / 0.0000 min] bz_hcgm\n",
      "hammer = 0.31250\n",
      "[00000.6571 ms / 0.0007 s / 0.0000 min] omega\n",
      "[00000.6433 ms / 0.0006 s / 0.0000 min] upsilon\n",
      "====================================================================================================\n",
      "[00001.9569 ms / 0.0020 s / 0.0000 min] parse\n",
      "bdd size = 4 with satcount = 768.0\n",
      "=== COMPUTING BLAME for x1 in BDD with size 4 ===\n",
      "k=0 size ell=3 d result=0.5000 max increase possible=0.2500 \n",
      "k=1 size ell=4 d result=0.1250 max increase possible=0.0833 \n",
      "k=2 \n",
      "stopped earlier because no change in g(f,0,k) and g(f,1,k) occurred.\n",
      "=== DONE ===\n",
      "[00000.5155 ms / 0.0005 s / 0.0000 min] blame\n",
      "[00000.0281 ms / 0.0000 s / 0.0000 min] influence\n",
      "influence 0.50000, 0.62500 <= blame <= 0.62500, blame diff 0.00000\n"
     ]
    }
   ],
   "source": [
    "from re import A\n",
    "from utils import time_op\n",
    "\n",
    "import impmeas.bdds as bdd \n",
    "import impmeas.table as table\n",
    "from formulas import BuddyContext, TableContext, random_k_cnf\n",
    "\n",
    "n,clauses_to_variables,k = 10, 4.5, 7\n",
    "m = int(n*clauses_to_variables)\n",
    "cnf, formula = random_k_cnf(n,m,k)\n",
    "vars = [f\"x{idx+1}\" for idx in range(n)]\n",
    "x = \"x1\"\n",
    "formula = \"x1 | (x2 ^ x3)\"\n",
    "\n",
    "ctx = TableContext(print_mode=\"primes\")\n",
    "f = time_op(ctx.parse)(formula)\n",
    "blame, ub = time_op(table.blame)(f, x, rho=lambda x: 1/(x+1), cutoff=1e-4, debug=True)\n",
    "print(f\"{blame:.5f} <= blame <= {ub:.5f}, blame diff {ub-blame:.5f}\")\n",
    "infl = time_op(table.influence)(f, x)\n",
    "print(f\"influence = {infl:.5f}\")\n",
    "hammer = time_op(table.bz_hcgm)(f, x)\n",
    "print(f\"hammer = {hammer:.5f}\")\n",
    "omega = time_op(table.omega)(f)\n",
    "upsilon = time_op(table.upsilon)(f)\n",
    "\n",
    "print(\"=\"*100)\n",
    "\n",
    "with BuddyContext(vars) as ctx:\n",
    "    f = time_op(ctx.parse)(formula)\n",
    "    print(f\"bdd size = {f.nodecount} with satcount = {f.satcount()}\")\n",
    "    blame, ub = time_op(bdd.blame)(f, x, rho=lambda x: 1/(x+1), cutoff=1e-4, debug=True)\n",
    "    infl = time_op(bdd.influence)(f, x)\n",
    "    print(f\"influence {infl:.5f}, {blame:.5f} <= blame <= {ub:.5f}, blame diff {ub-blame:.5f}\")\n"
   ]
  },
  {
   "cell_type": "markdown",
   "metadata": {},
   "source": [
    "Todo test cases\n",
    "\n",
    "* Compare importance values from thesis with those that are computed here...\n",
    "* Shapley value?"
   ]
  },
  {
   "cell_type": "markdown",
   "metadata": {},
   "source": []
  }
 ],
 "metadata": {
  "kernelspec": {
   "display_name": "Python 3 (ipykernel)",
   "language": "python",
   "name": "python3"
  },
  "language_info": {
   "codemirror_mode": {
    "name": "ipython",
    "version": 3
   },
   "file_extension": ".py",
   "mimetype": "text/x-python",
   "name": "python",
   "nbconvert_exporter": "python",
   "pygments_lexer": "ipython3",
   "version": "3.10.6"
  },
  "vscode": {
   "interpreter": {
    "hash": "916dbcbb3f70747c44a77c7bcd40155683ae19c65e1c03b4aa3499c5328201f1"
   }
  }
 },
 "nbformat": 4,
 "nbformat_minor": 2
}
