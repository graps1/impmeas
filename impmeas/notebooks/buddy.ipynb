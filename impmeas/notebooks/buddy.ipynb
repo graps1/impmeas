{
 "cells": [
  {
   "cell_type": "code",
   "execution_count": 1,
   "metadata": {},
   "outputs": [],
   "source": [
    "from utils import time_op\n",
    "import impmeas as imp"
   ]
  },
  {
   "cell_type": "code",
   "execution_count": 2,
   "metadata": {},
   "outputs": [
    {
     "name": "stdout",
     "output_type": "stream",
     "text": [
      "[00018.3890 ms / 0.0184 s / 0.0003 min] satcount\n",
      "GPMC satcount = 240\n",
      "[00077.8689 ms / 0.0779 s / 0.0013 min] parse\n",
      "[00000.1731 ms / 0.0002 s / 0.0000 min] expectation\n",
      "BDD satcount = 240.0\n"
     ]
    }
   ],
   "source": [
    "# tests the model counting capabilities of SharpSAT-TD and Buddy\n",
    "\n",
    "n,m,k = 8, 10, 7\n",
    "cnf, formula = imp.random_k_cnf(n,m,k)\n",
    "vars = [f\"x{idx}\" for idx in range(1, n+1)]\n",
    "\n",
    "solver = imp.formulas.GPMC()\n",
    "satcount_gpmc = time_op(solver.satcount)(cnf)\n",
    "print(f\"GPMC satcount = {satcount_gpmc}\")\n",
    "\n",
    "with imp.formulas.BuddyContext(vars) as ctx:\n",
    "    imp.formulas.set_buddy_context(ctx)\n",
    "    f = time_op(imp.BuddyNode.parse)(formula)\n",
    "    satcount_bdd = time_op(f.expectation)() * 2**n\n",
    "    print(f\"BDD satcount = {satcount_bdd}\")\n",
    "    del f"
   ]
  },
  {
   "cell_type": "code",
   "execution_count": 3,
   "metadata": {},
   "outputs": [],
   "source": [
    "n,clauses_to_variables,k = 17, 4.5, 7\n",
    "m = int(n*clauses_to_variables)\n",
    "cnf, formula = imp.random_k_cnf(n,m,k)\n",
    "vars = [f\"x{idx+1}\" for idx in range(n)]"
   ]
  },
  {
   "cell_type": "code",
   "execution_count": 4,
   "metadata": {},
   "outputs": [
    {
     "name": "stdout",
     "output_type": "stream",
     "text": [
      "[01236.0365 ms / 1.2360 s / 0.0206 min] parse\n",
      "bdd size = 1999\n",
      "=== COMPUTING BLAME for x1 in <impmeas.formulas.buddy.BuddyNode object at 0x7f54fea63100> ===\n",
      "k=0 d result=0.1674 max increase possible=0.4163 \n",
      "k=1 d result=0.1778 max increase possible=0.1590 \n",
      "k=2 d result=0.1242 max increase possible=0.0261 \n",
      "k=3 d result=0.0251 max increase possible=0.0008 \n",
      "k=4 d result=0.0008 max increase possible=0.0000 \n",
      "stopped earlier because cannot improve above cutoff.\n",
      "current value: 0.4953, can be increased by 0.0000 <= 0.0001.\n",
      "=== DONE ===\n",
      "[06806.9801 ms / 6.8070 s / 0.1134 min] blame\n",
      "[00000.3688 ms / 0.0004 s / 0.0000 min] influence\n",
      "influence 0.16743, 0.49534 <= blame\n"
     ]
    }
   ],
   "source": [
    "import impmeas.bdds as bdd \n",
    "\n",
    "with imp.formulas.BuddyContext(vars) as ctx:\n",
    "    imp.formulas.set_buddy_context(ctx)\n",
    "    x = \"x1\"\n",
    "    f = time_op(imp.BuddyNode.parse)(formula)\n",
    "    print(f\"bdd size = {f.nodecount}\")\n",
    "    blame = time_op(imp.blame)(f, x, rho=lambda x: 1/(x+1), cutoff=1e-4, debug=True)\n",
    "    infl = time_op(imp.influence)(f, x)\n",
    "    print(f\"influence {infl:.5f}, {blame:.5f} <= blame\")\n",
    "    del f"
   ]
  },
  {
   "cell_type": "code",
   "execution_count": 5,
   "metadata": {},
   "outputs": [
    {
     "name": "stdout",
     "output_type": "stream",
     "text": [
      "[01393.5242 ms / 1.3935 s / 0.0232 min] parse\n",
      "[00264.7078 ms / 0.2647 s / 0.0044 min] influence\n",
      "=== COMPUTING BLAME for x1 in Formula with size 3192 ===\n",
      "k=0 size of cnf: 3422 d result=0.1674 max increase possible=0.4163 \n",
      "k=1 size of cnf: 3481 d result=0.1778 max increase possible=0.1590 \n",
      "k=2 size of cnf: 3536 d result=0.1242 max increase possible=0.0261 \n",
      "k=3 size of cnf: 3587 d result=0.0251 max increase possible=0.0008 \n",
      "k=4 size of cnf: 3634 d result=0.0008 max increase possible=0.0000 \n",
      "stopped earlier because cannot improve above cutoff.\n",
      "current value: 0.4953, can be increased by 0.0000 <= 0.0001.\n",
      "=== DONE ===\n",
      "[15996.3989 ms / 15.9964 s / 0.2666 min] blame\n",
      "influence 0.16743, 0.49534 <= blame\n"
     ]
    }
   ],
   "source": [
    "solver = imp.formulas.GPMC(cs=20000)\n",
    "imp.formulas.set_pmc_solver(solver)\n",
    "f = time_op(imp.Formula.parse)(formula)\n",
    "x = \"x1\"\n",
    "infl = (time_op)(imp.influence)(f, x)\n",
    "blame = time_op(imp.blame)(f, x, rho=lambda x: 1/(x+1), cutoff=1e-4, debug=True)\n",
    "print(f\"influence {infl:.5f}, {blame:.5f} <= blame\")"
   ]
  },
  {
   "cell_type": "code",
   "execution_count": 6,
   "metadata": {},
   "outputs": [
    {
     "ename": "SyntaxError",
     "evalue": "invalid syntax (3067685722.py, line 17)",
     "output_type": "error",
     "traceback": [
      "\u001b[0;36m  Input \u001b[0;32mIn [6]\u001b[0;36m\u001b[0m\n\u001b[0;31m    print(\"=\"*100)N\u001b[0m\n\u001b[0m                  ^\u001b[0m\n\u001b[0;31mSyntaxError\u001b[0m\u001b[0;31m:\u001b[0m invalid syntax\n"
     ]
    }
   ],
   "source": [
    "\n",
    "n,clauses_to_variables,k = 10, 4.5, 7\n",
    "m = int(n*clauses_to_variables)\n",
    "cnf, formula = imp.random_k_cnf(n,m,k)\n",
    "vars = [f\"x{idx+1}\" for idx in range(n)]\n",
    "x = \"x1\"\n",
    "\n",
    "f = time_op(imp.Table.parse)(formula)\n",
    "blame = time_op(imp.blame)(f, x, rho=lambda x: 1/(x+1), cutoff=1e-4, debug=False)\n",
    "print(f\"{blame:.5f} <= blame\")\n",
    "infl = time_op(imp.influence)(f, x)\n",
    "print(f\"influence = {infl:.5f}\")\n",
    "hammer = time_op(lambda f,x: imp.banzhaf(imp.hkr_cgm(f),x))(f, x)\n",
    "print(f\"hammer = {hammer:.5f}\")\n",
    "omega = time_op(imp.dominating_cgm)(f)\n",
    "upsilon = time_op(imp.rectifying_cgm)(f)\n",
    "\n",
    "print(\"=\"*100)\n",
    "\n",
    "with imp.formulas.BuddyContext(vars) as ctx:\n",
    "    imp.formulas.set_buddy_context(ctx)\n",
    "    f = time_op(imp.BuddyNode.parse)(formula)\n",
    "    print(f\"bdd size = {f.nodecount}\")\n",
    "    blame = time_op(imp.blame)(f, x, rho=lambda x: 1/(x+1), cutoff=1e-4, debug=True)\n",
    "    infl = time_op(imp.influence)(f, x)\n",
    "    print(f\"influence {infl:.5f}, {blame:.5f} <= blame\")\n"
   ]
  },
  {
   "cell_type": "markdown",
   "metadata": {},
   "source": []
  }
 ],
 "metadata": {
  "kernelspec": {
   "display_name": "Python 3 (ipykernel)",
   "language": "python",
   "name": "python3"
  },
  "language_info": {
   "codemirror_mode": {
    "name": "ipython",
    "version": 3
   },
   "file_extension": ".py",
   "mimetype": "text/x-python",
   "name": "python",
   "nbconvert_exporter": "python",
   "pygments_lexer": "ipython3",
   "version": "3.10.6"
  },
  "vscode": {
   "interpreter": {
    "hash": "916dbcbb3f70747c44a77c7bcd40155683ae19c65e1c03b4aa3499c5328201f1"
   }
  }
 },
 "nbformat": 4,
 "nbformat_minor": 2
}
