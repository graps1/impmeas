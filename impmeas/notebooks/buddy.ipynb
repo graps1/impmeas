{
 "cells": [
  {
   "cell_type": "code",
   "execution_count": 3,
   "metadata": {},
   "outputs": [],
   "source": [
    "from utils import time_op\n",
    "import impmeas as imp\n",
    "\n",
    "solver = imp.GPMC()\n",
    "imp.set_pmc_solver(solver)"
   ]
  },
  {
   "cell_type": "code",
   "execution_count": 4,
   "metadata": {},
   "outputs": [
    {
     "name": "stdout",
     "output_type": "stream",
     "text": [
      "[00000.0510 ms / 0.0001 s / 0.0000 min] parse\n"
     ]
    }
   ],
   "source": [
    "# tests the model counting capabilities of GPMC and BuDDy \n",
    "\n",
    "n,m,k = 3, 3, 1 \n",
    "formula1 = ('&', ('&', ('V', 'x1'), ('~', ('V', 'x2'))), ('~', ('V', 'x3')))\n",
    "formula2 = (\"C\", \"0\") # ('&', ('~', ('V', 'x3')), ('~', ('V', 'x3')))\n",
    "vars = [f\"x{idx+1}\" for idx in range(n)]\n",
    "\n",
    "# satcount_gpmc = time_op(solver.satcount)(cn<f)\n",
    "# print(f\"GPMC satcount = {satcount_gpmc}\")\n",
    "\n",
    "imp.buddy_initialize(vars, nodenum=1<<20, cachesize=1<<15)\n",
    "f = time_op(imp.BuddyNode.parse)(formula1)\n",
    "\n",
    "imp.buddy_initialize(vars, nodenum=1<<20, cachesize=1<<15)\n",
    "g = imp.BuddyNode.false\n",
    "# f = time_op(imp.BuddyNode.parse)(formula2)\n",
    "# from time import sleep \n",
    "# sleep(0.5)\n",
    "# satcount_bdd = time_op(f.expectation)() * 2**n\n",
    "# print(f\"BDD satcount = {satcount_bdd}\")"
   ]
  },
  {
   "cell_type": "code",
   "execution_count": 1,
   "metadata": {},
   "outputs": [
    {
     "ename": "NameError",
     "evalue": "name 'imp' is not defined",
     "output_type": "error",
     "traceback": [
      "\u001b[0;31m---------------------------------------------------------------------------\u001b[0m",
      "\u001b[0;31mNameError\u001b[0m                                 Traceback (most recent call last)",
      "Input \u001b[0;32mIn [1]\u001b[0m, in \u001b[0;36m<cell line: 3>\u001b[0;34m()\u001b[0m\n\u001b[1;32m      1\u001b[0m n,clauses_to_variables,k \u001b[38;5;241m=\u001b[39m \u001b[38;5;241m10\u001b[39m, \u001b[38;5;241m4.5\u001b[39m, \u001b[38;5;241m7\u001b[39m\n\u001b[1;32m      2\u001b[0m m \u001b[38;5;241m=\u001b[39m \u001b[38;5;28mint\u001b[39m(n\u001b[38;5;241m*\u001b[39mclauses_to_variables)\n\u001b[0;32m----> 3\u001b[0m cnf, formula \u001b[38;5;241m=\u001b[39m \u001b[43mimp\u001b[49m\u001b[38;5;241m.\u001b[39mrandom_k_cnf(n,m,k)\n\u001b[1;32m      4\u001b[0m \u001b[38;5;28mvars\u001b[39m \u001b[38;5;241m=\u001b[39m [\u001b[38;5;124mf\u001b[39m\u001b[38;5;124m\"\u001b[39m\u001b[38;5;124mx\u001b[39m\u001b[38;5;132;01m{\u001b[39;00midx\u001b[38;5;241m+\u001b[39m\u001b[38;5;241m1\u001b[39m\u001b[38;5;132;01m}\u001b[39;00m\u001b[38;5;124m\"\u001b[39m \u001b[38;5;28;01mfor\u001b[39;00m idx \u001b[38;5;129;01min\u001b[39;00m \u001b[38;5;28mrange\u001b[39m(n)]\n",
      "\u001b[0;31mNameError\u001b[0m: name 'imp' is not defined"
     ]
    }
   ],
   "source": [
    "n,clauses_to_variables,k = 10, 4.5, 7\n",
    "m = int(n*clauses_to_variables)\n",
    "cnf, formula = imp.random_k_cnf(n,m,k)\n",
    "vars = [f\"x{idx+1}\" for idx in range(n)]"
   ]
  },
  {
   "cell_type": "code",
   "execution_count": 2,
   "metadata": {},
   "outputs": [
    {
     "ename": "NameError",
     "evalue": "name 'imp' is not defined",
     "output_type": "error",
     "traceback": [
      "\u001b[0;31m---------------------------------------------------------------------------\u001b[0m",
      "\u001b[0;31mNameError\u001b[0m                                 Traceback (most recent call last)",
      "Input \u001b[0;32mIn [2]\u001b[0m, in \u001b[0;36m<cell line: 2>\u001b[0;34m()\u001b[0m\n\u001b[1;32m      1\u001b[0m \u001b[38;5;28;01mimport\u001b[39;00m \u001b[38;5;21;01mimpmeas\u001b[39;00m\u001b[38;5;21;01m.\u001b[39;00m\u001b[38;5;21;01mbdds\u001b[39;00m \u001b[38;5;28;01mas\u001b[39;00m \u001b[38;5;21;01mbdd\u001b[39;00m \n\u001b[0;32m----> 2\u001b[0m \u001b[43mimp\u001b[49m\u001b[38;5;241m.\u001b[39mformulas\u001b[38;5;241m.\u001b[39mset_buddy_context(\u001b[38;5;28mvars\u001b[39m)\n\u001b[1;32m      4\u001b[0m x \u001b[38;5;241m=\u001b[39m \u001b[38;5;124m\"\u001b[39m\u001b[38;5;124mx1\u001b[39m\u001b[38;5;124m\"\u001b[39m\n\u001b[1;32m      5\u001b[0m f \u001b[38;5;241m=\u001b[39m time_op(imp\u001b[38;5;241m.\u001b[39mBuddyNode\u001b[38;5;241m.\u001b[39mparse)(formula)\n",
      "\u001b[0;31mNameError\u001b[0m: name 'imp' is not defined"
     ]
    }
   ],
   "source": [
    "import impmeas.bdds as bdd \n",
    "imp.formulas.set_buddy_context(vars)\n",
    "\n",
    "x = \"x1\"\n",
    "f = time_op(imp.BuddyNode.parse)(formula)\n",
    "print(f\"bdd size = {f.nodecount}\")\n",
    "blame = time_op(imp.blame)(f, x, rho=lambda x: 1/(x+1), cutoff=1e-4, modified=True, debug=True)\n",
    "infl = time_op(imp.influence)(f, x)\n",
    "print(f\"influence {infl:.5f}, {blame:.5f} <= blame\")"
   ]
  },
  {
   "cell_type": "code",
   "execution_count": 5,
   "metadata": {},
   "outputs": [
    {
     "name": "stdout",
     "output_type": "stream",
     "text": [
      "[00559.7110 ms / 0.5597 s / 0.0093 min] parse\n",
      "=== COMPUTING BLAME for x1 in Formula with size 1762 ===\n",
      "k=0 size of cnf: 1270 d result=0.0938 max increase possible=0.4531 \n",
      "k=1 size of cnf: 1270 d result=0.2061 max increase possible=0.1647 \n",
      "k=2 size of cnf: 1270 d result=0.1426 max increase possible=0.0166 \n",
      "k=3 size of cnf: 1270 d result=0.0166 max increase possible=0.0000 \n",
      "stopped earlier because cannot improve above cutoff=0.0001.\n",
      "current value: 0.4590, can only be increased by 0.0000.\n",
      "=== DONE ===\n",
      "[00285.8639 ms / 0.2859 s / 0.0048 min] blame\n",
      "[00147.8815 ms / 0.1479 s / 0.0025 min] influence\n",
      "influence 0.09375, 0.45898 <= blame\n"
     ]
    }
   ],
   "source": [
    "x = \"x1\"\n",
    "f = time_op(imp.Formula.parse)(formula)\n",
    "blame = time_op(imp.blame)(f, x, rho=lambda x: 1/(x+1), cutoff=1e-4, modified=True, debug=True)\n",
    "infl = (time_op)(imp.influence)(f, x)\n",
    "print(f\"influence {infl:.5f}, {blame:.5f} <= blame\")"
   ]
  },
  {
   "cell_type": "code",
   "execution_count": 6,
   "metadata": {},
   "outputs": [
    {
     "name": "stdout",
     "output_type": "stream",
     "text": [
      "[00893.3971 ms / 0.8934 s / 0.0149 min] parse\n",
      "[01373.5821 ms / 1.3736 s / 0.0229 min] blame\n",
      "0.63525 <= blame\n",
      "[00013.1588 ms / 0.0132 s / 0.0002 min] influence\n",
      "influence = 0.34375\n",
      "[06571.2042 ms / 6.5712 s / 0.1095 min] <lambda>\n",
      "hammer = 0.07769\n",
      "[00746.5584 ms / 0.7466 s / 0.0124 min] dominating_cgm\n",
      "[00687.0615 ms / 0.6871 s / 0.0115 min] rectifying_cgm\n",
      "====================================================================================================\n",
      "[00619.1201 ms / 0.6191 s / 0.0103 min] parse\n",
      "bdd size = 94\n",
      "=== COMPUTING BLAME for x1 in <impmeas.formulas.buddy.BuddyNode object at 0x7f3c51f199c0> ===\n",
      "k=0 d result=0.3438 max increase possible=0.3281 \n",
      "k=1 d result=0.2227 max increase possible=0.0703 \n",
      "k=2 d result=0.0645 max increase possible=0.0044 \n",
      "k=3 d result=0.0044 max increase possible=0.0000 \n",
      "stopped earlier because cannot improve above cutoff=0.0001.\n",
      "current value: 0.6353, can only be increased by 0.0000.\n",
      "=== DONE ===\n",
      "[00163.1837 ms / 0.1632 s / 0.0027 min] blame\n",
      "[00000.0658 ms / 0.0001 s / 0.0000 min] influence\n",
      "influence 0.34375, 0.63525 <= blame\n"
     ]
    }
   ],
   "source": [
    "\n",
    "n,clauses_to_variables,k = 10, 4.5, 7\n",
    "m = int(n*clauses_to_variables)\n",
    "cnf, formula = imp.random_k_cnf(n,m,k)\n",
    "vars = [f\"x{idx+1}\" for idx in range(n)]\n",
    "x = \"x1\"\n",
    "\n",
    "f = time_op(imp.Table.parse)(formula)\n",
    "blame = time_op(imp.blame)(f, x, rho=lambda x: 1/(x+1), cutoff=1e-4, debug=False)\n",
    "print(f\"{blame:.5f} <= blame\")\n",
    "infl = time_op(imp.influence)(f, x)\n",
    "print(f\"influence = {infl:.5f}\")\n",
    "hammer = time_op(lambda f,x: imp.banzhaf(imp.hkr_cgm(f),x))(f, x)\n",
    "print(f\"hammer = {hammer:.5f}\")\n",
    "omega = time_op(imp.dominating_cgm)(f)\n",
    "upsilon = time_op(imp.rectifying_cgm)(f)\n",
    "\n",
    "print(\"=\"*100)\n",
    "imp.formulas.set_buddy_context(vars)\n",
    "\n",
    "f = time_op(imp.BuddyNode.parse)(formula)\n",
    "print(f\"bdd size = {f.nodecount}\")\n",
    "blame = time_op(imp.blame)(f, x, rho=lambda x: 1/(x+1), cutoff=1e-4, debug=True)\n",
    "infl = time_op(imp.influence)(f, x)\n",
    "print(f\"influence {infl:.5f}, {blame:.5f} <= blame\")\n"
   ]
  },
  {
   "cell_type": "markdown",
   "metadata": {},
   "source": []
  }
 ],
 "metadata": {
  "kernelspec": {
   "display_name": "Python 3 (ipykernel)",
   "language": "python",
   "name": "python3"
  },
  "language_info": {
   "codemirror_mode": {
    "name": "ipython",
    "version": 3
   },
   "file_extension": ".py",
   "mimetype": "text/x-python",
   "name": "python",
   "nbconvert_exporter": "python",
   "pygments_lexer": "ipython3",
   "version": "3.10.6"
  },
  "vscode": {
   "interpreter": {
    "hash": "916dbcbb3f70747c44a77c7bcd40155683ae19c65e1c03b4aa3499c5328201f1"
   }
  }
 },
 "nbformat": 4,
 "nbformat_minor": 2
}
