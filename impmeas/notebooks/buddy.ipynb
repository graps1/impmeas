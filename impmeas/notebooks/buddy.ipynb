{
 "cells": [
  {
   "cell_type": "code",
   "execution_count": 2,
   "metadata": {},
   "outputs": [],
   "source": [
    "from utils import time_op\n",
    "import impmeas as imp"
   ]
  },
  {
   "cell_type": "code",
   "execution_count": 3,
   "metadata": {},
   "outputs": [
    {
     "name": "stdout",
     "output_type": "stream",
     "text": [
      "[00007.0219 ms / 0.0070 s / 0.0001 min] satcount\n",
      "GPMC satcount = 223\n",
      "[00072.1278 ms / 0.0721 s / 0.0012 min] parse\n",
      "[00000.0062 ms / 0.0000 s / 0.0000 min] expectation\n",
      "BDD satcount = 223.0\n"
     ]
    }
   ],
   "source": [
    "# tests the model counting capabilities of SharpSAT-TD and Buddy\n",
    "\n",
    "n,m,k = 8, 10, 7\n",
    "cnf, formula = imp.random_k_cnf(n,m,k)\n",
    "vars = [f\"x{idx}\" for idx in range(1, n+1)]\n",
    "\n",
    "solver = imp.formulas.GPMC()\n",
    "satcount_gpmc = time_op(solver.satcount)(cnf)\n",
    "print(f\"GPMC satcount = {satcount_gpmc}\")\n",
    "\n",
    "with imp.formulas.BuddyContext(vars) as ctx:\n",
    "    imp.formulas.set_buddy_context(ctx)\n",
    "    f = time_op(imp.BuddyNode.parse)(formula)\n",
    "    satcount_bdd = time_op(f.expectation)() * 2**n\n",
    "    print(f\"BDD satcount = {satcount_bdd}\")\n",
    "    del f"
   ]
  },
  {
   "cell_type": "code",
   "execution_count": 4,
   "metadata": {},
   "outputs": [],
   "source": [
    "n,clauses_to_variables,k = 15, 4.5, 7\n",
    "m = int(n*clauses_to_variables)\n",
    "cnf, formula = imp.random_k_cnf(n,m,k)\n",
    "vars = [f\"x{idx+1}\" for idx in range(n)]"
   ]
  },
  {
   "cell_type": "code",
   "execution_count": 5,
   "metadata": {},
   "outputs": [
    {
     "name": "stdout",
     "output_type": "stream",
     "text": [
      "[00983.3860 ms / 0.9834 s / 0.0164 min] parse\n",
      "bdd size = 856\n",
      "=== COMPUTING BLAME for x1 in <impmeas.formulas.buddy.BuddyNode object at 0x7f9211499c00> ===\n",
      "k=0 d result=0.2319 max increase possible=0.3840 \n",
      "k=1 d result=0.2067 max increase possible=0.1182 \n",
      "k=2 d result=0.1043 max increase possible=0.0105 \n",
      "k=3 d result=0.0103 max increase possible=0.0001 \n",
      "k=4 d result=0.0001 max increase possible=0.0000 \n",
      "stopped earlier because cannot improve above cutoff.\n",
      "current value: 0.5533, can be increased by 0.0000 <= 0.0001.\n",
      "=== DONE ===\n",
      "[10905.8199 ms / 10.9058 s / 0.1818 min] blame\n",
      "[00000.0699 ms / 0.0001 s / 0.0000 min] influence\n",
      "influence 0.23193, 0.55332 <= blame\n"
     ]
    }
   ],
   "source": [
    "import impmeas.bdds as bdd \n",
    "\n",
    "with imp.formulas.BuddyContext(vars) as ctx:\n",
    "    imp.formulas.set_buddy_context(ctx)\n",
    "    x = \"x1\"\n",
    "    f = time_op(imp.BuddyNode.parse)(formula)\n",
    "    print(f\"bdd size = {f.nodecount}\")\n",
    "    blame = time_op(imp.blame)(f, x, rho=lambda x: 1/(x+1), cutoff=1e-4, debug=True)\n",
    "    infl = time_op(imp.influence)(f, x)\n",
    "    print(f\"influence {infl:.5f}, {blame:.5f} <= blame\")\n",
    "    del f"
   ]
  },
  {
   "cell_type": "code",
   "execution_count": 6,
   "metadata": {},
   "outputs": [
    {
     "name": "stdout",
     "output_type": "stream",
     "text": [
      "[01081.4509 ms / 1.0815 s / 0.0180 min] parse\n",
      "[00212.5692 ms / 0.2126 s / 0.0035 min] influence\n",
      "=== COMPUTING BLAME for x1 in Formula with size 2774 ===\n",
      "k=0 size of cnf: 3079 d result=0.2319 max increase possible=0.3840 \n",
      "k=1 size of cnf: 3130 d result=0.2067 max increase possible=0.1182 \n",
      "k=2 size of cnf: 3177 d result=0.1043 max increase possible=0.0105 \n",
      "k=3 size of cnf: 3220 d result=0.0103 max increase possible=0.0001 \n",
      "k=4 size of cnf: 3259 d result=0.0001 max increase possible=0.0000 \n",
      "stopped earlier because cannot improve above cutoff.\n",
      "current value: 0.5533, can be increased by 0.0000 <= 0.0001.\n",
      "=== DONE ===\n",
      "[05531.7063 ms / 5.5317 s / 0.0922 min] blame\n",
      "influence 0.23193, 0.55332 <= blame\n"
     ]
    }
   ],
   "source": [
    "solver = imp.formulas.GPMC(cs=20000)\n",
    "imp.formulas.set_pmc_solver(solver)\n",
    "f = time_op(imp.Formula.parse)(formula)\n",
    "x = \"x1\"\n",
    "infl = (time_op)(imp.influence)(f, x)\n",
    "blame = time_op(imp.blame)(f, x, rho=lambda x: 1/(x+1), cutoff=1e-4, debug=True)\n",
    "print(f\"influence {infl:.5f}, {blame:.5f} <= blame\")"
   ]
  },
  {
   "cell_type": "code",
   "execution_count": 9,
   "metadata": {},
   "outputs": [
    {
     "name": "stdout",
     "output_type": "stream",
     "text": [
      "[00924.0031 ms / 0.9240 s / 0.0154 min] parse\n",
      "[01155.3473 ms / 1.1553 s / 0.0193 min] blame\n",
      "0.65894 <= blame\n",
      "[00013.2289 ms / 0.0132 s / 0.0002 min] influence\n",
      "influence = 0.38281\n",
      "[06540.7891 ms / 6.5408 s / 0.1090 min] <lambda>\n",
      "hammer = 0.11516\n",
      "[00681.9389 ms / 0.6819 s / 0.0114 min] dominating_cgm\n",
      "[00558.7838 ms / 0.5588 s / 0.0093 min] rectifying_cgm\n",
      "====================================================================================================\n",
      "[00537.9312 ms / 0.5379 s / 0.0090 min] parse\n",
      "bdd size = 96\n",
      "=== COMPUTING BLAME for x1 in <impmeas.formulas.buddy.BuddyNode object at 0x7f91f29501f0> ===\n",
      "k=0 d result=0.3828 max increase possible=0.3086 \n",
      "k=1 d result=0.2129 max increase possible=0.0638 \n",
      "k=2 d result=0.0615 max increase possible=0.0017 \n",
      "k=3 d result=0.0017 max increase possible=0.0000 \n",
      "stopped earlier because cannot improve above cutoff.\n",
      "current value: 0.6589, can be increased by 0.0000 <= 0.0001.\n",
      "=== DONE ===\n",
      "[00197.4239 ms / 0.1974 s / 0.0033 min] blame\n",
      "[00000.0386 ms / 0.0000 s / 0.0000 min] influence\n",
      "influence 0.38281, 0.65894 <= blame\n"
     ]
    }
   ],
   "source": [
    "\n",
    "n,clauses_to_variables,k = 10, 4.5, 7\n",
    "m = int(n*clauses_to_variables)\n",
    "cnf, formula = imp.random_k_cnf(n,m,k)\n",
    "vars = [f\"x{idx+1}\" for idx in range(n)]\n",
    "x = \"x1\"\n",
    "\n",
    "f = time_op(imp.Table.parse)(formula)\n",
    "blame = time_op(imp.blame)(f, x, rho=lambda x: 1/(x+1), cutoff=1e-4, debug=False)\n",
    "print(f\"{blame:.5f} <= blame\")\n",
    "infl = time_op(imp.influence)(f, x)\n",
    "print(f\"influence = {infl:.5f}\")\n",
    "hammer = time_op(lambda f,x: imp.banzhaf(imp.hkr_cgm(f),x))(f, x)\n",
    "print(f\"hammer = {hammer:.5f}\")\n",
    "omega = time_op(imp.dominating_cgm)(f)\n",
    "upsilon = time_op(imp.rectifying_cgm)(f)\n",
    "\n",
    "print(\"=\"*100)\n",
    "\n",
    "with imp.formulas.BuddyContext(vars) as ctx:\n",
    "    imp.formulas.set_buddy_context(ctx)\n",
    "    f = time_op(imp.BuddyNode.parse)(formula)\n",
    "    print(f\"bdd size = {f.nodecount}\")\n",
    "    blame = time_op(imp.blame)(f, x, rho=lambda x: 1/(x+1), cutoff=1e-4, debug=True)\n",
    "    infl = time_op(imp.influence)(f, x)\n",
    "    print(f\"influence {infl:.5f}, {blame:.5f} <= blame\")\n"
   ]
  },
  {
   "cell_type": "markdown",
   "metadata": {},
   "source": []
  }
 ],
 "metadata": {
  "kernelspec": {
   "display_name": "Python 3 (ipykernel)",
   "language": "python",
   "name": "python3"
  },
  "language_info": {
   "codemirror_mode": {
    "name": "ipython",
    "version": 3
   },
   "file_extension": ".py",
   "mimetype": "text/x-python",
   "name": "python",
   "nbconvert_exporter": "python",
   "pygments_lexer": "ipython3",
   "version": "3.10.6"
  },
  "vscode": {
   "interpreter": {
    "hash": "916dbcbb3f70747c44a77c7bcd40155683ae19c65e1c03b4aa3499c5328201f1"
   }
  }
 },
 "nbformat": 4,
 "nbformat_minor": 2
}
