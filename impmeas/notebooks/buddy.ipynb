{
 "cells": [
  {
   "cell_type": "code",
   "execution_count": 1,
   "metadata": {},
   "outputs": [],
   "source": [
    "from utils import time_op\n",
    "import impmeas as imp\n",
    "\n",
    "solver = imp.formulas.GPMC()\n",
    "imp.formulas.set_pmc_solver(solver)"
   ]
  },
  {
   "cell_type": "code",
   "execution_count": 2,
   "metadata": {},
   "outputs": [
    {
     "name": "stdout",
     "output_type": "stream",
     "text": [
      "[00007.9231 ms / 0.0079 s / 0.0001 min] satcount\n",
      "GPMC satcount = 252\n",
      "[00076.3195 ms / 0.0763 s / 0.0013 min] parse\n",
      "[00000.0069 ms / 0.0000 s / 0.0000 min] expectation\n",
      "BDD satcount = 252.0\n"
     ]
    }
   ],
   "source": [
    "# tests the model counting capabilities of SharpSAT-TD and Buddy\n",
    "\n",
    "n,m,k = 8, 10, 7\n",
    "cnf, formula = imp.random_k_cnf(n,m,k)\n",
    "vars = [f\"x{idx}\" for idx in range(1, n+1)]\n",
    "\n",
    "satcount_gpmc = time_op(solver.satcount)(cnf)\n",
    "print(f\"GPMC satcount = {satcount_gpmc}\")\n",
    "\n",
    "imp.formulas.set_buddy_context(vars)\n",
    "f = time_op(imp.BuddyNode.parse)(formula)\n",
    "satcount_bdd = time_op(f.expectation)() * 2**n\n",
    "print(f\"BDD satcount = {satcount_bdd}\")"
   ]
  },
  {
   "cell_type": "code",
   "execution_count": 3,
   "metadata": {},
   "outputs": [],
   "source": [
    "n,clauses_to_variables,k = 10, 4.5, 7\n",
    "m = int(n*clauses_to_variables)\n",
    "cnf, formula = imp.random_k_cnf(n,m,k)\n",
    "vars = [f\"x{idx+1}\" for idx in range(n)]"
   ]
  },
  {
   "cell_type": "code",
   "execution_count": 4,
   "metadata": {},
   "outputs": [
    {
     "name": "stdout",
     "output_type": "stream",
     "text": [
      "[00530.4010 ms / 0.5304 s / 0.0088 min] parse\n",
      "bdd size = 118\n",
      "=== COMPUTING BLAME for x1 in <impmeas.formulas.buddy.BuddyNode object at 0x7f7fc4e2c580> ===\n",
      "k=0 d result=0.0938 max increase possible=0.4531 \n",
      "k=1 d result=0.2061 max increase possible=0.1647 \n",
      "k=2 d result=0.1426 max increase possible=0.0166 \n",
      "k=3 d result=0.0166 max increase possible=0.0000 \n",
      "stopped earlier because cannot improve above cutoff=0.0001.\n",
      "current value: 0.4590, can only be increased by 0.0000.\n",
      "=== DONE ===\n",
      "[00030.9410 ms / 0.0309 s / 0.0005 min] blame\n",
      "[00000.0408 ms / 0.0000 s / 0.0000 min] influence\n",
      "influence 0.09375, 0.45898 <= blame\n"
     ]
    }
   ],
   "source": [
    "import impmeas.bdds as bdd \n",
    "imp.formulas.set_buddy_context(vars)\n",
    "\n",
    "x = \"x1\"\n",
    "f = time_op(imp.BuddyNode.parse)(formula)\n",
    "print(f\"bdd size = {f.nodecount}\")\n",
    "blame = time_op(imp.blame)(f, x, rho=lambda x: 1/(x+1), cutoff=1e-4, modified=True, debug=True)\n",
    "infl = time_op(imp.influence)(f, x)\n",
    "print(f\"influence {infl:.5f}, {blame:.5f} <= blame\")"
   ]
  },
  {
   "cell_type": "code",
   "execution_count": 5,
   "metadata": {},
   "outputs": [
    {
     "name": "stdout",
     "output_type": "stream",
     "text": [
      "[00559.7110 ms / 0.5597 s / 0.0093 min] parse\n",
      "=== COMPUTING BLAME for x1 in Formula with size 1762 ===\n",
      "k=0 size of cnf: 1270 d result=0.0938 max increase possible=0.4531 \n",
      "k=1 size of cnf: 1270 d result=0.2061 max increase possible=0.1647 \n",
      "k=2 size of cnf: 1270 d result=0.1426 max increase possible=0.0166 \n",
      "k=3 size of cnf: 1270 d result=0.0166 max increase possible=0.0000 \n",
      "stopped earlier because cannot improve above cutoff=0.0001.\n",
      "current value: 0.4590, can only be increased by 0.0000.\n",
      "=== DONE ===\n",
      "[00285.8639 ms / 0.2859 s / 0.0048 min] blame\n",
      "[00147.8815 ms / 0.1479 s / 0.0025 min] influence\n",
      "influence 0.09375, 0.45898 <= blame\n"
     ]
    }
   ],
   "source": [
    "x = \"x1\"\n",
    "f = time_op(imp.Formula.parse)(formula)\n",
    "blame = time_op(imp.blame)(f, x, rho=lambda x: 1/(x+1), cutoff=1e-4, modified=True, debug=True)\n",
    "infl = (time_op)(imp.influence)(f, x)\n",
    "print(f\"influence {infl:.5f}, {blame:.5f} <= blame\")"
   ]
  },
  {
   "cell_type": "code",
   "execution_count": 6,
   "metadata": {},
   "outputs": [
    {
     "name": "stdout",
     "output_type": "stream",
     "text": [
      "[00893.3971 ms / 0.8934 s / 0.0149 min] parse\n",
      "[01373.5821 ms / 1.3736 s / 0.0229 min] blame\n",
      "0.63525 <= blame\n",
      "[00013.1588 ms / 0.0132 s / 0.0002 min] influence\n",
      "influence = 0.34375\n",
      "[06571.2042 ms / 6.5712 s / 0.1095 min] <lambda>\n",
      "hammer = 0.07769\n",
      "[00746.5584 ms / 0.7466 s / 0.0124 min] dominating_cgm\n",
      "[00687.0615 ms / 0.6871 s / 0.0115 min] rectifying_cgm\n",
      "====================================================================================================\n",
      "[00619.1201 ms / 0.6191 s / 0.0103 min] parse\n",
      "bdd size = 94\n",
      "=== COMPUTING BLAME for x1 in <impmeas.formulas.buddy.BuddyNode object at 0x7f3c51f199c0> ===\n",
      "k=0 d result=0.3438 max increase possible=0.3281 \n",
      "k=1 d result=0.2227 max increase possible=0.0703 \n",
      "k=2 d result=0.0645 max increase possible=0.0044 \n",
      "k=3 d result=0.0044 max increase possible=0.0000 \n",
      "stopped earlier because cannot improve above cutoff=0.0001.\n",
      "current value: 0.6353, can only be increased by 0.0000.\n",
      "=== DONE ===\n",
      "[00163.1837 ms / 0.1632 s / 0.0027 min] blame\n",
      "[00000.0658 ms / 0.0001 s / 0.0000 min] influence\n",
      "influence 0.34375, 0.63525 <= blame\n"
     ]
    }
   ],
   "source": [
    "\n",
    "n,clauses_to_variables,k = 10, 4.5, 7\n",
    "m = int(n*clauses_to_variables)\n",
    "cnf, formula = imp.random_k_cnf(n,m,k)\n",
    "vars = [f\"x{idx+1}\" for idx in range(n)]\n",
    "x = \"x1\"\n",
    "\n",
    "f = time_op(imp.Table.parse)(formula)\n",
    "blame = time_op(imp.blame)(f, x, rho=lambda x: 1/(x+1), cutoff=1e-4, debug=False)\n",
    "print(f\"{blame:.5f} <= blame\")\n",
    "infl = time_op(imp.influence)(f, x)\n",
    "print(f\"influence = {infl:.5f}\")\n",
    "hammer = time_op(lambda f,x: imp.banzhaf(imp.hkr_cgm(f),x))(f, x)\n",
    "print(f\"hammer = {hammer:.5f}\")\n",
    "omega = time_op(imp.dominating_cgm)(f)\n",
    "upsilon = time_op(imp.rectifying_cgm)(f)\n",
    "\n",
    "print(\"=\"*100)\n",
    "imp.formulas.set_buddy_context(vars)\n",
    "\n",
    "f = time_op(imp.BuddyNode.parse)(formula)\n",
    "print(f\"bdd size = {f.nodecount}\")\n",
    "blame = time_op(imp.blame)(f, x, rho=lambda x: 1/(x+1), cutoff=1e-4, debug=True)\n",
    "infl = time_op(imp.influence)(f, x)\n",
    "print(f\"influence {infl:.5f}, {blame:.5f} <= blame\")\n"
   ]
  },
  {
   "cell_type": "markdown",
   "metadata": {},
   "source": []
  }
 ],
 "metadata": {
  "kernelspec": {
   "display_name": "Python 3 (ipykernel)",
   "language": "python",
   "name": "python3"
  },
  "language_info": {
   "codemirror_mode": {
    "name": "ipython",
    "version": 3
   },
   "file_extension": ".py",
   "mimetype": "text/x-python",
   "name": "python",
   "nbconvert_exporter": "python",
   "pygments_lexer": "ipython3",
   "version": "3.10.6 (main, Nov 14 2022, 16:10:14) [GCC 11.3.0]"
  },
  "vscode": {
   "interpreter": {
    "hash": "916dbcbb3f70747c44a77c7bcd40155683ae19c65e1c03b4aa3499c5328201f1"
   }
  }
 },
 "nbformat": 4,
 "nbformat_minor": 2
}
