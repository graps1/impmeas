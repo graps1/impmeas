{
 "cells": [
  {
   "cell_type": "code",
   "execution_count": 1,
   "metadata": {},
   "outputs": [],
   "source": [
    "from utils import time_op\n",
    "import impmeas as imp"
   ]
  },
  {
   "cell_type": "code",
   "execution_count": 2,
   "metadata": {},
   "outputs": [
    {
     "name": "stdout",
     "output_type": "stream",
     "text": [
      "[00010.0770 ms / 0.0101 s / 0.0002 min] satcount\n",
      "GPMC satcount = 248\n",
      "[00082.7005 ms / 0.0827 s / 0.0014 min] parse\n",
      "[00000.0057 ms / 0.0000 s / 0.0000 min] expectation\n",
      "BDD satcount = 248.0\n"
     ]
    }
   ],
   "source": [
    "# tests the model counting capabilities of SharpSAT-TD and Buddy\n",
    "\n",
    "n,m,k = 8, 10, 7\n",
    "cnf, formula = imp.random_k_cnf(n,m,k)\n",
    "vars = [f\"x{idx}\" for idx in range(1, n+1)]\n",
    "\n",
    "solver = imp.formulas.GPMC()\n",
    "satcount_gpmc = time_op(solver.satcount)(cnf)\n",
    "print(f\"GPMC satcount = {satcount_gpmc}\")\n",
    "\n",
    "with imp.formulas.BuddyContext(vars) as ctx:\n",
    "    imp.formulas.set_buddy_context(ctx)\n",
    "    f = time_op(imp.BuddyNode.parse)(formula)\n",
    "    satcount_bdd = time_op(f.expectation)() * 2**n\n",
    "    print(f\"BDD satcount = {satcount_bdd}\")\n",
    "    del f"
   ]
  },
  {
   "cell_type": "code",
   "execution_count": 6,
   "metadata": {},
   "outputs": [],
   "source": [
    "n,clauses_to_variables,k = 17, 4.5, 7\n",
    "m = int(n*clauses_to_variables)\n",
    "cnf, formula = imp.random_k_cnf(n,m,k)\n",
    "vars = [f\"x{idx+1}\" for idx in range(n)]"
   ]
  },
  {
   "cell_type": "code",
   "execution_count": 7,
   "metadata": {},
   "outputs": [
    {
     "name": "stdout",
     "output_type": "stream",
     "text": [
      "[01408.2460 ms / 1.4082 s / 0.0235 min] parse\n",
      "bdd size = 2525\n",
      "=== COMPUTING BLAME for x1 in <impmeas.formulas.buddy.BuddyNode object at 0x7f85dde539d0> ===\n",
      "k=0 d result=0.5239 max increase possible=0.2380 \n",
      "k=1 d result=0.0931 max increase possible=0.0967 \n",
      "k=2 d result=0.0647 max increase possible=0.0240 \n",
      "k=3 d result=0.0210 max increase possible=0.0024 \n",
      "k=4 d result=0.0023 max increase possible=0.0001 \n",
      "stopped earlier because cannot improve above cutoff.\n",
      "current value: 0.7049, can be increased by 0.0001 <= 0.0001.\n",
      "=== DONE ===\n",
      "[06414.0983 ms / 6.4141 s / 0.1069 min] blame\n",
      "[00000.5341 ms / 0.0005 s / 0.0000 min] influence\n",
      "influence 0.14632, 0.70493 <= blame\n"
     ]
    }
   ],
   "source": [
    "import impmeas.bdds as bdd \n",
    "\n",
    "with imp.formulas.BuddyContext(vars) as ctx:\n",
    "    imp.formulas.set_buddy_context(ctx)\n",
    "    x = \"x1\"\n",
    "    f = time_op(imp.BuddyNode.parse)(formula)\n",
    "    print(f\"bdd size = {f.nodecount}\")\n",
    "    blame = time_op(imp.blame)(f, x, rho=lambda x: 1/(x+1), cutoff=1e-4, debug=True)\n",
    "    infl = time_op(imp.influence)(f, x)\n",
    "    print(f\"influence {infl:.5f}, {blame:.5f} <= blame\")\n",
    "    del f"
   ]
  },
  {
   "cell_type": "code",
   "execution_count": 8,
   "metadata": {},
   "outputs": [
    {
     "name": "stdout",
     "output_type": "stream",
     "text": [
      "[01433.6789 ms / 1.4337 s / 0.0239 min] parse\n",
      "[00271.9815 ms / 0.2720 s / 0.0045 min] influence\n",
      "=== COMPUTING BLAME for x1 in Formula with size 3161 ===\n",
      "k=0 size of cnf: 3497 d result=0.1463 max increase possible=0.4268 \n",
      "k=1 size of cnf: 3556 d result=0.1588 max increase possible=0.1787 \n",
      "k=2 size of cnf: 3611 d result=0.1241 max increase possible=0.0409 \n",
      "k=3 size of cnf: 3662 d result=0.0362 max increase possible=0.0038 \n",
      "k=4 size of cnf: 3709 d result=0.0037 max increase possible=0.0001 \n",
      "k=5 size of cnf: 3752 d result=0.0001 max increase possible=0.0000 \n",
      "stopped earlier because cannot improve above cutoff.\n",
      "current value: 0.4692, can be increased by 0.0000 <= 0.0001.\n",
      "=== DONE ===\n",
      "[22232.9073 ms / 22.2329 s / 0.3705 min] blame\n",
      "influence 0.14632, 0.46918 <= blame\n"
     ]
    }
   ],
   "source": [
    "solver = imp.formulas.GPMC(cs=20000)\n",
    "imp.formulas.set_pmc_solver(solver)\n",
    "f = time_op(imp.Formula.parse)(formula)\n",
    "x = \"x1\"\n",
    "infl = (time_op)(imp.influence)(f, x)\n",
    "blame = time_op(imp.blame)(f, x, rho=lambda x: 1/(x+1), cutoff=1e-4, debug=True)\n",
    "print(f\"influence {infl:.5f}, {blame:.5f} <= blame\")"
   ]
  },
  {
   "cell_type": "code",
   "execution_count": null,
   "metadata": {},
   "outputs": [
    {
     "name": "stdout",
     "output_type": "stream",
     "text": [
      "[00881.8030 ms / 0.8818 s / 0.0147 min] parse\n",
      "[01480.2790 ms / 1.4803 s / 0.0247 min] blame\n",
      "0.51475 <= blame\n",
      "[00012.7113 ms / 0.0127 s / 0.0002 min] influence\n",
      "influence = 0.19141\n",
      "[06570.6398 ms / 6.5706 s / 0.1095 min] <lambda>\n",
      "hammer = 0.03937\n",
      "[00849.1025 ms / 0.8491 s / 0.0142 min] dominating_cgm\n",
      "[00699.5080 ms / 0.6995 s / 0.0117 min] rectifying_cgm\n",
      "====================================================================================================\n"
     ]
    }
   ],
   "source": [
    "\n",
    "n,clauses_to_variables,k = 10, 4.5, 7\n",
    "m = int(n*clauses_to_variables)\n",
    "cnf, formula = imp.random_k_cnf(n,m,k)\n",
    "vars = [f\"x{idx+1}\" for idx in range(n)]\n",
    "x = \"x1\"\n",
    "\n",
    "f = time_op(imp.Table.parse)(formula)\n",
    "blame = time_op(imp.blame)(f, x, rho=lambda x: 1/(x+1), cutoff=1e-4, debug=False)\n",
    "print(f\"{blame:.5f} <= blame\")\n",
    "infl = time_op(imp.influence)(f, x)\n",
    "print(f\"influence = {infl:.5f}\")\n",
    "hammer = time_op(lambda f,x: imp.banzhaf(imp.hkr_cgm(f),x))(f, x)\n",
    "print(f\"hammer = {hammer:.5f}\")\n",
    "omega = time_op(imp.dominating_cgm)(f)\n",
    "upsilon = time_op(imp.rectifying_cgm)(f)\n",
    "\n",
    "print(\"=\"*100)\n",
    "\n",
    "with imp.formulas.BuddyContext(vars) as ctx:\n",
    "    imp.formulas.set_buddy_context(ctx)\n",
    "    f = time_op(imp.BuddyNode.parse)(formula)\n",
    "    print(f\"bdd size = {f.nodecount}\")\n",
    "    blame = time_op(imp.blame)(f, x, rho=lambda x: 1/(x+1), cutoff=1e-4, debug=True)\n",
    "    infl = time_op(imp.influence)(f, x)\n",
    "    print(f\"influence {infl:.5f}, {blame:.5f} <= blame\")\n"
   ]
  },
  {
   "cell_type": "markdown",
   "metadata": {},
   "source": []
  }
 ],
 "metadata": {
  "kernelspec": {
   "display_name": "Python 3 (ipykernel)",
   "language": "python",
   "name": "python3"
  },
  "language_info": {
   "codemirror_mode": {
    "name": "ipython",
    "version": 3
   },
   "file_extension": ".py",
   "mimetype": "text/x-python",
   "name": "python",
   "nbconvert_exporter": "python",
   "pygments_lexer": "ipython3",
   "version": "3.10.6"
  },
  "vscode": {
   "interpreter": {
    "hash": "916dbcbb3f70747c44a77c7bcd40155683ae19c65e1c03b4aa3499c5328201f1"
   }
  }
 },
 "nbformat": 4,
 "nbformat_minor": 2
}
